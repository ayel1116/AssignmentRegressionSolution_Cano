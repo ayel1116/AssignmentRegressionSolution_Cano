{
 "cells": [
  {
   "cell_type": "markdown",
   "metadata": {},
   "source": [
    "# Price Prediction using Regression"
   ]
  },
  {
   "cell_type": "markdown",
   "metadata": {},
   "source": [
    "This is a tickets pricing monitoring system. It scrapes tickets pricing data periodically and stores it in a database. Ticket pricing changes based on demand and time, and there can be significant difference in price. We are creating this product mainly with ourselves in mind. Users can set up alarms using an email, choosing an origin and destination (cities), time (date and hour range picker) choosing a price reduction over mean price, etc."
   ]
  },
  {
   "cell_type": "markdown",
   "metadata": {},
   "source": [
    "**Following is the description for columns in the dataset**<br>\n",
    "- insert_date: date and time when the price was collected and written in the database<br>\n",
    "- origin: origin city <br>\n",
    "- destination: destination city <br>\n",
    "- start_date: train departure time<br>\n",
    "- end_date: train arrival time<br>\n",
    "- train_type: train service name<br>\n",
    "- price: price<br>\n",
    "- train_class: ticket class, tourist, business, etc.<br>\n",
    "- fare: ticket fare, round trip, etc <br>"
   ]
  },
  {
   "cell_type": "code",
   "execution_count": 1,
   "metadata": {},
   "outputs": [],
   "source": [
    "import pandas as pd\n",
    "import numpy as np\n",
    "import seaborn as sns\n",
    "import matplotlib.pyplot as plt\n",
    "\n",
    "%matplotlib inline\n",
    "sns.set()"
   ]
  },
  {
   "cell_type": "markdown",
   "metadata": {},
   "source": [
    "#### **Task 1: Import Dataset and create a copy of that dataset**"
   ]
  },
  {
   "cell_type": "code",
   "execution_count": 2,
   "metadata": {},
   "outputs": [],
   "source": [
    "#write code here\n",
    "data = pd.read_csv(\"data1.csv\")\n",
    "df = data.copy()"
   ]
  },
  {
   "cell_type": "markdown",
   "metadata": {},
   "source": [
    "#### **Task 2: Display first five rows** "
   ]
  },
  {
   "cell_type": "code",
   "execution_count": 3,
   "metadata": {},
   "outputs": [
    {
     "data": {
      "text/html": [
       "<div>\n",
       "<style scoped>\n",
       "    .dataframe tbody tr th:only-of-type {\n",
       "        vertical-align: middle;\n",
       "    }\n",
       "\n",
       "    .dataframe tbody tr th {\n",
       "        vertical-align: top;\n",
       "    }\n",
       "\n",
       "    .dataframe thead th {\n",
       "        text-align: right;\n",
       "    }\n",
       "</style>\n",
       "<table border=\"1\" class=\"dataframe\">\n",
       "  <thead>\n",
       "    <tr style=\"text-align: right;\">\n",
       "      <th></th>\n",
       "      <th>Unnamed: 0</th>\n",
       "      <th>insert_date</th>\n",
       "      <th>origin</th>\n",
       "      <th>destination</th>\n",
       "      <th>start_date</th>\n",
       "      <th>end_date</th>\n",
       "      <th>train_type</th>\n",
       "      <th>price</th>\n",
       "      <th>train_class</th>\n",
       "      <th>fare</th>\n",
       "    </tr>\n",
       "  </thead>\n",
       "  <tbody>\n",
       "    <tr>\n",
       "      <th>0</th>\n",
       "      <td>702</td>\n",
       "      <td>2019-04-19 05:37:35</td>\n",
       "      <td>PONFERRADA</td>\n",
       "      <td>MADRID</td>\n",
       "      <td>2019-06-02 15:00:00</td>\n",
       "      <td>2019-06-02 19:42:00</td>\n",
       "      <td>MD-AVE</td>\n",
       "      <td>59.50</td>\n",
       "      <td>Turista con enlace</td>\n",
       "      <td>Flexible</td>\n",
       "    </tr>\n",
       "    <tr>\n",
       "      <th>1</th>\n",
       "      <td>703</td>\n",
       "      <td>2019-04-19 05:37:35</td>\n",
       "      <td>PONFERRADA</td>\n",
       "      <td>MADRID</td>\n",
       "      <td>2019-06-02 17:15:00</td>\n",
       "      <td>2019-06-02 23:03:00</td>\n",
       "      <td>MD-AVE</td>\n",
       "      <td>34.65</td>\n",
       "      <td>Turista con enlace</td>\n",
       "      <td>Promo +</td>\n",
       "    </tr>\n",
       "    <tr>\n",
       "      <th>2</th>\n",
       "      <td>704</td>\n",
       "      <td>2019-04-19 05:37:35</td>\n",
       "      <td>PONFERRADA</td>\n",
       "      <td>MADRID</td>\n",
       "      <td>2019-06-02 17:15:00</td>\n",
       "      <td>2019-06-02 23:10:00</td>\n",
       "      <td>MD-LD</td>\n",
       "      <td>39.95</td>\n",
       "      <td>Turista con enlace</td>\n",
       "      <td>Promo +</td>\n",
       "    </tr>\n",
       "    <tr>\n",
       "      <th>3</th>\n",
       "      <td>705</td>\n",
       "      <td>2019-04-19 05:37:35</td>\n",
       "      <td>PONFERRADA</td>\n",
       "      <td>MADRID</td>\n",
       "      <td>2019-06-02 17:15:00</td>\n",
       "      <td>2019-06-02 22:14:00</td>\n",
       "      <td>MD-AVE</td>\n",
       "      <td>40.60</td>\n",
       "      <td>Turista con enlace</td>\n",
       "      <td>Promo +</td>\n",
       "    </tr>\n",
       "    <tr>\n",
       "      <th>4</th>\n",
       "      <td>706</td>\n",
       "      <td>2019-04-19 05:37:35</td>\n",
       "      <td>PONFERRADA</td>\n",
       "      <td>MADRID</td>\n",
       "      <td>2019-06-02 18:55:00</td>\n",
       "      <td>2019-06-02 23:03:00</td>\n",
       "      <td>ALVIA</td>\n",
       "      <td>27.90</td>\n",
       "      <td>Turista</td>\n",
       "      <td>Promo</td>\n",
       "    </tr>\n",
       "  </tbody>\n",
       "</table>\n",
       "</div>"
      ],
      "text/plain": [
       "   Unnamed: 0          insert_date      origin destination  \\\n",
       "0         702  2019-04-19 05:37:35  PONFERRADA      MADRID   \n",
       "1         703  2019-04-19 05:37:35  PONFERRADA      MADRID   \n",
       "2         704  2019-04-19 05:37:35  PONFERRADA      MADRID   \n",
       "3         705  2019-04-19 05:37:35  PONFERRADA      MADRID   \n",
       "4         706  2019-04-19 05:37:35  PONFERRADA      MADRID   \n",
       "\n",
       "            start_date             end_date train_type  price  \\\n",
       "0  2019-06-02 15:00:00  2019-06-02 19:42:00     MD-AVE  59.50   \n",
       "1  2019-06-02 17:15:00  2019-06-02 23:03:00     MD-AVE  34.65   \n",
       "2  2019-06-02 17:15:00  2019-06-02 23:10:00      MD-LD  39.95   \n",
       "3  2019-06-02 17:15:00  2019-06-02 22:14:00     MD-AVE  40.60   \n",
       "4  2019-06-02 18:55:00  2019-06-02 23:03:00      ALVIA  27.90   \n",
       "\n",
       "          train_class      fare  \n",
       "0  Turista con enlace  Flexible  \n",
       "1  Turista con enlace   Promo +  \n",
       "2  Turista con enlace   Promo +  \n",
       "3  Turista con enlace   Promo +  \n",
       "4             Turista     Promo  "
      ]
     },
     "execution_count": 3,
     "metadata": {},
     "output_type": "execute_result"
    }
   ],
   "source": [
    "#write code here\n",
    "df.head()"
   ]
  },
  {
   "cell_type": "markdown",
   "metadata": {},
   "source": [
    "#### **Task 3: Drop 'unnamed: 0' column**"
   ]
  },
  {
   "cell_type": "code",
   "execution_count": 4,
   "metadata": {},
   "outputs": [
    {
     "data": {
      "text/plain": [
       "Index(['Unnamed: 0', 'insert_date', 'origin', 'destination', 'start_date',\n",
       "       'end_date', 'train_type', 'price', 'train_class', 'fare'],\n",
       "      dtype='object')"
      ]
     },
     "execution_count": 4,
     "metadata": {},
     "output_type": "execute_result"
    }
   ],
   "source": [
    "df.columns"
   ]
  },
  {
   "cell_type": "code",
   "execution_count": 5,
   "metadata": {},
   "outputs": [
    {
     "data": {
      "text/html": [
       "<div>\n",
       "<style scoped>\n",
       "    .dataframe tbody tr th:only-of-type {\n",
       "        vertical-align: middle;\n",
       "    }\n",
       "\n",
       "    .dataframe tbody tr th {\n",
       "        vertical-align: top;\n",
       "    }\n",
       "\n",
       "    .dataframe thead th {\n",
       "        text-align: right;\n",
       "    }\n",
       "</style>\n",
       "<table border=\"1\" class=\"dataframe\">\n",
       "  <thead>\n",
       "    <tr style=\"text-align: right;\">\n",
       "      <th></th>\n",
       "      <th>insert_date</th>\n",
       "      <th>origin</th>\n",
       "      <th>destination</th>\n",
       "      <th>start_date</th>\n",
       "      <th>end_date</th>\n",
       "      <th>train_type</th>\n",
       "      <th>price</th>\n",
       "      <th>train_class</th>\n",
       "      <th>fare</th>\n",
       "    </tr>\n",
       "  </thead>\n",
       "  <tbody>\n",
       "    <tr>\n",
       "      <th>0</th>\n",
       "      <td>2019-04-19 05:37:35</td>\n",
       "      <td>PONFERRADA</td>\n",
       "      <td>MADRID</td>\n",
       "      <td>2019-06-02 15:00:00</td>\n",
       "      <td>2019-06-02 19:42:00</td>\n",
       "      <td>MD-AVE</td>\n",
       "      <td>59.50</td>\n",
       "      <td>Turista con enlace</td>\n",
       "      <td>Flexible</td>\n",
       "    </tr>\n",
       "    <tr>\n",
       "      <th>1</th>\n",
       "      <td>2019-04-19 05:37:35</td>\n",
       "      <td>PONFERRADA</td>\n",
       "      <td>MADRID</td>\n",
       "      <td>2019-06-02 17:15:00</td>\n",
       "      <td>2019-06-02 23:03:00</td>\n",
       "      <td>MD-AVE</td>\n",
       "      <td>34.65</td>\n",
       "      <td>Turista con enlace</td>\n",
       "      <td>Promo +</td>\n",
       "    </tr>\n",
       "    <tr>\n",
       "      <th>2</th>\n",
       "      <td>2019-04-19 05:37:35</td>\n",
       "      <td>PONFERRADA</td>\n",
       "      <td>MADRID</td>\n",
       "      <td>2019-06-02 17:15:00</td>\n",
       "      <td>2019-06-02 23:10:00</td>\n",
       "      <td>MD-LD</td>\n",
       "      <td>39.95</td>\n",
       "      <td>Turista con enlace</td>\n",
       "      <td>Promo +</td>\n",
       "    </tr>\n",
       "    <tr>\n",
       "      <th>3</th>\n",
       "      <td>2019-04-19 05:37:35</td>\n",
       "      <td>PONFERRADA</td>\n",
       "      <td>MADRID</td>\n",
       "      <td>2019-06-02 17:15:00</td>\n",
       "      <td>2019-06-02 22:14:00</td>\n",
       "      <td>MD-AVE</td>\n",
       "      <td>40.60</td>\n",
       "      <td>Turista con enlace</td>\n",
       "      <td>Promo +</td>\n",
       "    </tr>\n",
       "    <tr>\n",
       "      <th>4</th>\n",
       "      <td>2019-04-19 05:37:35</td>\n",
       "      <td>PONFERRADA</td>\n",
       "      <td>MADRID</td>\n",
       "      <td>2019-06-02 18:55:00</td>\n",
       "      <td>2019-06-02 23:03:00</td>\n",
       "      <td>ALVIA</td>\n",
       "      <td>27.90</td>\n",
       "      <td>Turista</td>\n",
       "      <td>Promo</td>\n",
       "    </tr>\n",
       "    <tr>\n",
       "      <th>...</th>\n",
       "      <td>...</td>\n",
       "      <td>...</td>\n",
       "      <td>...</td>\n",
       "      <td>...</td>\n",
       "      <td>...</td>\n",
       "      <td>...</td>\n",
       "      <td>...</td>\n",
       "      <td>...</td>\n",
       "      <td>...</td>\n",
       "    </tr>\n",
       "    <tr>\n",
       "      <th>215904</th>\n",
       "      <td>2019-04-19 05:31:30</td>\n",
       "      <td>MADRID</td>\n",
       "      <td>SEVILLA</td>\n",
       "      <td>2019-06-01 17:00:00</td>\n",
       "      <td>2019-06-01 19:38:00</td>\n",
       "      <td>AVE</td>\n",
       "      <td>47.30</td>\n",
       "      <td>Turista</td>\n",
       "      <td>Promo</td>\n",
       "    </tr>\n",
       "    <tr>\n",
       "      <th>215905</th>\n",
       "      <td>2019-04-19 05:31:30</td>\n",
       "      <td>MADRID</td>\n",
       "      <td>SEVILLA</td>\n",
       "      <td>2019-06-01 18:00:00</td>\n",
       "      <td>2019-06-01 20:32:00</td>\n",
       "      <td>AVE</td>\n",
       "      <td>47.30</td>\n",
       "      <td>Turista</td>\n",
       "      <td>Promo</td>\n",
       "    </tr>\n",
       "    <tr>\n",
       "      <th>215906</th>\n",
       "      <td>2019-04-19 05:31:30</td>\n",
       "      <td>MADRID</td>\n",
       "      <td>SEVILLA</td>\n",
       "      <td>2019-06-01 19:00:00</td>\n",
       "      <td>2019-06-01 21:38:00</td>\n",
       "      <td>AVE</td>\n",
       "      <td>47.30</td>\n",
       "      <td>Turista</td>\n",
       "      <td>Promo</td>\n",
       "    </tr>\n",
       "    <tr>\n",
       "      <th>215907</th>\n",
       "      <td>2019-04-19 05:31:30</td>\n",
       "      <td>MADRID</td>\n",
       "      <td>SEVILLA</td>\n",
       "      <td>2019-06-01 20:35:00</td>\n",
       "      <td>2019-06-01 23:15:00</td>\n",
       "      <td>AVE</td>\n",
       "      <td>47.30</td>\n",
       "      <td>Turista</td>\n",
       "      <td>Promo</td>\n",
       "    </tr>\n",
       "    <tr>\n",
       "      <th>215908</th>\n",
       "      <td>2019-04-19 05:31:30</td>\n",
       "      <td>MADRID</td>\n",
       "      <td>SEVILLA</td>\n",
       "      <td>2019-06-01 21:25:00</td>\n",
       "      <td>2019-06-02 00:10:00</td>\n",
       "      <td>AV City</td>\n",
       "      <td>52.20</td>\n",
       "      <td>Turista Plus</td>\n",
       "      <td>Promo</td>\n",
       "    </tr>\n",
       "  </tbody>\n",
       "</table>\n",
       "<p>215909 rows × 9 columns</p>\n",
       "</div>"
      ],
      "text/plain": [
       "                insert_date      origin destination           start_date  \\\n",
       "0       2019-04-19 05:37:35  PONFERRADA      MADRID  2019-06-02 15:00:00   \n",
       "1       2019-04-19 05:37:35  PONFERRADA      MADRID  2019-06-02 17:15:00   \n",
       "2       2019-04-19 05:37:35  PONFERRADA      MADRID  2019-06-02 17:15:00   \n",
       "3       2019-04-19 05:37:35  PONFERRADA      MADRID  2019-06-02 17:15:00   \n",
       "4       2019-04-19 05:37:35  PONFERRADA      MADRID  2019-06-02 18:55:00   \n",
       "...                     ...         ...         ...                  ...   \n",
       "215904  2019-04-19 05:31:30      MADRID     SEVILLA  2019-06-01 17:00:00   \n",
       "215905  2019-04-19 05:31:30      MADRID     SEVILLA  2019-06-01 18:00:00   \n",
       "215906  2019-04-19 05:31:30      MADRID     SEVILLA  2019-06-01 19:00:00   \n",
       "215907  2019-04-19 05:31:30      MADRID     SEVILLA  2019-06-01 20:35:00   \n",
       "215908  2019-04-19 05:31:30      MADRID     SEVILLA  2019-06-01 21:25:00   \n",
       "\n",
       "                   end_date train_type  price         train_class      fare  \n",
       "0       2019-06-02 19:42:00     MD-AVE  59.50  Turista con enlace  Flexible  \n",
       "1       2019-06-02 23:03:00     MD-AVE  34.65  Turista con enlace   Promo +  \n",
       "2       2019-06-02 23:10:00      MD-LD  39.95  Turista con enlace   Promo +  \n",
       "3       2019-06-02 22:14:00     MD-AVE  40.60  Turista con enlace   Promo +  \n",
       "4       2019-06-02 23:03:00      ALVIA  27.90             Turista     Promo  \n",
       "...                     ...        ...    ...                 ...       ...  \n",
       "215904  2019-06-01 19:38:00        AVE  47.30             Turista     Promo  \n",
       "215905  2019-06-01 20:32:00        AVE  47.30             Turista     Promo  \n",
       "215906  2019-06-01 21:38:00        AVE  47.30             Turista     Promo  \n",
       "215907  2019-06-01 23:15:00        AVE  47.30             Turista     Promo  \n",
       "215908  2019-06-02 00:10:00    AV City  52.20        Turista Plus     Promo  \n",
       "\n",
       "[215909 rows x 9 columns]"
      ]
     },
     "execution_count": 5,
     "metadata": {},
     "output_type": "execute_result"
    }
   ],
   "source": [
    "#write code here\n",
    "df = df.drop(['Unnamed: 0'], axis=1)\n",
    "df"
   ]
  },
  {
   "cell_type": "markdown",
   "metadata": {},
   "source": [
    "#### **Task 4: Check the number of rows and columns**"
   ]
  },
  {
   "cell_type": "code",
   "execution_count": 6,
   "metadata": {},
   "outputs": [
    {
     "data": {
      "text/plain": [
       "(215909, 9)"
      ]
     },
     "execution_count": 6,
     "metadata": {},
     "output_type": "execute_result"
    }
   ],
   "source": [
    "#write code here\n",
    "df.shape"
   ]
  },
  {
   "cell_type": "markdown",
   "metadata": {},
   "source": [
    "#### **Task 5: Check data types of all columns**"
   ]
  },
  {
   "cell_type": "code",
   "execution_count": 7,
   "metadata": {},
   "outputs": [
    {
     "data": {
      "text/plain": [
       "insert_date     object\n",
       "origin          object\n",
       "destination     object\n",
       "start_date      object\n",
       "end_date        object\n",
       "train_type      object\n",
       "price          float64\n",
       "train_class     object\n",
       "fare            object\n",
       "dtype: object"
      ]
     },
     "execution_count": 7,
     "metadata": {},
     "output_type": "execute_result"
    }
   ],
   "source": [
    "#write code here\n",
    "df.dtypes"
   ]
  },
  {
   "cell_type": "markdown",
   "metadata": {},
   "source": [
    "#### **Task 6: Check summary statistics**"
   ]
  },
  {
   "cell_type": "code",
   "execution_count": 8,
   "metadata": {},
   "outputs": [
    {
     "data": {
      "text/html": [
       "<div>\n",
       "<style scoped>\n",
       "    .dataframe tbody tr th:only-of-type {\n",
       "        vertical-align: middle;\n",
       "    }\n",
       "\n",
       "    .dataframe tbody tr th {\n",
       "        vertical-align: top;\n",
       "    }\n",
       "\n",
       "    .dataframe thead th {\n",
       "        text-align: right;\n",
       "    }\n",
       "</style>\n",
       "<table border=\"1\" class=\"dataframe\">\n",
       "  <thead>\n",
       "    <tr style=\"text-align: right;\">\n",
       "      <th></th>\n",
       "      <th>price</th>\n",
       "    </tr>\n",
       "  </thead>\n",
       "  <tbody>\n",
       "    <tr>\n",
       "      <th>count</th>\n",
       "      <td>202321.000000</td>\n",
       "    </tr>\n",
       "    <tr>\n",
       "      <th>mean</th>\n",
       "      <td>56.723877</td>\n",
       "    </tr>\n",
       "    <tr>\n",
       "      <th>std</th>\n",
       "      <td>25.531787</td>\n",
       "    </tr>\n",
       "    <tr>\n",
       "      <th>min</th>\n",
       "      <td>16.600000</td>\n",
       "    </tr>\n",
       "    <tr>\n",
       "      <th>25%</th>\n",
       "      <td>28.350000</td>\n",
       "    </tr>\n",
       "    <tr>\n",
       "      <th>50%</th>\n",
       "      <td>53.400000</td>\n",
       "    </tr>\n",
       "    <tr>\n",
       "      <th>75%</th>\n",
       "      <td>76.300000</td>\n",
       "    </tr>\n",
       "    <tr>\n",
       "      <th>max</th>\n",
       "      <td>206.800000</td>\n",
       "    </tr>\n",
       "  </tbody>\n",
       "</table>\n",
       "</div>"
      ],
      "text/plain": [
       "               price\n",
       "count  202321.000000\n",
       "mean       56.723877\n",
       "std        25.531787\n",
       "min        16.600000\n",
       "25%        28.350000\n",
       "50%        53.400000\n",
       "75%        76.300000\n",
       "max       206.800000"
      ]
     },
     "execution_count": 8,
     "metadata": {},
     "output_type": "execute_result"
    }
   ],
   "source": [
    "#write code here\n",
    "df.describe()"
   ]
  },
  {
   "cell_type": "markdown",
   "metadata": {},
   "source": [
    "#### **Task 7: Check summary statistics of all columns, including object dataypes**"
   ]
  },
  {
   "cell_type": "code",
   "execution_count": 9,
   "metadata": {},
   "outputs": [
    {
     "data": {
      "text/html": [
       "<div>\n",
       "<style scoped>\n",
       "    .dataframe tbody tr th:only-of-type {\n",
       "        vertical-align: middle;\n",
       "    }\n",
       "\n",
       "    .dataframe tbody tr th {\n",
       "        vertical-align: top;\n",
       "    }\n",
       "\n",
       "    .dataframe thead th {\n",
       "        text-align: right;\n",
       "    }\n",
       "</style>\n",
       "<table border=\"1\" class=\"dataframe\">\n",
       "  <thead>\n",
       "    <tr style=\"text-align: right;\">\n",
       "      <th></th>\n",
       "      <th>insert_date</th>\n",
       "      <th>origin</th>\n",
       "      <th>destination</th>\n",
       "      <th>start_date</th>\n",
       "      <th>end_date</th>\n",
       "      <th>train_type</th>\n",
       "      <th>price</th>\n",
       "      <th>train_class</th>\n",
       "      <th>fare</th>\n",
       "    </tr>\n",
       "  </thead>\n",
       "  <tbody>\n",
       "    <tr>\n",
       "      <th>count</th>\n",
       "      <td>215909</td>\n",
       "      <td>215909</td>\n",
       "      <td>215909</td>\n",
       "      <td>215909</td>\n",
       "      <td>215909</td>\n",
       "      <td>215909</td>\n",
       "      <td>202321.000000</td>\n",
       "      <td>215266</td>\n",
       "      <td>215266</td>\n",
       "    </tr>\n",
       "    <tr>\n",
       "      <th>unique</th>\n",
       "      <td>30543</td>\n",
       "      <td>5</td>\n",
       "      <td>5</td>\n",
       "      <td>2231</td>\n",
       "      <td>2870</td>\n",
       "      <td>16</td>\n",
       "      <td>NaN</td>\n",
       "      <td>5</td>\n",
       "      <td>5</td>\n",
       "    </tr>\n",
       "    <tr>\n",
       "      <th>top</th>\n",
       "      <td>2019-05-09 15:02:02</td>\n",
       "      <td>MADRID</td>\n",
       "      <td>MADRID</td>\n",
       "      <td>2019-06-02 17:30:00</td>\n",
       "      <td>2019-06-02 23:03:00</td>\n",
       "      <td>AVE</td>\n",
       "      <td>NaN</td>\n",
       "      <td>Turista</td>\n",
       "      <td>Promo</td>\n",
       "    </tr>\n",
       "    <tr>\n",
       "      <th>freq</th>\n",
       "      <td>90</td>\n",
       "      <td>110440</td>\n",
       "      <td>105469</td>\n",
       "      <td>2089</td>\n",
       "      <td>1278</td>\n",
       "      <td>126577</td>\n",
       "      <td>NaN</td>\n",
       "      <td>164016</td>\n",
       "      <td>132065</td>\n",
       "    </tr>\n",
       "    <tr>\n",
       "      <th>mean</th>\n",
       "      <td>NaN</td>\n",
       "      <td>NaN</td>\n",
       "      <td>NaN</td>\n",
       "      <td>NaN</td>\n",
       "      <td>NaN</td>\n",
       "      <td>NaN</td>\n",
       "      <td>56.723877</td>\n",
       "      <td>NaN</td>\n",
       "      <td>NaN</td>\n",
       "    </tr>\n",
       "    <tr>\n",
       "      <th>std</th>\n",
       "      <td>NaN</td>\n",
       "      <td>NaN</td>\n",
       "      <td>NaN</td>\n",
       "      <td>NaN</td>\n",
       "      <td>NaN</td>\n",
       "      <td>NaN</td>\n",
       "      <td>25.531787</td>\n",
       "      <td>NaN</td>\n",
       "      <td>NaN</td>\n",
       "    </tr>\n",
       "    <tr>\n",
       "      <th>min</th>\n",
       "      <td>NaN</td>\n",
       "      <td>NaN</td>\n",
       "      <td>NaN</td>\n",
       "      <td>NaN</td>\n",
       "      <td>NaN</td>\n",
       "      <td>NaN</td>\n",
       "      <td>16.600000</td>\n",
       "      <td>NaN</td>\n",
       "      <td>NaN</td>\n",
       "    </tr>\n",
       "    <tr>\n",
       "      <th>25%</th>\n",
       "      <td>NaN</td>\n",
       "      <td>NaN</td>\n",
       "      <td>NaN</td>\n",
       "      <td>NaN</td>\n",
       "      <td>NaN</td>\n",
       "      <td>NaN</td>\n",
       "      <td>28.350000</td>\n",
       "      <td>NaN</td>\n",
       "      <td>NaN</td>\n",
       "    </tr>\n",
       "    <tr>\n",
       "      <th>50%</th>\n",
       "      <td>NaN</td>\n",
       "      <td>NaN</td>\n",
       "      <td>NaN</td>\n",
       "      <td>NaN</td>\n",
       "      <td>NaN</td>\n",
       "      <td>NaN</td>\n",
       "      <td>53.400000</td>\n",
       "      <td>NaN</td>\n",
       "      <td>NaN</td>\n",
       "    </tr>\n",
       "    <tr>\n",
       "      <th>75%</th>\n",
       "      <td>NaN</td>\n",
       "      <td>NaN</td>\n",
       "      <td>NaN</td>\n",
       "      <td>NaN</td>\n",
       "      <td>NaN</td>\n",
       "      <td>NaN</td>\n",
       "      <td>76.300000</td>\n",
       "      <td>NaN</td>\n",
       "      <td>NaN</td>\n",
       "    </tr>\n",
       "    <tr>\n",
       "      <th>max</th>\n",
       "      <td>NaN</td>\n",
       "      <td>NaN</td>\n",
       "      <td>NaN</td>\n",
       "      <td>NaN</td>\n",
       "      <td>NaN</td>\n",
       "      <td>NaN</td>\n",
       "      <td>206.800000</td>\n",
       "      <td>NaN</td>\n",
       "      <td>NaN</td>\n",
       "    </tr>\n",
       "  </tbody>\n",
       "</table>\n",
       "</div>"
      ],
      "text/plain": [
       "                insert_date  origin destination           start_date  \\\n",
       "count                215909  215909      215909               215909   \n",
       "unique                30543       5           5                 2231   \n",
       "top     2019-05-09 15:02:02  MADRID      MADRID  2019-06-02 17:30:00   \n",
       "freq                     90  110440      105469                 2089   \n",
       "mean                    NaN     NaN         NaN                  NaN   \n",
       "std                     NaN     NaN         NaN                  NaN   \n",
       "min                     NaN     NaN         NaN                  NaN   \n",
       "25%                     NaN     NaN         NaN                  NaN   \n",
       "50%                     NaN     NaN         NaN                  NaN   \n",
       "75%                     NaN     NaN         NaN                  NaN   \n",
       "max                     NaN     NaN         NaN                  NaN   \n",
       "\n",
       "                   end_date train_type          price train_class    fare  \n",
       "count                215909     215909  202321.000000      215266  215266  \n",
       "unique                 2870         16            NaN           5       5  \n",
       "top     2019-06-02 23:03:00        AVE            NaN     Turista   Promo  \n",
       "freq                   1278     126577            NaN      164016  132065  \n",
       "mean                    NaN        NaN      56.723877         NaN     NaN  \n",
       "std                     NaN        NaN      25.531787         NaN     NaN  \n",
       "min                     NaN        NaN      16.600000         NaN     NaN  \n",
       "25%                     NaN        NaN      28.350000         NaN     NaN  \n",
       "50%                     NaN        NaN      53.400000         NaN     NaN  \n",
       "75%                     NaN        NaN      76.300000         NaN     NaN  \n",
       "max                     NaN        NaN     206.800000         NaN     NaN  "
      ]
     },
     "execution_count": 9,
     "metadata": {},
     "output_type": "execute_result"
    }
   ],
   "source": [
    "df.describe(include='all')"
   ]
  },
  {
   "cell_type": "markdown",
   "metadata": {},
   "source": [
    "**Question: Explain the summary statistics for the above data set**"
   ]
  },
  {
   "cell_type": "markdown",
   "metadata": {},
   "source": [
    "**Answer:**\n",
    "1) The dataframe contains a total of 215909 rows and 9 colums. \n",
    "2) There are Missing values in price, train_class, and fare columns.\n",
    "3) origin, destination, train class and fare has 5 unique data\n",
    "4) The busiest station is MADRID\n",
    "5) most popular train class is Turista\n",
    "6) most bought ticket is fare\n",
    "7) price range: 16.6-206.8, average 56.73"
   ]
  },
  {
   "cell_type": "markdown",
   "metadata": {},
   "source": [
    "#### **Task 8: Check null values in dataset**"
   ]
  },
  {
   "cell_type": "code",
   "execution_count": 10,
   "metadata": {},
   "outputs": [
    {
     "data": {
      "text/plain": [
       "insert_date        0\n",
       "origin             0\n",
       "destination        0\n",
       "start_date         0\n",
       "end_date           0\n",
       "train_type         0\n",
       "price          13588\n",
       "train_class      643\n",
       "fare             643\n",
       "dtype: int64"
      ]
     },
     "execution_count": 10,
     "metadata": {},
     "output_type": "execute_result"
    }
   ],
   "source": [
    "#write code here\n",
    "df.isnull().sum()"
   ]
  },
  {
   "cell_type": "markdown",
   "metadata": {},
   "source": [
    "#### **Task 9: Fill the Null values in the 'price' column.**<br>\n",
    "*Hint: Take mean*"
   ]
  },
  {
   "cell_type": "code",
   "execution_count": 11,
   "metadata": {},
   "outputs": [],
   "source": [
    "#write code here\n",
    "df['price'].fillna(df['price'].mean(), inplace=True)"
   ]
  },
  {
   "cell_type": "code",
   "execution_count": 12,
   "metadata": {},
   "outputs": [
    {
     "data": {
      "text/html": [
       "<div>\n",
       "<style scoped>\n",
       "    .dataframe tbody tr th:only-of-type {\n",
       "        vertical-align: middle;\n",
       "    }\n",
       "\n",
       "    .dataframe tbody tr th {\n",
       "        vertical-align: top;\n",
       "    }\n",
       "\n",
       "    .dataframe thead th {\n",
       "        text-align: right;\n",
       "    }\n",
       "</style>\n",
       "<table border=\"1\" class=\"dataframe\">\n",
       "  <thead>\n",
       "    <tr style=\"text-align: right;\">\n",
       "      <th></th>\n",
       "      <th>insert_date</th>\n",
       "      <th>origin</th>\n",
       "      <th>destination</th>\n",
       "      <th>start_date</th>\n",
       "      <th>end_date</th>\n",
       "      <th>train_type</th>\n",
       "      <th>price</th>\n",
       "      <th>train_class</th>\n",
       "      <th>fare</th>\n",
       "    </tr>\n",
       "  </thead>\n",
       "  <tbody>\n",
       "    <tr>\n",
       "      <th>0</th>\n",
       "      <td>2019-04-19 05:37:35</td>\n",
       "      <td>PONFERRADA</td>\n",
       "      <td>MADRID</td>\n",
       "      <td>2019-06-02 15:00:00</td>\n",
       "      <td>2019-06-02 19:42:00</td>\n",
       "      <td>MD-AVE</td>\n",
       "      <td>59.50</td>\n",
       "      <td>Turista con enlace</td>\n",
       "      <td>Flexible</td>\n",
       "    </tr>\n",
       "    <tr>\n",
       "      <th>1</th>\n",
       "      <td>2019-04-19 05:37:35</td>\n",
       "      <td>PONFERRADA</td>\n",
       "      <td>MADRID</td>\n",
       "      <td>2019-06-02 17:15:00</td>\n",
       "      <td>2019-06-02 23:03:00</td>\n",
       "      <td>MD-AVE</td>\n",
       "      <td>34.65</td>\n",
       "      <td>Turista con enlace</td>\n",
       "      <td>Promo +</td>\n",
       "    </tr>\n",
       "    <tr>\n",
       "      <th>2</th>\n",
       "      <td>2019-04-19 05:37:35</td>\n",
       "      <td>PONFERRADA</td>\n",
       "      <td>MADRID</td>\n",
       "      <td>2019-06-02 17:15:00</td>\n",
       "      <td>2019-06-02 23:10:00</td>\n",
       "      <td>MD-LD</td>\n",
       "      <td>39.95</td>\n",
       "      <td>Turista con enlace</td>\n",
       "      <td>Promo +</td>\n",
       "    </tr>\n",
       "    <tr>\n",
       "      <th>3</th>\n",
       "      <td>2019-04-19 05:37:35</td>\n",
       "      <td>PONFERRADA</td>\n",
       "      <td>MADRID</td>\n",
       "      <td>2019-06-02 17:15:00</td>\n",
       "      <td>2019-06-02 22:14:00</td>\n",
       "      <td>MD-AVE</td>\n",
       "      <td>40.60</td>\n",
       "      <td>Turista con enlace</td>\n",
       "      <td>Promo +</td>\n",
       "    </tr>\n",
       "    <tr>\n",
       "      <th>4</th>\n",
       "      <td>2019-04-19 05:37:35</td>\n",
       "      <td>PONFERRADA</td>\n",
       "      <td>MADRID</td>\n",
       "      <td>2019-06-02 18:55:00</td>\n",
       "      <td>2019-06-02 23:03:00</td>\n",
       "      <td>ALVIA</td>\n",
       "      <td>27.90</td>\n",
       "      <td>Turista</td>\n",
       "      <td>Promo</td>\n",
       "    </tr>\n",
       "    <tr>\n",
       "      <th>...</th>\n",
       "      <td>...</td>\n",
       "      <td>...</td>\n",
       "      <td>...</td>\n",
       "      <td>...</td>\n",
       "      <td>...</td>\n",
       "      <td>...</td>\n",
       "      <td>...</td>\n",
       "      <td>...</td>\n",
       "      <td>...</td>\n",
       "    </tr>\n",
       "    <tr>\n",
       "      <th>215904</th>\n",
       "      <td>2019-04-19 05:31:30</td>\n",
       "      <td>MADRID</td>\n",
       "      <td>SEVILLA</td>\n",
       "      <td>2019-06-01 17:00:00</td>\n",
       "      <td>2019-06-01 19:38:00</td>\n",
       "      <td>AVE</td>\n",
       "      <td>47.30</td>\n",
       "      <td>Turista</td>\n",
       "      <td>Promo</td>\n",
       "    </tr>\n",
       "    <tr>\n",
       "      <th>215905</th>\n",
       "      <td>2019-04-19 05:31:30</td>\n",
       "      <td>MADRID</td>\n",
       "      <td>SEVILLA</td>\n",
       "      <td>2019-06-01 18:00:00</td>\n",
       "      <td>2019-06-01 20:32:00</td>\n",
       "      <td>AVE</td>\n",
       "      <td>47.30</td>\n",
       "      <td>Turista</td>\n",
       "      <td>Promo</td>\n",
       "    </tr>\n",
       "    <tr>\n",
       "      <th>215906</th>\n",
       "      <td>2019-04-19 05:31:30</td>\n",
       "      <td>MADRID</td>\n",
       "      <td>SEVILLA</td>\n",
       "      <td>2019-06-01 19:00:00</td>\n",
       "      <td>2019-06-01 21:38:00</td>\n",
       "      <td>AVE</td>\n",
       "      <td>47.30</td>\n",
       "      <td>Turista</td>\n",
       "      <td>Promo</td>\n",
       "    </tr>\n",
       "    <tr>\n",
       "      <th>215907</th>\n",
       "      <td>2019-04-19 05:31:30</td>\n",
       "      <td>MADRID</td>\n",
       "      <td>SEVILLA</td>\n",
       "      <td>2019-06-01 20:35:00</td>\n",
       "      <td>2019-06-01 23:15:00</td>\n",
       "      <td>AVE</td>\n",
       "      <td>47.30</td>\n",
       "      <td>Turista</td>\n",
       "      <td>Promo</td>\n",
       "    </tr>\n",
       "    <tr>\n",
       "      <th>215908</th>\n",
       "      <td>2019-04-19 05:31:30</td>\n",
       "      <td>MADRID</td>\n",
       "      <td>SEVILLA</td>\n",
       "      <td>2019-06-01 21:25:00</td>\n",
       "      <td>2019-06-02 00:10:00</td>\n",
       "      <td>AV City</td>\n",
       "      <td>52.20</td>\n",
       "      <td>Turista Plus</td>\n",
       "      <td>Promo</td>\n",
       "    </tr>\n",
       "  </tbody>\n",
       "</table>\n",
       "<p>215909 rows × 9 columns</p>\n",
       "</div>"
      ],
      "text/plain": [
       "                insert_date      origin destination           start_date  \\\n",
       "0       2019-04-19 05:37:35  PONFERRADA      MADRID  2019-06-02 15:00:00   \n",
       "1       2019-04-19 05:37:35  PONFERRADA      MADRID  2019-06-02 17:15:00   \n",
       "2       2019-04-19 05:37:35  PONFERRADA      MADRID  2019-06-02 17:15:00   \n",
       "3       2019-04-19 05:37:35  PONFERRADA      MADRID  2019-06-02 17:15:00   \n",
       "4       2019-04-19 05:37:35  PONFERRADA      MADRID  2019-06-02 18:55:00   \n",
       "...                     ...         ...         ...                  ...   \n",
       "215904  2019-04-19 05:31:30      MADRID     SEVILLA  2019-06-01 17:00:00   \n",
       "215905  2019-04-19 05:31:30      MADRID     SEVILLA  2019-06-01 18:00:00   \n",
       "215906  2019-04-19 05:31:30      MADRID     SEVILLA  2019-06-01 19:00:00   \n",
       "215907  2019-04-19 05:31:30      MADRID     SEVILLA  2019-06-01 20:35:00   \n",
       "215908  2019-04-19 05:31:30      MADRID     SEVILLA  2019-06-01 21:25:00   \n",
       "\n",
       "                   end_date train_type  price         train_class      fare  \n",
       "0       2019-06-02 19:42:00     MD-AVE  59.50  Turista con enlace  Flexible  \n",
       "1       2019-06-02 23:03:00     MD-AVE  34.65  Turista con enlace   Promo +  \n",
       "2       2019-06-02 23:10:00      MD-LD  39.95  Turista con enlace   Promo +  \n",
       "3       2019-06-02 22:14:00     MD-AVE  40.60  Turista con enlace   Promo +  \n",
       "4       2019-06-02 23:03:00      ALVIA  27.90             Turista     Promo  \n",
       "...                     ...        ...    ...                 ...       ...  \n",
       "215904  2019-06-01 19:38:00        AVE  47.30             Turista     Promo  \n",
       "215905  2019-06-01 20:32:00        AVE  47.30             Turista     Promo  \n",
       "215906  2019-06-01 21:38:00        AVE  47.30             Turista     Promo  \n",
       "215907  2019-06-01 23:15:00        AVE  47.30             Turista     Promo  \n",
       "215908  2019-06-02 00:10:00    AV City  52.20        Turista Plus     Promo  \n",
       "\n",
       "[215909 rows x 9 columns]"
      ]
     },
     "execution_count": 12,
     "metadata": {},
     "output_type": "execute_result"
    }
   ],
   "source": [
    "df"
   ]
  },
  {
   "cell_type": "code",
   "execution_count": 13,
   "metadata": {},
   "outputs": [
    {
     "data": {
      "text/plain": [
       "insert_date      0\n",
       "origin           0\n",
       "destination      0\n",
       "start_date       0\n",
       "end_date         0\n",
       "train_type       0\n",
       "price            0\n",
       "train_class    643\n",
       "fare           643\n",
       "dtype: int64"
      ]
     },
     "execution_count": 13,
     "metadata": {},
     "output_type": "execute_result"
    }
   ],
   "source": [
    "df.isnull().sum()"
   ]
  },
  {
   "cell_type": "markdown",
   "metadata": {},
   "source": [
    "#### **Task 10: Drop the rows containing Null values in the attributes train_class and fare**"
   ]
  },
  {
   "cell_type": "code",
   "execution_count": 14,
   "metadata": {},
   "outputs": [
    {
     "data": {
      "text/plain": [
       "Index(['insert_date', 'origin', 'destination', 'start_date', 'end_date',\n",
       "       'train_type', 'price', 'train_class', 'fare'],\n",
       "      dtype='object')"
      ]
     },
     "execution_count": 14,
     "metadata": {},
     "output_type": "execute_result"
    }
   ],
   "source": [
    "df.columns"
   ]
  },
  {
   "cell_type": "code",
   "execution_count": 15,
   "metadata": {},
   "outputs": [
    {
     "data": {
      "text/html": [
       "<div>\n",
       "<style scoped>\n",
       "    .dataframe tbody tr th:only-of-type {\n",
       "        vertical-align: middle;\n",
       "    }\n",
       "\n",
       "    .dataframe tbody tr th {\n",
       "        vertical-align: top;\n",
       "    }\n",
       "\n",
       "    .dataframe thead th {\n",
       "        text-align: right;\n",
       "    }\n",
       "</style>\n",
       "<table border=\"1\" class=\"dataframe\">\n",
       "  <thead>\n",
       "    <tr style=\"text-align: right;\">\n",
       "      <th></th>\n",
       "      <th>insert_date</th>\n",
       "      <th>origin</th>\n",
       "      <th>destination</th>\n",
       "      <th>start_date</th>\n",
       "      <th>end_date</th>\n",
       "      <th>train_type</th>\n",
       "      <th>price</th>\n",
       "      <th>train_class</th>\n",
       "      <th>fare</th>\n",
       "    </tr>\n",
       "  </thead>\n",
       "  <tbody>\n",
       "    <tr>\n",
       "      <th>0</th>\n",
       "      <td>2019-04-19 05:37:35</td>\n",
       "      <td>PONFERRADA</td>\n",
       "      <td>MADRID</td>\n",
       "      <td>2019-06-02 15:00:00</td>\n",
       "      <td>2019-06-02 19:42:00</td>\n",
       "      <td>MD-AVE</td>\n",
       "      <td>59.50</td>\n",
       "      <td>Turista con enlace</td>\n",
       "      <td>Flexible</td>\n",
       "    </tr>\n",
       "    <tr>\n",
       "      <th>1</th>\n",
       "      <td>2019-04-19 05:37:35</td>\n",
       "      <td>PONFERRADA</td>\n",
       "      <td>MADRID</td>\n",
       "      <td>2019-06-02 17:15:00</td>\n",
       "      <td>2019-06-02 23:03:00</td>\n",
       "      <td>MD-AVE</td>\n",
       "      <td>34.65</td>\n",
       "      <td>Turista con enlace</td>\n",
       "      <td>Promo +</td>\n",
       "    </tr>\n",
       "    <tr>\n",
       "      <th>2</th>\n",
       "      <td>2019-04-19 05:37:35</td>\n",
       "      <td>PONFERRADA</td>\n",
       "      <td>MADRID</td>\n",
       "      <td>2019-06-02 17:15:00</td>\n",
       "      <td>2019-06-02 23:10:00</td>\n",
       "      <td>MD-LD</td>\n",
       "      <td>39.95</td>\n",
       "      <td>Turista con enlace</td>\n",
       "      <td>Promo +</td>\n",
       "    </tr>\n",
       "    <tr>\n",
       "      <th>3</th>\n",
       "      <td>2019-04-19 05:37:35</td>\n",
       "      <td>PONFERRADA</td>\n",
       "      <td>MADRID</td>\n",
       "      <td>2019-06-02 17:15:00</td>\n",
       "      <td>2019-06-02 22:14:00</td>\n",
       "      <td>MD-AVE</td>\n",
       "      <td>40.60</td>\n",
       "      <td>Turista con enlace</td>\n",
       "      <td>Promo +</td>\n",
       "    </tr>\n",
       "    <tr>\n",
       "      <th>4</th>\n",
       "      <td>2019-04-19 05:37:35</td>\n",
       "      <td>PONFERRADA</td>\n",
       "      <td>MADRID</td>\n",
       "      <td>2019-06-02 18:55:00</td>\n",
       "      <td>2019-06-02 23:03:00</td>\n",
       "      <td>ALVIA</td>\n",
       "      <td>27.90</td>\n",
       "      <td>Turista</td>\n",
       "      <td>Promo</td>\n",
       "    </tr>\n",
       "    <tr>\n",
       "      <th>...</th>\n",
       "      <td>...</td>\n",
       "      <td>...</td>\n",
       "      <td>...</td>\n",
       "      <td>...</td>\n",
       "      <td>...</td>\n",
       "      <td>...</td>\n",
       "      <td>...</td>\n",
       "      <td>...</td>\n",
       "      <td>...</td>\n",
       "    </tr>\n",
       "    <tr>\n",
       "      <th>215904</th>\n",
       "      <td>2019-04-19 05:31:30</td>\n",
       "      <td>MADRID</td>\n",
       "      <td>SEVILLA</td>\n",
       "      <td>2019-06-01 17:00:00</td>\n",
       "      <td>2019-06-01 19:38:00</td>\n",
       "      <td>AVE</td>\n",
       "      <td>47.30</td>\n",
       "      <td>Turista</td>\n",
       "      <td>Promo</td>\n",
       "    </tr>\n",
       "    <tr>\n",
       "      <th>215905</th>\n",
       "      <td>2019-04-19 05:31:30</td>\n",
       "      <td>MADRID</td>\n",
       "      <td>SEVILLA</td>\n",
       "      <td>2019-06-01 18:00:00</td>\n",
       "      <td>2019-06-01 20:32:00</td>\n",
       "      <td>AVE</td>\n",
       "      <td>47.30</td>\n",
       "      <td>Turista</td>\n",
       "      <td>Promo</td>\n",
       "    </tr>\n",
       "    <tr>\n",
       "      <th>215906</th>\n",
       "      <td>2019-04-19 05:31:30</td>\n",
       "      <td>MADRID</td>\n",
       "      <td>SEVILLA</td>\n",
       "      <td>2019-06-01 19:00:00</td>\n",
       "      <td>2019-06-01 21:38:00</td>\n",
       "      <td>AVE</td>\n",
       "      <td>47.30</td>\n",
       "      <td>Turista</td>\n",
       "      <td>Promo</td>\n",
       "    </tr>\n",
       "    <tr>\n",
       "      <th>215907</th>\n",
       "      <td>2019-04-19 05:31:30</td>\n",
       "      <td>MADRID</td>\n",
       "      <td>SEVILLA</td>\n",
       "      <td>2019-06-01 20:35:00</td>\n",
       "      <td>2019-06-01 23:15:00</td>\n",
       "      <td>AVE</td>\n",
       "      <td>47.30</td>\n",
       "      <td>Turista</td>\n",
       "      <td>Promo</td>\n",
       "    </tr>\n",
       "    <tr>\n",
       "      <th>215908</th>\n",
       "      <td>2019-04-19 05:31:30</td>\n",
       "      <td>MADRID</td>\n",
       "      <td>SEVILLA</td>\n",
       "      <td>2019-06-01 21:25:00</td>\n",
       "      <td>2019-06-02 00:10:00</td>\n",
       "      <td>AV City</td>\n",
       "      <td>52.20</td>\n",
       "      <td>Turista Plus</td>\n",
       "      <td>Promo</td>\n",
       "    </tr>\n",
       "  </tbody>\n",
       "</table>\n",
       "<p>215266 rows × 9 columns</p>\n",
       "</div>"
      ],
      "text/plain": [
       "                insert_date      origin destination           start_date  \\\n",
       "0       2019-04-19 05:37:35  PONFERRADA      MADRID  2019-06-02 15:00:00   \n",
       "1       2019-04-19 05:37:35  PONFERRADA      MADRID  2019-06-02 17:15:00   \n",
       "2       2019-04-19 05:37:35  PONFERRADA      MADRID  2019-06-02 17:15:00   \n",
       "3       2019-04-19 05:37:35  PONFERRADA      MADRID  2019-06-02 17:15:00   \n",
       "4       2019-04-19 05:37:35  PONFERRADA      MADRID  2019-06-02 18:55:00   \n",
       "...                     ...         ...         ...                  ...   \n",
       "215904  2019-04-19 05:31:30      MADRID     SEVILLA  2019-06-01 17:00:00   \n",
       "215905  2019-04-19 05:31:30      MADRID     SEVILLA  2019-06-01 18:00:00   \n",
       "215906  2019-04-19 05:31:30      MADRID     SEVILLA  2019-06-01 19:00:00   \n",
       "215907  2019-04-19 05:31:30      MADRID     SEVILLA  2019-06-01 20:35:00   \n",
       "215908  2019-04-19 05:31:30      MADRID     SEVILLA  2019-06-01 21:25:00   \n",
       "\n",
       "                   end_date train_type  price         train_class      fare  \n",
       "0       2019-06-02 19:42:00     MD-AVE  59.50  Turista con enlace  Flexible  \n",
       "1       2019-06-02 23:03:00     MD-AVE  34.65  Turista con enlace   Promo +  \n",
       "2       2019-06-02 23:10:00      MD-LD  39.95  Turista con enlace   Promo +  \n",
       "3       2019-06-02 22:14:00     MD-AVE  40.60  Turista con enlace   Promo +  \n",
       "4       2019-06-02 23:03:00      ALVIA  27.90             Turista     Promo  \n",
       "...                     ...        ...    ...                 ...       ...  \n",
       "215904  2019-06-01 19:38:00        AVE  47.30             Turista     Promo  \n",
       "215905  2019-06-01 20:32:00        AVE  47.30             Turista     Promo  \n",
       "215906  2019-06-01 21:38:00        AVE  47.30             Turista     Promo  \n",
       "215907  2019-06-01 23:15:00        AVE  47.30             Turista     Promo  \n",
       "215908  2019-06-02 00:10:00    AV City  52.20        Turista Plus     Promo  \n",
       "\n",
       "[215266 rows x 9 columns]"
      ]
     },
     "execution_count": 15,
     "metadata": {},
     "output_type": "execute_result"
    }
   ],
   "source": [
    "#write code here\n",
    "dfresult = df.dropna(subset=['fare', 'train_class'], axis=0, how='any')\n",
    "dfresult"
   ]
  },
  {
   "cell_type": "markdown",
   "metadata": {},
   "source": [
    "#### **Task 11: Drop 'insert_date'**"
   ]
  },
  {
   "cell_type": "code",
   "execution_count": 16,
   "metadata": {},
   "outputs": [
    {
     "data": {
      "text/html": [
       "<div>\n",
       "<style scoped>\n",
       "    .dataframe tbody tr th:only-of-type {\n",
       "        vertical-align: middle;\n",
       "    }\n",
       "\n",
       "    .dataframe tbody tr th {\n",
       "        vertical-align: top;\n",
       "    }\n",
       "\n",
       "    .dataframe thead th {\n",
       "        text-align: right;\n",
       "    }\n",
       "</style>\n",
       "<table border=\"1\" class=\"dataframe\">\n",
       "  <thead>\n",
       "    <tr style=\"text-align: right;\">\n",
       "      <th></th>\n",
       "      <th>origin</th>\n",
       "      <th>destination</th>\n",
       "      <th>start_date</th>\n",
       "      <th>end_date</th>\n",
       "      <th>train_type</th>\n",
       "      <th>price</th>\n",
       "      <th>train_class</th>\n",
       "      <th>fare</th>\n",
       "    </tr>\n",
       "  </thead>\n",
       "  <tbody>\n",
       "    <tr>\n",
       "      <th>0</th>\n",
       "      <td>PONFERRADA</td>\n",
       "      <td>MADRID</td>\n",
       "      <td>2019-06-02 15:00:00</td>\n",
       "      <td>2019-06-02 19:42:00</td>\n",
       "      <td>MD-AVE</td>\n",
       "      <td>59.50</td>\n",
       "      <td>Turista con enlace</td>\n",
       "      <td>Flexible</td>\n",
       "    </tr>\n",
       "    <tr>\n",
       "      <th>1</th>\n",
       "      <td>PONFERRADA</td>\n",
       "      <td>MADRID</td>\n",
       "      <td>2019-06-02 17:15:00</td>\n",
       "      <td>2019-06-02 23:03:00</td>\n",
       "      <td>MD-AVE</td>\n",
       "      <td>34.65</td>\n",
       "      <td>Turista con enlace</td>\n",
       "      <td>Promo +</td>\n",
       "    </tr>\n",
       "    <tr>\n",
       "      <th>2</th>\n",
       "      <td>PONFERRADA</td>\n",
       "      <td>MADRID</td>\n",
       "      <td>2019-06-02 17:15:00</td>\n",
       "      <td>2019-06-02 23:10:00</td>\n",
       "      <td>MD-LD</td>\n",
       "      <td>39.95</td>\n",
       "      <td>Turista con enlace</td>\n",
       "      <td>Promo +</td>\n",
       "    </tr>\n",
       "    <tr>\n",
       "      <th>3</th>\n",
       "      <td>PONFERRADA</td>\n",
       "      <td>MADRID</td>\n",
       "      <td>2019-06-02 17:15:00</td>\n",
       "      <td>2019-06-02 22:14:00</td>\n",
       "      <td>MD-AVE</td>\n",
       "      <td>40.60</td>\n",
       "      <td>Turista con enlace</td>\n",
       "      <td>Promo +</td>\n",
       "    </tr>\n",
       "    <tr>\n",
       "      <th>4</th>\n",
       "      <td>PONFERRADA</td>\n",
       "      <td>MADRID</td>\n",
       "      <td>2019-06-02 18:55:00</td>\n",
       "      <td>2019-06-02 23:03:00</td>\n",
       "      <td>ALVIA</td>\n",
       "      <td>27.90</td>\n",
       "      <td>Turista</td>\n",
       "      <td>Promo</td>\n",
       "    </tr>\n",
       "    <tr>\n",
       "      <th>...</th>\n",
       "      <td>...</td>\n",
       "      <td>...</td>\n",
       "      <td>...</td>\n",
       "      <td>...</td>\n",
       "      <td>...</td>\n",
       "      <td>...</td>\n",
       "      <td>...</td>\n",
       "      <td>...</td>\n",
       "    </tr>\n",
       "    <tr>\n",
       "      <th>215904</th>\n",
       "      <td>MADRID</td>\n",
       "      <td>SEVILLA</td>\n",
       "      <td>2019-06-01 17:00:00</td>\n",
       "      <td>2019-06-01 19:38:00</td>\n",
       "      <td>AVE</td>\n",
       "      <td>47.30</td>\n",
       "      <td>Turista</td>\n",
       "      <td>Promo</td>\n",
       "    </tr>\n",
       "    <tr>\n",
       "      <th>215905</th>\n",
       "      <td>MADRID</td>\n",
       "      <td>SEVILLA</td>\n",
       "      <td>2019-06-01 18:00:00</td>\n",
       "      <td>2019-06-01 20:32:00</td>\n",
       "      <td>AVE</td>\n",
       "      <td>47.30</td>\n",
       "      <td>Turista</td>\n",
       "      <td>Promo</td>\n",
       "    </tr>\n",
       "    <tr>\n",
       "      <th>215906</th>\n",
       "      <td>MADRID</td>\n",
       "      <td>SEVILLA</td>\n",
       "      <td>2019-06-01 19:00:00</td>\n",
       "      <td>2019-06-01 21:38:00</td>\n",
       "      <td>AVE</td>\n",
       "      <td>47.30</td>\n",
       "      <td>Turista</td>\n",
       "      <td>Promo</td>\n",
       "    </tr>\n",
       "    <tr>\n",
       "      <th>215907</th>\n",
       "      <td>MADRID</td>\n",
       "      <td>SEVILLA</td>\n",
       "      <td>2019-06-01 20:35:00</td>\n",
       "      <td>2019-06-01 23:15:00</td>\n",
       "      <td>AVE</td>\n",
       "      <td>47.30</td>\n",
       "      <td>Turista</td>\n",
       "      <td>Promo</td>\n",
       "    </tr>\n",
       "    <tr>\n",
       "      <th>215908</th>\n",
       "      <td>MADRID</td>\n",
       "      <td>SEVILLA</td>\n",
       "      <td>2019-06-01 21:25:00</td>\n",
       "      <td>2019-06-02 00:10:00</td>\n",
       "      <td>AV City</td>\n",
       "      <td>52.20</td>\n",
       "      <td>Turista Plus</td>\n",
       "      <td>Promo</td>\n",
       "    </tr>\n",
       "  </tbody>\n",
       "</table>\n",
       "<p>215266 rows × 8 columns</p>\n",
       "</div>"
      ],
      "text/plain": [
       "            origin destination           start_date             end_date  \\\n",
       "0       PONFERRADA      MADRID  2019-06-02 15:00:00  2019-06-02 19:42:00   \n",
       "1       PONFERRADA      MADRID  2019-06-02 17:15:00  2019-06-02 23:03:00   \n",
       "2       PONFERRADA      MADRID  2019-06-02 17:15:00  2019-06-02 23:10:00   \n",
       "3       PONFERRADA      MADRID  2019-06-02 17:15:00  2019-06-02 22:14:00   \n",
       "4       PONFERRADA      MADRID  2019-06-02 18:55:00  2019-06-02 23:03:00   \n",
       "...            ...         ...                  ...                  ...   \n",
       "215904      MADRID     SEVILLA  2019-06-01 17:00:00  2019-06-01 19:38:00   \n",
       "215905      MADRID     SEVILLA  2019-06-01 18:00:00  2019-06-01 20:32:00   \n",
       "215906      MADRID     SEVILLA  2019-06-01 19:00:00  2019-06-01 21:38:00   \n",
       "215907      MADRID     SEVILLA  2019-06-01 20:35:00  2019-06-01 23:15:00   \n",
       "215908      MADRID     SEVILLA  2019-06-01 21:25:00  2019-06-02 00:10:00   \n",
       "\n",
       "       train_type  price         train_class      fare  \n",
       "0          MD-AVE  59.50  Turista con enlace  Flexible  \n",
       "1          MD-AVE  34.65  Turista con enlace   Promo +  \n",
       "2           MD-LD  39.95  Turista con enlace   Promo +  \n",
       "3          MD-AVE  40.60  Turista con enlace   Promo +  \n",
       "4           ALVIA  27.90             Turista     Promo  \n",
       "...           ...    ...                 ...       ...  \n",
       "215904        AVE  47.30             Turista     Promo  \n",
       "215905        AVE  47.30             Turista     Promo  \n",
       "215906        AVE  47.30             Turista     Promo  \n",
       "215907        AVE  47.30             Turista     Promo  \n",
       "215908    AV City  52.20        Turista Plus     Promo  \n",
       "\n",
       "[215266 rows x 8 columns]"
      ]
     },
     "execution_count": 16,
     "metadata": {},
     "output_type": "execute_result"
    }
   ],
   "source": [
    "#write code here\n",
    "dfresult = dfresult.drop('insert_date', axis=1)\n",
    "dfresult"
   ]
  },
  {
   "cell_type": "markdown",
   "metadata": {},
   "source": [
    "**Check null values again in dataset**"
   ]
  },
  {
   "cell_type": "code",
   "execution_count": 17,
   "metadata": {},
   "outputs": [
    {
     "data": {
      "text/plain": [
       "origin         0\n",
       "destination    0\n",
       "start_date     0\n",
       "end_date       0\n",
       "train_type     0\n",
       "price          0\n",
       "train_class    0\n",
       "fare           0\n",
       "dtype: int64"
      ]
     },
     "execution_count": 17,
     "metadata": {},
     "output_type": "execute_result"
    }
   ],
   "source": [
    "#write code here\n",
    "dfresult.isnull().sum()"
   ]
  },
  {
   "cell_type": "markdown",
   "metadata": {},
   "source": [
    "#### **Task 12: Plot number of people boarding from different stations**\n"
   ]
  },
  {
   "cell_type": "code",
   "execution_count": 18,
   "metadata": {},
   "outputs": [
    {
     "data": {
      "text/plain": [
       "array(['PONFERRADA', 'MADRID', 'SEVILLA', 'VALENCIA', 'BARCELONA'],\n",
       "      dtype=object)"
      ]
     },
     "execution_count": 18,
     "metadata": {},
     "output_type": "execute_result"
    }
   ],
   "source": [
    "#write code here\n",
    "dfresult['origin'].unique()"
   ]
  },
  {
   "cell_type": "code",
   "execution_count": 19,
   "metadata": {},
   "outputs": [
    {
     "data": {
      "text/html": [
       "<div>\n",
       "<style scoped>\n",
       "    .dataframe tbody tr th:only-of-type {\n",
       "        vertical-align: middle;\n",
       "    }\n",
       "\n",
       "    .dataframe tbody tr th {\n",
       "        vertical-align: top;\n",
       "    }\n",
       "\n",
       "    .dataframe thead th {\n",
       "        text-align: right;\n",
       "    }\n",
       "</style>\n",
       "<table border=\"1\" class=\"dataframe\">\n",
       "  <thead>\n",
       "    <tr style=\"text-align: right;\">\n",
       "      <th></th>\n",
       "      <th>origin</th>\n",
       "      <th>no_of_people</th>\n",
       "    </tr>\n",
       "  </thead>\n",
       "  <tbody>\n",
       "    <tr>\n",
       "      <th>0</th>\n",
       "      <td>MADRID</td>\n",
       "      <td>109975</td>\n",
       "    </tr>\n",
       "    <tr>\n",
       "      <th>1</th>\n",
       "      <td>BARCELONA</td>\n",
       "      <td>39479</td>\n",
       "    </tr>\n",
       "    <tr>\n",
       "      <th>2</th>\n",
       "      <td>VALENCIA</td>\n",
       "      <td>36297</td>\n",
       "    </tr>\n",
       "    <tr>\n",
       "      <th>3</th>\n",
       "      <td>SEVILLA</td>\n",
       "      <td>26979</td>\n",
       "    </tr>\n",
       "    <tr>\n",
       "      <th>4</th>\n",
       "      <td>PONFERRADA</td>\n",
       "      <td>2536</td>\n",
       "    </tr>\n",
       "  </tbody>\n",
       "</table>\n",
       "</div>"
      ],
      "text/plain": [
       "       origin  no_of_people\n",
       "0      MADRID        109975\n",
       "1   BARCELONA         39479\n",
       "2    VALENCIA         36297\n",
       "3     SEVILLA         26979\n",
       "4  PONFERRADA          2536"
      ]
     },
     "execution_count": 19,
     "metadata": {},
     "output_type": "execute_result"
    }
   ],
   "source": [
    "dfresult['origin'].value_counts().reset_index(name='no_of_people')"
   ]
  },
  {
   "cell_type": "code",
   "execution_count": 20,
   "metadata": {},
   "outputs": [
    {
     "data": {
      "text/plain": [
       "<Axes: xlabel='origin', ylabel='count'>"
      ]
     },
     "execution_count": 20,
     "metadata": {},
     "output_type": "execute_result"
    },
    {
     "data": {
      "image/png": "[encoded data removed]",
      "text/plain": [
       "<Figure size 640x480 with 1 Axes>"
      ]
     },
     "metadata": {},
     "output_type": "display_data"
    }
   ],
   "source": [
    "sns.countplot(x='origin', data=dfresult)"
   ]
  },
  {
   "cell_type": "markdown",
   "metadata": {},
   "source": [
    "**Question: What insights do you get from the above plot?**"
   ]
  },
  {
   "cell_type": "markdown",
   "metadata": {},
   "source": [
    "**Answer:** The above plot shows that MADRID is the busiest station, most passengers originate from this station followed by BARCELONA.\n",
    "Perhaps due to MADRID being the capital and largest city of Spain. According to the website https://earth.esa.int/: The population of the city is roughly 3.3 million and the entire population of the Madrid metropolitan area is calculated to be around 6.5 million."
   ]
  },
  {
   "cell_type": "markdown",
   "metadata": {},
   "source": [
    "#### **Task 13: Plot number of people for the destination stations**\n"
   ]
  },
  {
   "cell_type": "code",
   "execution_count": 21,
   "metadata": {},
   "outputs": [
    {
     "data": {
      "text/plain": [
       "array(['MADRID', 'VALENCIA', 'BARCELONA', 'PONFERRADA', 'SEVILLA'],\n",
       "      dtype=object)"
      ]
     },
     "execution_count": 21,
     "metadata": {},
     "output_type": "execute_result"
    }
   ],
   "source": [
    "#write code here\n",
    "dfresult['destination'].unique()"
   ]
  },
  {
   "cell_type": "code",
   "execution_count": 22,
   "metadata": {},
   "outputs": [
    {
     "data": {
      "text/html": [
       "<div>\n",
       "<style scoped>\n",
       "    .dataframe tbody tr th:only-of-type {\n",
       "        vertical-align: middle;\n",
       "    }\n",
       "\n",
       "    .dataframe tbody tr th {\n",
       "        vertical-align: top;\n",
       "    }\n",
       "\n",
       "    .dataframe thead th {\n",
       "        text-align: right;\n",
       "    }\n",
       "</style>\n",
       "<table border=\"1\" class=\"dataframe\">\n",
       "  <thead>\n",
       "    <tr style=\"text-align: right;\">\n",
       "      <th></th>\n",
       "      <th>destination</th>\n",
       "      <th>no_of_people</th>\n",
       "    </tr>\n",
       "  </thead>\n",
       "  <tbody>\n",
       "    <tr>\n",
       "      <th>0</th>\n",
       "      <td>MADRID</td>\n",
       "      <td>105291</td>\n",
       "    </tr>\n",
       "    <tr>\n",
       "      <th>1</th>\n",
       "      <td>BARCELONA</td>\n",
       "      <td>40728</td>\n",
       "    </tr>\n",
       "    <tr>\n",
       "      <th>2</th>\n",
       "      <td>VALENCIA</td>\n",
       "      <td>39447</td>\n",
       "    </tr>\n",
       "    <tr>\n",
       "      <th>3</th>\n",
       "      <td>SEVILLA</td>\n",
       "      <td>26961</td>\n",
       "    </tr>\n",
       "    <tr>\n",
       "      <th>4</th>\n",
       "      <td>PONFERRADA</td>\n",
       "      <td>2839</td>\n",
       "    </tr>\n",
       "  </tbody>\n",
       "</table>\n",
       "</div>"
      ],
      "text/plain": [
       "  destination  no_of_people\n",
       "0      MADRID        105291\n",
       "1   BARCELONA         40728\n",
       "2    VALENCIA         39447\n",
       "3     SEVILLA         26961\n",
       "4  PONFERRADA          2839"
      ]
     },
     "execution_count": 22,
     "metadata": {},
     "output_type": "execute_result"
    }
   ],
   "source": [
    "dfresult['destination'].value_counts().reset_index(name='no_of_people')"
   ]
  },
  {
   "cell_type": "code",
   "execution_count": 23,
   "metadata": {},
   "outputs": [
    {
     "data": {
      "text/plain": [
       "<Axes: xlabel='destination', ylabel='count'>"
      ]
     },
     "execution_count": 23,
     "metadata": {},
     "output_type": "execute_result"
    },
    {
     "data": {
      "image/png": "[encoded data removed]",
      "text/plain": [
       "<Figure size 640x480 with 1 Axes>"
      ]
     },
     "metadata": {},
     "output_type": "display_data"
    }
   ],
   "source": [
    "sns.countplot(x='destination', data=dfresult)"
   ]
  },
  {
   "cell_type": "markdown",
   "metadata": {},
   "source": [
    "**Question: What insights do you get from the above graph?**"
   ]
  },
  {
   "cell_type": "markdown",
   "metadata": {},
   "source": [
    "**Answer:** The plot above shows MADRID as the top destination, perhaps due to highest dense in terms of popolation and according to https://earth.esa.int/, MADRID is located on the Manzanares River (central Spain), Madrid is the capital of the country and of the autonomous region and province of Madrid.\n",
    "Madrid is the 17th most livable city in the world according to Monocle magazine, in its 2014 index. Madrid houses the headquarters of the World Tourism Organization (WTO), belonging to the United Nations Organization (UN), the SEGIB, the Organization of Ibero-American States (OEI), and the Public Interest Oversight Board (PIOB). It also hosts major international institutions regulators of Spanish: the Standing Committee of the Association of Spanish Language Academies, headquarters of the Royal Spanish Academy (RAE), the Cervantes Institute and the Foundation of Urgent Spanish (Fundéu BBVA)."
   ]
  },
  {
   "cell_type": "markdown",
   "metadata": {},
   "source": [
    "#### **Task 14: Plot different types of train that runs in Spain**\n"
   ]
  },
  {
   "cell_type": "code",
   "execution_count": 24,
   "metadata": {},
   "outputs": [
    {
     "data": {
      "text/plain": [
       "array(['MD-AVE', 'MD-LD', 'ALVIA', 'REGIONAL', 'AVE', 'INTERCITY',\n",
       "       'AVE-MD', 'AVE-LD', 'R. EXPRES', 'AVE-TGV', 'AV City', 'MD',\n",
       "       'LD-MD', 'LD', 'LD-AVE', 'TRENHOTEL'], dtype=object)"
      ]
     },
     "execution_count": 24,
     "metadata": {},
     "output_type": "execute_result"
    }
   ],
   "source": [
    "#write code here\n",
    "dfresult['train_type'].unique()"
   ]
  },
  {
   "cell_type": "code",
   "execution_count": 25,
   "metadata": {},
   "outputs": [
    {
     "data": {
      "text/html": [
       "<div>\n",
       "<style scoped>\n",
       "    .dataframe tbody tr th:only-of-type {\n",
       "        vertical-align: middle;\n",
       "    }\n",
       "\n",
       "    .dataframe tbody tr th {\n",
       "        vertical-align: top;\n",
       "    }\n",
       "\n",
       "    .dataframe thead th {\n",
       "        text-align: right;\n",
       "    }\n",
       "</style>\n",
       "<table border=\"1\" class=\"dataframe\">\n",
       "  <thead>\n",
       "    <tr style=\"text-align: right;\">\n",
       "      <th></th>\n",
       "      <th>train_type</th>\n",
       "      <th>count</th>\n",
       "    </tr>\n",
       "  </thead>\n",
       "  <tbody>\n",
       "    <tr>\n",
       "      <th>0</th>\n",
       "      <td>AVE</td>\n",
       "      <td>126085</td>\n",
       "    </tr>\n",
       "    <tr>\n",
       "      <th>1</th>\n",
       "      <td>REGIONAL</td>\n",
       "      <td>52857</td>\n",
       "    </tr>\n",
       "    <tr>\n",
       "      <th>2</th>\n",
       "      <td>ALVIA</td>\n",
       "      <td>7508</td>\n",
       "    </tr>\n",
       "    <tr>\n",
       "      <th>3</th>\n",
       "      <td>R. EXPRES</td>\n",
       "      <td>6365</td>\n",
       "    </tr>\n",
       "    <tr>\n",
       "      <th>4</th>\n",
       "      <td>AV City</td>\n",
       "      <td>5430</td>\n",
       "    </tr>\n",
       "    <tr>\n",
       "      <th>5</th>\n",
       "      <td>INTERCITY</td>\n",
       "      <td>4434</td>\n",
       "    </tr>\n",
       "    <tr>\n",
       "      <th>6</th>\n",
       "      <td>AVE-TGV</td>\n",
       "      <td>3391</td>\n",
       "    </tr>\n",
       "    <tr>\n",
       "      <th>7</th>\n",
       "      <td>MD-LD</td>\n",
       "      <td>1498</td>\n",
       "    </tr>\n",
       "    <tr>\n",
       "      <th>8</th>\n",
       "      <td>LD-MD</td>\n",
       "      <td>1418</td>\n",
       "    </tr>\n",
       "    <tr>\n",
       "      <th>9</th>\n",
       "      <td>AVE-MD</td>\n",
       "      <td>1341</td>\n",
       "    </tr>\n",
       "    <tr>\n",
       "      <th>10</th>\n",
       "      <td>MD-AVE</td>\n",
       "      <td>1257</td>\n",
       "    </tr>\n",
       "    <tr>\n",
       "      <th>11</th>\n",
       "      <td>AVE-LD</td>\n",
       "      <td>1100</td>\n",
       "    </tr>\n",
       "    <tr>\n",
       "      <th>12</th>\n",
       "      <td>MD</td>\n",
       "      <td>895</td>\n",
       "    </tr>\n",
       "    <tr>\n",
       "      <th>13</th>\n",
       "      <td>TRENHOTEL</td>\n",
       "      <td>891</td>\n",
       "    </tr>\n",
       "    <tr>\n",
       "      <th>14</th>\n",
       "      <td>LD</td>\n",
       "      <td>421</td>\n",
       "    </tr>\n",
       "    <tr>\n",
       "      <th>15</th>\n",
       "      <td>LD-AVE</td>\n",
       "      <td>375</td>\n",
       "    </tr>\n",
       "  </tbody>\n",
       "</table>\n",
       "</div>"
      ],
      "text/plain": [
       "   train_type   count\n",
       "0         AVE  126085\n",
       "1    REGIONAL   52857\n",
       "2       ALVIA    7508\n",
       "3   R. EXPRES    6365\n",
       "4     AV City    5430\n",
       "5   INTERCITY    4434\n",
       "6     AVE-TGV    3391\n",
       "7       MD-LD    1498\n",
       "8       LD-MD    1418\n",
       "9      AVE-MD    1341\n",
       "10     MD-AVE    1257\n",
       "11     AVE-LD    1100\n",
       "12         MD     895\n",
       "13  TRENHOTEL     891\n",
       "14         LD     421\n",
       "15     LD-AVE     375"
      ]
     },
     "execution_count": 25,
     "metadata": {},
     "output_type": "execute_result"
    }
   ],
   "source": [
    "dfresult['train_type'].value_counts().reset_index()"
   ]
  },
  {
   "cell_type": "code",
   "execution_count": 26,
   "metadata": {},
   "outputs": [
    {
     "data": {
      "image/png": "[encoded data removed]",
      "text/plain": [
       "<Figure size 640x480 with 1 Axes>"
      ]
     },
     "metadata": {},
     "output_type": "display_data"
    }
   ],
   "source": [
    "sns.countplot(x='train_type', data=dfresult)\n",
    "plt.xticks(fontsize=10, rotation=90, ha='right')\n",
    "plt.show()"
   ]
  },
  {
   "cell_type": "code",
   "execution_count": 27,
   "metadata": {},
   "outputs": [
    {
     "name": "stderr",
     "output_type": "stream",
     "text": [
      "C:\\Users\\Enviro Global\\anaconda3\\Lib\\site-packages\\seaborn\\_oldcore.py:1119: FutureWarning: use_inf_as_na option is deprecated and will be removed in a future version. Convert inf values to NaN before operating instead.\n",
      "  with pd.option_context('mode.use_inf_as_na', True):\n"
     ]
    },
    {
     "data": {
      "image/png": "[encoded data removed]",
      "text/plain": [
       "<Figure size 1500x600 with 1 Axes>"
      ]
     },
     "metadata": {},
     "output_type": "display_data"
    }
   ],
   "source": [
    "plt.subplots(figsize=(15,6))\n",
    "sns.histplot(dfresult['train_type'])\n",
    "plt.xticks(fontsize=12, rotation=90, ha='right')\n",
    "plt.show()"
   ]
  },
  {
   "cell_type": "markdown",
   "metadata": {},
   "source": [
    "**Question: Which train runs the maximum in number as compared to other train types?**"
   ]
  },
  {
   "cell_type": "markdown",
   "metadata": {},
   "source": [
    "**Answer:** The train that runs the maximum number of passengers is **AVE**.\n"
   ]
  },
  {
   "cell_type": "markdown",
   "metadata": {},
   "source": [
    "#### **Task 15: Plot number of trains of different class**\n"
   ]
  },
  {
   "cell_type": "code",
   "execution_count": 28,
   "metadata": {},
   "outputs": [
    {
     "data": {
      "text/html": [
       "<div>\n",
       "<style scoped>\n",
       "    .dataframe tbody tr th:only-of-type {\n",
       "        vertical-align: middle;\n",
       "    }\n",
       "\n",
       "    .dataframe tbody tr th {\n",
       "        vertical-align: top;\n",
       "    }\n",
       "\n",
       "    .dataframe thead th {\n",
       "        text-align: right;\n",
       "    }\n",
       "</style>\n",
       "<table border=\"1\" class=\"dataframe\">\n",
       "  <thead>\n",
       "    <tr style=\"text-align: right;\">\n",
       "      <th></th>\n",
       "      <th>train_class</th>\n",
       "      <th>count</th>\n",
       "    </tr>\n",
       "  </thead>\n",
       "  <tbody>\n",
       "    <tr>\n",
       "      <th>0</th>\n",
       "      <td>Turista</td>\n",
       "      <td>164016</td>\n",
       "    </tr>\n",
       "    <tr>\n",
       "      <th>1</th>\n",
       "      <td>Preferente</td>\n",
       "      <td>24476</td>\n",
       "    </tr>\n",
       "    <tr>\n",
       "      <th>2</th>\n",
       "      <td>Turista Plus</td>\n",
       "      <td>19922</td>\n",
       "    </tr>\n",
       "    <tr>\n",
       "      <th>3</th>\n",
       "      <td>Turista con enlace</td>\n",
       "      <td>6827</td>\n",
       "    </tr>\n",
       "    <tr>\n",
       "      <th>4</th>\n",
       "      <td>Cama Turista</td>\n",
       "      <td>25</td>\n",
       "    </tr>\n",
       "  </tbody>\n",
       "</table>\n",
       "</div>"
      ],
      "text/plain": [
       "          train_class   count\n",
       "0             Turista  164016\n",
       "1          Preferente   24476\n",
       "2        Turista Plus   19922\n",
       "3  Turista con enlace    6827\n",
       "4        Cama Turista      25"
      ]
     },
     "execution_count": 28,
     "metadata": {},
     "output_type": "execute_result"
    }
   ],
   "source": [
    "#write code here\n",
    "dfresult['train_class'].value_counts().reset_index()"
   ]
  },
  {
   "cell_type": "code",
   "execution_count": 29,
   "metadata": {},
   "outputs": [
    {
     "data": {
      "text/plain": [
       "train_type  train_class       \n",
       "ALVIA       Preferente             3605\n",
       "            Turista                3873\n",
       "            Turista Plus             30\n",
       "AV City     Turista                2598\n",
       "            Turista Plus           2832\n",
       "AVE         Preferente            19802\n",
       "            Turista               90394\n",
       "            Turista Plus          15889\n",
       "AVE-LD      Preferente                9\n",
       "            Turista                 200\n",
       "            Turista Plus             22\n",
       "            Turista con enlace      869\n",
       "AVE-MD      Turista                  69\n",
       "            Turista con enlace     1272\n",
       "AVE-TGV     Preferente              215\n",
       "            Turista                2730\n",
       "            Turista Plus            446\n",
       "INTERCITY   Preferente               50\n",
       "            Turista                3699\n",
       "            Turista Plus            685\n",
       "LD          Turista con enlace      421\n",
       "LD-AVE      Preferente               22\n",
       "            Turista                 337\n",
       "            Turista Plus             16\n",
       "LD-MD       Preferente              157\n",
       "            Turista                   5\n",
       "            Turista Plus              1\n",
       "            Turista con enlace     1255\n",
       "MD          Preferente              159\n",
       "            Turista con enlace      736\n",
       "MD-AVE      Turista                  23\n",
       "            Turista Plus              1\n",
       "            Turista con enlace     1233\n",
       "MD-LD       Preferente              457\n",
       "            Turista con enlace     1041\n",
       "R. EXPRES   Turista                6365\n",
       "REGIONAL    Turista               52857\n",
       "TRENHOTEL   Cama Turista             25\n",
       "            Turista                 866\n",
       "Name: train_class, dtype: int64"
      ]
     },
     "execution_count": 29,
     "metadata": {},
     "output_type": "execute_result"
    }
   ],
   "source": [
    "dfresult.groupby(['train_type', 'train_class'])['train_class'].count()"
   ]
  },
  {
   "cell_type": "code",
   "execution_count": 30,
   "metadata": {},
   "outputs": [
    {
     "data": {
      "text/plain": [
       "<Axes: xlabel='train_class', ylabel='count'>"
      ]
     },
     "execution_count": 30,
     "metadata": {},
     "output_type": "execute_result"
    },
    {
     "data": {
      "image/png": "[encoded data removed]",
      "text/plain": [
       "<Figure size 640x480 with 1 Axes>"
      ]
     },
     "metadata": {},
     "output_type": "display_data"
    }
   ],
   "source": [
    "sns.countplot(x='train_class', data=dfresult)"
   ]
  },
  {
   "cell_type": "markdown",
   "metadata": {},
   "source": [
    "**Question: Which the most common train class for traveling among people in general?**"
   ]
  },
  {
   "cell_type": "markdown",
   "metadata": {},
   "source": [
    "**Answer:** The most common Train class for travelling among people in general is **Turista**\n"
   ]
  },
  {
   "cell_type": "markdown",
   "metadata": {},
   "source": [
    "#### **Task 16: Plot number of tickets bought from each category**\n"
   ]
  },
  {
   "cell_type": "code",
   "execution_count": 31,
   "metadata": {},
   "outputs": [
    {
     "data": {
      "text/plain": [
       "array(['Flexible', 'Promo +', 'Promo', 'Adulto ida', 'Mesa'], dtype=object)"
      ]
     },
     "execution_count": 31,
     "metadata": {},
     "output_type": "execute_result"
    }
   ],
   "source": [
    "#write code here\n",
    "dfresult['fare'].unique()"
   ]
  },
  {
   "cell_type": "code",
   "execution_count": 32,
   "metadata": {},
   "outputs": [
    {
     "data": {
      "text/html": [
       "<div>\n",
       "<style scoped>\n",
       "    .dataframe tbody tr th:only-of-type {\n",
       "        vertical-align: middle;\n",
       "    }\n",
       "\n",
       "    .dataframe tbody tr th {\n",
       "        vertical-align: top;\n",
       "    }\n",
       "\n",
       "    .dataframe thead th {\n",
       "        text-align: right;\n",
       "    }\n",
       "</style>\n",
       "<table border=\"1\" class=\"dataframe\">\n",
       "  <thead>\n",
       "    <tr style=\"text-align: right;\">\n",
       "      <th></th>\n",
       "      <th>fare</th>\n",
       "      <th>count</th>\n",
       "    </tr>\n",
       "  </thead>\n",
       "  <tbody>\n",
       "    <tr>\n",
       "      <th>0</th>\n",
       "      <td>Promo</td>\n",
       "      <td>132065</td>\n",
       "    </tr>\n",
       "    <tr>\n",
       "      <th>1</th>\n",
       "      <td>Adulto ida</td>\n",
       "      <td>59222</td>\n",
       "    </tr>\n",
       "    <tr>\n",
       "      <th>2</th>\n",
       "      <td>Flexible</td>\n",
       "      <td>20810</td>\n",
       "    </tr>\n",
       "    <tr>\n",
       "      <th>3</th>\n",
       "      <td>Promo +</td>\n",
       "      <td>3081</td>\n",
       "    </tr>\n",
       "    <tr>\n",
       "      <th>4</th>\n",
       "      <td>Mesa</td>\n",
       "      <td>88</td>\n",
       "    </tr>\n",
       "  </tbody>\n",
       "</table>\n",
       "</div>"
      ],
      "text/plain": [
       "         fare   count\n",
       "0       Promo  132065\n",
       "1  Adulto ida   59222\n",
       "2    Flexible   20810\n",
       "3     Promo +    3081\n",
       "4        Mesa      88"
      ]
     },
     "execution_count": 32,
     "metadata": {},
     "output_type": "execute_result"
    }
   ],
   "source": [
    "dfresult['fare'].value_counts().reset_index()"
   ]
  },
  {
   "cell_type": "code",
   "execution_count": 33,
   "metadata": {},
   "outputs": [
    {
     "data": {
      "text/plain": [
       "<Axes: xlabel='fare', ylabel='count'>"
      ]
     },
     "execution_count": 33,
     "metadata": {},
     "output_type": "execute_result"
    },
    {
     "data": {
      "image/png": "[encoded data removed]",
      "text/plain": [
       "<Figure size 640x480 with 1 Axes>"
      ]
     },
     "metadata": {},
     "output_type": "display_data"
    }
   ],
   "source": [
    "sns.countplot(x='fare', data=dfresult)"
   ]
  },
  {
   "cell_type": "markdown",
   "metadata": {},
   "source": [
    "**Question: Which the most common tickets are bought?**"
   ]
  },
  {
   "cell_type": "markdown",
   "metadata": {},
   "source": [
    "**Answer:** \n",
    "The most commonly purchased ticket type is **Promo Fare**"
   ]
  },
  {
   "cell_type": "markdown",
   "metadata": {},
   "source": [
    "#### **Task 17: Plot distribution of the ticket prices**"
   ]
  },
  {
   "cell_type": "code",
   "execution_count": 34,
   "metadata": {},
   "outputs": [
    {
     "data": {
      "text/plain": [
       "Text(0.5, 1.0, 'Distribution of Ticket Price')"
      ]
     },
     "execution_count": 34,
     "metadata": {},
     "output_type": "execute_result"
    },
    {
     "data": {
      "image/png": "[encoded data removed]",
      "text/plain": [
       "<Figure size 640x480 with 1 Axes>"
      ]
     },
     "metadata": {},
     "output_type": "display_data"
    }
   ],
   "source": [
    "#write code here\n",
    "dfresult['price'].hist()\n",
    "plt.xlabel('Price Range')\n",
    "plt.ylabel('Count')\n",
    "plt.title('Distribution of Ticket Price')"
   ]
  },
  {
   "cell_type": "markdown",
   "metadata": {},
   "source": [
    "**Question: What readings can you get from the above plot?**"
   ]
  },
  {
   "cell_type": "markdown",
   "metadata": {},
   "source": [
    "**Answer:**  Majority of the purchased tickets cost ranges from around **16-28**.        "
   ]
  },
  {
   "cell_type": "markdown",
   "metadata": {},
   "source": [
    "###### **Task 18: Show train_class vs price through boxplot**"
   ]
  },
  {
   "cell_type": "code",
   "execution_count": 35,
   "metadata": {},
   "outputs": [
    {
     "data": {
      "image/png": "[encoded data removed]",
      "text/plain": [
       "<Figure size 640x480 with 1 Axes>"
      ]
     },
     "metadata": {},
     "output_type": "display_data"
    }
   ],
   "source": [
    "#write code here\n",
    "sns.boxplot(x='train_class', y='price', data=dfresult)\n",
    "plt.xticks(fontsize=12, rotation=90, ha='right')\n",
    "plt.show()"
   ]
  },
  {
   "cell_type": "markdown",
   "metadata": {},
   "source": [
    "**Question: What pricing trends can you find out by looking at the plot above?**"
   ]
  },
  {
   "cell_type": "markdown",
   "metadata": {},
   "source": [
    "**Answer:** The plot above shows that the average price for Turista is the lowest as compared to the other train class, that is probably the reason why it is the most popular. "
   ]
  },
  {
   "cell_type": "markdown",
   "metadata": {},
   "source": [
    "#### **Task 19: Show train_type vs price through boxplot**\n"
   ]
  },
  {
   "cell_type": "code",
   "execution_count": 36,
   "metadata": {},
   "outputs": [
    {
     "data": {
      "image/png": "[encoded data removed]",
      "text/plain": [
       "<Figure size 1000x600 with 1 Axes>"
      ]
     },
     "metadata": {},
     "output_type": "display_data"
    }
   ],
   "source": [
    "#write code here\n",
    "plt.figure(figsize=(10,6))\n",
    "sns.boxplot(x='train_type', y='price', data=dfresult)\n",
    "plt.xticks(fontsize=10, rotation=90, ha='right')\n",
    "plt.show()"
   ]
  },
  {
   "cell_type": "markdown",
   "metadata": {},
   "source": [
    "**Question: Which type of trains cost more as compared to others?**"
   ]
  },
  {
   "cell_type": "markdown",
   "metadata": {},
   "source": [
    "**Answer:** The type of trains which cost more than the others are **AVE** and **AVE-TGV**.\n",
    "\n"
   ]
  },
  {
   "cell_type": "markdown",
   "metadata": {},
   "source": [
    "## Feature Engineering\n"
   ]
  },
  {
   "cell_type": "code",
   "execution_count": 37,
   "metadata": {},
   "outputs": [
    {
     "data": {
      "text/html": [
       "<div>\n",
       "<style scoped>\n",
       "    .dataframe tbody tr th:only-of-type {\n",
       "        vertical-align: middle;\n",
       "    }\n",
       "\n",
       "    .dataframe tbody tr th {\n",
       "        vertical-align: top;\n",
       "    }\n",
       "\n",
       "    .dataframe thead th {\n",
       "        text-align: right;\n",
       "    }\n",
       "</style>\n",
       "<table border=\"1\" class=\"dataframe\">\n",
       "  <thead>\n",
       "    <tr style=\"text-align: right;\">\n",
       "      <th></th>\n",
       "      <th>index</th>\n",
       "      <th>insert_date</th>\n",
       "      <th>origin</th>\n",
       "      <th>destination</th>\n",
       "      <th>start_date</th>\n",
       "      <th>end_date</th>\n",
       "      <th>train_type</th>\n",
       "      <th>price</th>\n",
       "      <th>train_class</th>\n",
       "      <th>fare</th>\n",
       "    </tr>\n",
       "  </thead>\n",
       "  <tbody>\n",
       "    <tr>\n",
       "      <th>0</th>\n",
       "      <td>0</td>\n",
       "      <td>2019-04-19 05:37:35</td>\n",
       "      <td>PONFERRADA</td>\n",
       "      <td>MADRID</td>\n",
       "      <td>2019-06-02 15:00:00</td>\n",
       "      <td>2019-06-02 19:42:00</td>\n",
       "      <td>MD-AVE</td>\n",
       "      <td>59.50</td>\n",
       "      <td>Turista con enlace</td>\n",
       "      <td>Flexible</td>\n",
       "    </tr>\n",
       "    <tr>\n",
       "      <th>1</th>\n",
       "      <td>1</td>\n",
       "      <td>2019-04-19 05:37:35</td>\n",
       "      <td>PONFERRADA</td>\n",
       "      <td>MADRID</td>\n",
       "      <td>2019-06-02 17:15:00</td>\n",
       "      <td>2019-06-02 23:03:00</td>\n",
       "      <td>MD-AVE</td>\n",
       "      <td>34.65</td>\n",
       "      <td>Turista con enlace</td>\n",
       "      <td>Promo +</td>\n",
       "    </tr>\n",
       "    <tr>\n",
       "      <th>2</th>\n",
       "      <td>2</td>\n",
       "      <td>2019-04-19 05:37:35</td>\n",
       "      <td>PONFERRADA</td>\n",
       "      <td>MADRID</td>\n",
       "      <td>2019-06-02 17:15:00</td>\n",
       "      <td>2019-06-02 23:10:00</td>\n",
       "      <td>MD-LD</td>\n",
       "      <td>39.95</td>\n",
       "      <td>Turista con enlace</td>\n",
       "      <td>Promo +</td>\n",
       "    </tr>\n",
       "    <tr>\n",
       "      <th>3</th>\n",
       "      <td>3</td>\n",
       "      <td>2019-04-19 05:37:35</td>\n",
       "      <td>PONFERRADA</td>\n",
       "      <td>MADRID</td>\n",
       "      <td>2019-06-02 17:15:00</td>\n",
       "      <td>2019-06-02 22:14:00</td>\n",
       "      <td>MD-AVE</td>\n",
       "      <td>40.60</td>\n",
       "      <td>Turista con enlace</td>\n",
       "      <td>Promo +</td>\n",
       "    </tr>\n",
       "    <tr>\n",
       "      <th>4</th>\n",
       "      <td>4</td>\n",
       "      <td>2019-04-19 05:37:35</td>\n",
       "      <td>PONFERRADA</td>\n",
       "      <td>MADRID</td>\n",
       "      <td>2019-06-02 18:55:00</td>\n",
       "      <td>2019-06-02 23:03:00</td>\n",
       "      <td>ALVIA</td>\n",
       "      <td>27.90</td>\n",
       "      <td>Turista</td>\n",
       "      <td>Promo</td>\n",
       "    </tr>\n",
       "    <tr>\n",
       "      <th>...</th>\n",
       "      <td>...</td>\n",
       "      <td>...</td>\n",
       "      <td>...</td>\n",
       "      <td>...</td>\n",
       "      <td>...</td>\n",
       "      <td>...</td>\n",
       "      <td>...</td>\n",
       "      <td>...</td>\n",
       "      <td>...</td>\n",
       "      <td>...</td>\n",
       "    </tr>\n",
       "    <tr>\n",
       "      <th>215904</th>\n",
       "      <td>215904</td>\n",
       "      <td>2019-04-19 05:31:30</td>\n",
       "      <td>MADRID</td>\n",
       "      <td>SEVILLA</td>\n",
       "      <td>2019-06-01 17:00:00</td>\n",
       "      <td>2019-06-01 19:38:00</td>\n",
       "      <td>AVE</td>\n",
       "      <td>47.30</td>\n",
       "      <td>Turista</td>\n",
       "      <td>Promo</td>\n",
       "    </tr>\n",
       "    <tr>\n",
       "      <th>215905</th>\n",
       "      <td>215905</td>\n",
       "      <td>2019-04-19 05:31:30</td>\n",
       "      <td>MADRID</td>\n",
       "      <td>SEVILLA</td>\n",
       "      <td>2019-06-01 18:00:00</td>\n",
       "      <td>2019-06-01 20:32:00</td>\n",
       "      <td>AVE</td>\n",
       "      <td>47.30</td>\n",
       "      <td>Turista</td>\n",
       "      <td>Promo</td>\n",
       "    </tr>\n",
       "    <tr>\n",
       "      <th>215906</th>\n",
       "      <td>215906</td>\n",
       "      <td>2019-04-19 05:31:30</td>\n",
       "      <td>MADRID</td>\n",
       "      <td>SEVILLA</td>\n",
       "      <td>2019-06-01 19:00:00</td>\n",
       "      <td>2019-06-01 21:38:00</td>\n",
       "      <td>AVE</td>\n",
       "      <td>47.30</td>\n",
       "      <td>Turista</td>\n",
       "      <td>Promo</td>\n",
       "    </tr>\n",
       "    <tr>\n",
       "      <th>215907</th>\n",
       "      <td>215907</td>\n",
       "      <td>2019-04-19 05:31:30</td>\n",
       "      <td>MADRID</td>\n",
       "      <td>SEVILLA</td>\n",
       "      <td>2019-06-01 20:35:00</td>\n",
       "      <td>2019-06-01 23:15:00</td>\n",
       "      <td>AVE</td>\n",
       "      <td>47.30</td>\n",
       "      <td>Turista</td>\n",
       "      <td>Promo</td>\n",
       "    </tr>\n",
       "    <tr>\n",
       "      <th>215908</th>\n",
       "      <td>215908</td>\n",
       "      <td>2019-04-19 05:31:30</td>\n",
       "      <td>MADRID</td>\n",
       "      <td>SEVILLA</td>\n",
       "      <td>2019-06-01 21:25:00</td>\n",
       "      <td>2019-06-02 00:10:00</td>\n",
       "      <td>AV City</td>\n",
       "      <td>52.20</td>\n",
       "      <td>Turista Plus</td>\n",
       "      <td>Promo</td>\n",
       "    </tr>\n",
       "  </tbody>\n",
       "</table>\n",
       "<p>215909 rows × 10 columns</p>\n",
       "</div>"
      ],
      "text/plain": [
       "         index          insert_date      origin destination  \\\n",
       "0            0  2019-04-19 05:37:35  PONFERRADA      MADRID   \n",
       "1            1  2019-04-19 05:37:35  PONFERRADA      MADRID   \n",
       "2            2  2019-04-19 05:37:35  PONFERRADA      MADRID   \n",
       "3            3  2019-04-19 05:37:35  PONFERRADA      MADRID   \n",
       "4            4  2019-04-19 05:37:35  PONFERRADA      MADRID   \n",
       "...        ...                  ...         ...         ...   \n",
       "215904  215904  2019-04-19 05:31:30      MADRID     SEVILLA   \n",
       "215905  215905  2019-04-19 05:31:30      MADRID     SEVILLA   \n",
       "215906  215906  2019-04-19 05:31:30      MADRID     SEVILLA   \n",
       "215907  215907  2019-04-19 05:31:30      MADRID     SEVILLA   \n",
       "215908  215908  2019-04-19 05:31:30      MADRID     SEVILLA   \n",
       "\n",
       "                 start_date             end_date train_type  price  \\\n",
       "0       2019-06-02 15:00:00  2019-06-02 19:42:00     MD-AVE  59.50   \n",
       "1       2019-06-02 17:15:00  2019-06-02 23:03:00     MD-AVE  34.65   \n",
       "2       2019-06-02 17:15:00  2019-06-02 23:10:00      MD-LD  39.95   \n",
       "3       2019-06-02 17:15:00  2019-06-02 22:14:00     MD-AVE  40.60   \n",
       "4       2019-06-02 18:55:00  2019-06-02 23:03:00      ALVIA  27.90   \n",
       "...                     ...                  ...        ...    ...   \n",
       "215904  2019-06-01 17:00:00  2019-06-01 19:38:00        AVE  47.30   \n",
       "215905  2019-06-01 18:00:00  2019-06-01 20:32:00        AVE  47.30   \n",
       "215906  2019-06-01 19:00:00  2019-06-01 21:38:00        AVE  47.30   \n",
       "215907  2019-06-01 20:35:00  2019-06-01 23:15:00        AVE  47.30   \n",
       "215908  2019-06-01 21:25:00  2019-06-02 00:10:00    AV City  52.20   \n",
       "\n",
       "               train_class      fare  \n",
       "0       Turista con enlace  Flexible  \n",
       "1       Turista con enlace   Promo +  \n",
       "2       Turista con enlace   Promo +  \n",
       "3       Turista con enlace   Promo +  \n",
       "4                  Turista     Promo  \n",
       "...                    ...       ...  \n",
       "215904             Turista     Promo  \n",
       "215905             Turista     Promo  \n",
       "215906             Turista     Promo  \n",
       "215907             Turista     Promo  \n",
       "215908        Turista Plus     Promo  \n",
       "\n",
       "[215909 rows x 10 columns]"
      ]
     },
     "execution_count": 37,
     "metadata": {},
     "output_type": "execute_result"
    }
   ],
   "source": [
    "df = df.reset_index()\n",
    "df"
   ]
  },
  {
   "cell_type": "markdown",
   "metadata": {},
   "source": [
    "**Finding the travel time between the place of origin and destination**<br>\n",
    "We need to find out the travel time for each entry which can be obtained from the 'start_date' and 'end_date' column. Also if you see, these columns are in object type therefore datetimeFormat should be defined to perform the necessary operation of getting the required time."
   ]
  },
  {
   "cell_type": "markdown",
   "metadata": {},
   "source": [
    "**Import datetime library**"
   ]
  },
  {
   "cell_type": "code",
   "execution_count": 38,
   "metadata": {},
   "outputs": [],
   "source": [
    "#write code here\n",
    "import datetime"
   ]
  },
  {
   "cell_type": "code",
   "execution_count": 39,
   "metadata": {},
   "outputs": [],
   "source": [
    "datetimeFormat = '%Y-%m-%d %H:%M:%S'\n",
    "def fun(a,b):\n",
    "    diff = datetime.datetime.strptime(b, datetimeFormat)- datetime.datetime.strptime(a, datetimeFormat)\n",
    "    return(diff.seconds/3600.0)                  "
   ]
  },
  {
   "cell_type": "code",
   "execution_count": 40,
   "metadata": {},
   "outputs": [
    {
     "data": {
      "text/html": [
       "<div>\n",
       "<style scoped>\n",
       "    .dataframe tbody tr th:only-of-type {\n",
       "        vertical-align: middle;\n",
       "    }\n",
       "\n",
       "    .dataframe tbody tr th {\n",
       "        vertical-align: top;\n",
       "    }\n",
       "\n",
       "    .dataframe thead th {\n",
       "        text-align: right;\n",
       "    }\n",
       "</style>\n",
       "<table border=\"1\" class=\"dataframe\">\n",
       "  <thead>\n",
       "    <tr style=\"text-align: right;\">\n",
       "      <th></th>\n",
       "      <th>index</th>\n",
       "      <th>insert_date</th>\n",
       "      <th>origin</th>\n",
       "      <th>destination</th>\n",
       "      <th>start_date</th>\n",
       "      <th>end_date</th>\n",
       "      <th>train_type</th>\n",
       "      <th>price</th>\n",
       "      <th>train_class</th>\n",
       "      <th>fare</th>\n",
       "      <th>travel_time_in_hrs</th>\n",
       "    </tr>\n",
       "  </thead>\n",
       "  <tbody>\n",
       "    <tr>\n",
       "      <th>0</th>\n",
       "      <td>0</td>\n",
       "      <td>2019-04-19 05:37:35</td>\n",
       "      <td>PONFERRADA</td>\n",
       "      <td>MADRID</td>\n",
       "      <td>2019-06-02 15:00:00</td>\n",
       "      <td>2019-06-02 19:42:00</td>\n",
       "      <td>MD-AVE</td>\n",
       "      <td>59.50</td>\n",
       "      <td>Turista con enlace</td>\n",
       "      <td>Flexible</td>\n",
       "      <td>4.700000</td>\n",
       "    </tr>\n",
       "    <tr>\n",
       "      <th>1</th>\n",
       "      <td>1</td>\n",
       "      <td>2019-04-19 05:37:35</td>\n",
       "      <td>PONFERRADA</td>\n",
       "      <td>MADRID</td>\n",
       "      <td>2019-06-02 17:15:00</td>\n",
       "      <td>2019-06-02 23:03:00</td>\n",
       "      <td>MD-AVE</td>\n",
       "      <td>34.65</td>\n",
       "      <td>Turista con enlace</td>\n",
       "      <td>Promo +</td>\n",
       "      <td>5.800000</td>\n",
       "    </tr>\n",
       "    <tr>\n",
       "      <th>2</th>\n",
       "      <td>2</td>\n",
       "      <td>2019-04-19 05:37:35</td>\n",
       "      <td>PONFERRADA</td>\n",
       "      <td>MADRID</td>\n",
       "      <td>2019-06-02 17:15:00</td>\n",
       "      <td>2019-06-02 23:10:00</td>\n",
       "      <td>MD-LD</td>\n",
       "      <td>39.95</td>\n",
       "      <td>Turista con enlace</td>\n",
       "      <td>Promo +</td>\n",
       "      <td>5.916667</td>\n",
       "    </tr>\n",
       "    <tr>\n",
       "      <th>3</th>\n",
       "      <td>3</td>\n",
       "      <td>2019-04-19 05:37:35</td>\n",
       "      <td>PONFERRADA</td>\n",
       "      <td>MADRID</td>\n",
       "      <td>2019-06-02 17:15:00</td>\n",
       "      <td>2019-06-02 22:14:00</td>\n",
       "      <td>MD-AVE</td>\n",
       "      <td>40.60</td>\n",
       "      <td>Turista con enlace</td>\n",
       "      <td>Promo +</td>\n",
       "      <td>4.983333</td>\n",
       "    </tr>\n",
       "    <tr>\n",
       "      <th>4</th>\n",
       "      <td>4</td>\n",
       "      <td>2019-04-19 05:37:35</td>\n",
       "      <td>PONFERRADA</td>\n",
       "      <td>MADRID</td>\n",
       "      <td>2019-06-02 18:55:00</td>\n",
       "      <td>2019-06-02 23:03:00</td>\n",
       "      <td>ALVIA</td>\n",
       "      <td>27.90</td>\n",
       "      <td>Turista</td>\n",
       "      <td>Promo</td>\n",
       "      <td>4.133333</td>\n",
       "    </tr>\n",
       "    <tr>\n",
       "      <th>...</th>\n",
       "      <td>...</td>\n",
       "      <td>...</td>\n",
       "      <td>...</td>\n",
       "      <td>...</td>\n",
       "      <td>...</td>\n",
       "      <td>...</td>\n",
       "      <td>...</td>\n",
       "      <td>...</td>\n",
       "      <td>...</td>\n",
       "      <td>...</td>\n",
       "      <td>...</td>\n",
       "    </tr>\n",
       "    <tr>\n",
       "      <th>215904</th>\n",
       "      <td>215904</td>\n",
       "      <td>2019-04-19 05:31:30</td>\n",
       "      <td>MADRID</td>\n",
       "      <td>SEVILLA</td>\n",
       "      <td>2019-06-01 17:00:00</td>\n",
       "      <td>2019-06-01 19:38:00</td>\n",
       "      <td>AVE</td>\n",
       "      <td>47.30</td>\n",
       "      <td>Turista</td>\n",
       "      <td>Promo</td>\n",
       "      <td>2.633333</td>\n",
       "    </tr>\n",
       "    <tr>\n",
       "      <th>215905</th>\n",
       "      <td>215905</td>\n",
       "      <td>2019-04-19 05:31:30</td>\n",
       "      <td>MADRID</td>\n",
       "      <td>SEVILLA</td>\n",
       "      <td>2019-06-01 18:00:00</td>\n",
       "      <td>2019-06-01 20:32:00</td>\n",
       "      <td>AVE</td>\n",
       "      <td>47.30</td>\n",
       "      <td>Turista</td>\n",
       "      <td>Promo</td>\n",
       "      <td>2.533333</td>\n",
       "    </tr>\n",
       "    <tr>\n",
       "      <th>215906</th>\n",
       "      <td>215906</td>\n",
       "      <td>2019-04-19 05:31:30</td>\n",
       "      <td>MADRID</td>\n",
       "      <td>SEVILLA</td>\n",
       "      <td>2019-06-01 19:00:00</td>\n",
       "      <td>2019-06-01 21:38:00</td>\n",
       "      <td>AVE</td>\n",
       "      <td>47.30</td>\n",
       "      <td>Turista</td>\n",
       "      <td>Promo</td>\n",
       "      <td>2.633333</td>\n",
       "    </tr>\n",
       "    <tr>\n",
       "      <th>215907</th>\n",
       "      <td>215907</td>\n",
       "      <td>2019-04-19 05:31:30</td>\n",
       "      <td>MADRID</td>\n",
       "      <td>SEVILLA</td>\n",
       "      <td>2019-06-01 20:35:00</td>\n",
       "      <td>2019-06-01 23:15:00</td>\n",
       "      <td>AVE</td>\n",
       "      <td>47.30</td>\n",
       "      <td>Turista</td>\n",
       "      <td>Promo</td>\n",
       "      <td>2.666667</td>\n",
       "    </tr>\n",
       "    <tr>\n",
       "      <th>215908</th>\n",
       "      <td>215908</td>\n",
       "      <td>2019-04-19 05:31:30</td>\n",
       "      <td>MADRID</td>\n",
       "      <td>SEVILLA</td>\n",
       "      <td>2019-06-01 21:25:00</td>\n",
       "      <td>2019-06-02 00:10:00</td>\n",
       "      <td>AV City</td>\n",
       "      <td>52.20</td>\n",
       "      <td>Turista Plus</td>\n",
       "      <td>Promo</td>\n",
       "      <td>2.750000</td>\n",
       "    </tr>\n",
       "  </tbody>\n",
       "</table>\n",
       "<p>215909 rows × 11 columns</p>\n",
       "</div>"
      ],
      "text/plain": [
       "         index          insert_date      origin destination  \\\n",
       "0            0  2019-04-19 05:37:35  PONFERRADA      MADRID   \n",
       "1            1  2019-04-19 05:37:35  PONFERRADA      MADRID   \n",
       "2            2  2019-04-19 05:37:35  PONFERRADA      MADRID   \n",
       "3            3  2019-04-19 05:37:35  PONFERRADA      MADRID   \n",
       "4            4  2019-04-19 05:37:35  PONFERRADA      MADRID   \n",
       "...        ...                  ...         ...         ...   \n",
       "215904  215904  2019-04-19 05:31:30      MADRID     SEVILLA   \n",
       "215905  215905  2019-04-19 05:31:30      MADRID     SEVILLA   \n",
       "215906  215906  2019-04-19 05:31:30      MADRID     SEVILLA   \n",
       "215907  215907  2019-04-19 05:31:30      MADRID     SEVILLA   \n",
       "215908  215908  2019-04-19 05:31:30      MADRID     SEVILLA   \n",
       "\n",
       "                 start_date             end_date train_type  price  \\\n",
       "0       2019-06-02 15:00:00  2019-06-02 19:42:00     MD-AVE  59.50   \n",
       "1       2019-06-02 17:15:00  2019-06-02 23:03:00     MD-AVE  34.65   \n",
       "2       2019-06-02 17:15:00  2019-06-02 23:10:00      MD-LD  39.95   \n",
       "3       2019-06-02 17:15:00  2019-06-02 22:14:00     MD-AVE  40.60   \n",
       "4       2019-06-02 18:55:00  2019-06-02 23:03:00      ALVIA  27.90   \n",
       "...                     ...                  ...        ...    ...   \n",
       "215904  2019-06-01 17:00:00  2019-06-01 19:38:00        AVE  47.30   \n",
       "215905  2019-06-01 18:00:00  2019-06-01 20:32:00        AVE  47.30   \n",
       "215906  2019-06-01 19:00:00  2019-06-01 21:38:00        AVE  47.30   \n",
       "215907  2019-06-01 20:35:00  2019-06-01 23:15:00        AVE  47.30   \n",
       "215908  2019-06-01 21:25:00  2019-06-02 00:10:00    AV City  52.20   \n",
       "\n",
       "               train_class      fare  travel_time_in_hrs  \n",
       "0       Turista con enlace  Flexible            4.700000  \n",
       "1       Turista con enlace   Promo +            5.800000  \n",
       "2       Turista con enlace   Promo +            5.916667  \n",
       "3       Turista con enlace   Promo +            4.983333  \n",
       "4                  Turista     Promo            4.133333  \n",
       "...                    ...       ...                 ...  \n",
       "215904             Turista     Promo            2.633333  \n",
       "215905             Turista     Promo            2.533333  \n",
       "215906             Turista     Promo            2.633333  \n",
       "215907             Turista     Promo            2.666667  \n",
       "215908        Turista Plus     Promo            2.750000  \n",
       "\n",
       "[215909 rows x 11 columns]"
      ]
     },
     "execution_count": 40,
     "metadata": {},
     "output_type": "execute_result"
    }
   ],
   "source": [
    "df['travel_time_in_hrs'] = df.apply(lambda x:fun(x['start_date'],x['end_date']),axis=1) \n",
    "df"
   ]
  },
  {
   "cell_type": "markdown",
   "metadata": {},
   "source": [
    "#### **Task 20: Remove redundant features**\n"
   ]
  },
  {
   "cell_type": "markdown",
   "metadata": {},
   "source": [
    "**You need to remove features that are giving the related values as  'travel_time_in_hrs'**<br>\n",
    "*Hint: Look for date related columns*"
   ]
  },
  {
   "cell_type": "code",
   "execution_count": 41,
   "metadata": {
    "scrolled": true
   },
   "outputs": [
    {
     "data": {
      "text/html": [
       "<div>\n",
       "<style scoped>\n",
       "    .dataframe tbody tr th:only-of-type {\n",
       "        vertical-align: middle;\n",
       "    }\n",
       "\n",
       "    .dataframe tbody tr th {\n",
       "        vertical-align: top;\n",
       "    }\n",
       "\n",
       "    .dataframe thead th {\n",
       "        text-align: right;\n",
       "    }\n",
       "</style>\n",
       "<table border=\"1\" class=\"dataframe\">\n",
       "  <thead>\n",
       "    <tr style=\"text-align: right;\">\n",
       "      <th></th>\n",
       "      <th>index</th>\n",
       "      <th>origin</th>\n",
       "      <th>destination</th>\n",
       "      <th>train_type</th>\n",
       "      <th>price</th>\n",
       "      <th>train_class</th>\n",
       "      <th>fare</th>\n",
       "      <th>travel_time_in_hrs</th>\n",
       "    </tr>\n",
       "  </thead>\n",
       "  <tbody>\n",
       "    <tr>\n",
       "      <th>0</th>\n",
       "      <td>0</td>\n",
       "      <td>PONFERRADA</td>\n",
       "      <td>MADRID</td>\n",
       "      <td>MD-AVE</td>\n",
       "      <td>59.50</td>\n",
       "      <td>Turista con enlace</td>\n",
       "      <td>Flexible</td>\n",
       "      <td>4.700000</td>\n",
       "    </tr>\n",
       "    <tr>\n",
       "      <th>1</th>\n",
       "      <td>1</td>\n",
       "      <td>PONFERRADA</td>\n",
       "      <td>MADRID</td>\n",
       "      <td>MD-AVE</td>\n",
       "      <td>34.65</td>\n",
       "      <td>Turista con enlace</td>\n",
       "      <td>Promo +</td>\n",
       "      <td>5.800000</td>\n",
       "    </tr>\n",
       "    <tr>\n",
       "      <th>2</th>\n",
       "      <td>2</td>\n",
       "      <td>PONFERRADA</td>\n",
       "      <td>MADRID</td>\n",
       "      <td>MD-LD</td>\n",
       "      <td>39.95</td>\n",
       "      <td>Turista con enlace</td>\n",
       "      <td>Promo +</td>\n",
       "      <td>5.916667</td>\n",
       "    </tr>\n",
       "    <tr>\n",
       "      <th>3</th>\n",
       "      <td>3</td>\n",
       "      <td>PONFERRADA</td>\n",
       "      <td>MADRID</td>\n",
       "      <td>MD-AVE</td>\n",
       "      <td>40.60</td>\n",
       "      <td>Turista con enlace</td>\n",
       "      <td>Promo +</td>\n",
       "      <td>4.983333</td>\n",
       "    </tr>\n",
       "    <tr>\n",
       "      <th>4</th>\n",
       "      <td>4</td>\n",
       "      <td>PONFERRADA</td>\n",
       "      <td>MADRID</td>\n",
       "      <td>ALVIA</td>\n",
       "      <td>27.90</td>\n",
       "      <td>Turista</td>\n",
       "      <td>Promo</td>\n",
       "      <td>4.133333</td>\n",
       "    </tr>\n",
       "    <tr>\n",
       "      <th>...</th>\n",
       "      <td>...</td>\n",
       "      <td>...</td>\n",
       "      <td>...</td>\n",
       "      <td>...</td>\n",
       "      <td>...</td>\n",
       "      <td>...</td>\n",
       "      <td>...</td>\n",
       "      <td>...</td>\n",
       "    </tr>\n",
       "    <tr>\n",
       "      <th>215904</th>\n",
       "      <td>215904</td>\n",
       "      <td>MADRID</td>\n",
       "      <td>SEVILLA</td>\n",
       "      <td>AVE</td>\n",
       "      <td>47.30</td>\n",
       "      <td>Turista</td>\n",
       "      <td>Promo</td>\n",
       "      <td>2.633333</td>\n",
       "    </tr>\n",
       "    <tr>\n",
       "      <th>215905</th>\n",
       "      <td>215905</td>\n",
       "      <td>MADRID</td>\n",
       "      <td>SEVILLA</td>\n",
       "      <td>AVE</td>\n",
       "      <td>47.30</td>\n",
       "      <td>Turista</td>\n",
       "      <td>Promo</td>\n",
       "      <td>2.533333</td>\n",
       "    </tr>\n",
       "    <tr>\n",
       "      <th>215906</th>\n",
       "      <td>215906</td>\n",
       "      <td>MADRID</td>\n",
       "      <td>SEVILLA</td>\n",
       "      <td>AVE</td>\n",
       "      <td>47.30</td>\n",
       "      <td>Turista</td>\n",
       "      <td>Promo</td>\n",
       "      <td>2.633333</td>\n",
       "    </tr>\n",
       "    <tr>\n",
       "      <th>215907</th>\n",
       "      <td>215907</td>\n",
       "      <td>MADRID</td>\n",
       "      <td>SEVILLA</td>\n",
       "      <td>AVE</td>\n",
       "      <td>47.30</td>\n",
       "      <td>Turista</td>\n",
       "      <td>Promo</td>\n",
       "      <td>2.666667</td>\n",
       "    </tr>\n",
       "    <tr>\n",
       "      <th>215908</th>\n",
       "      <td>215908</td>\n",
       "      <td>MADRID</td>\n",
       "      <td>SEVILLA</td>\n",
       "      <td>AV City</td>\n",
       "      <td>52.20</td>\n",
       "      <td>Turista Plus</td>\n",
       "      <td>Promo</td>\n",
       "      <td>2.750000</td>\n",
       "    </tr>\n",
       "  </tbody>\n",
       "</table>\n",
       "<p>215909 rows × 8 columns</p>\n",
       "</div>"
      ],
      "text/plain": [
       "         index      origin destination train_type  price         train_class  \\\n",
       "0            0  PONFERRADA      MADRID     MD-AVE  59.50  Turista con enlace   \n",
       "1            1  PONFERRADA      MADRID     MD-AVE  34.65  Turista con enlace   \n",
       "2            2  PONFERRADA      MADRID      MD-LD  39.95  Turista con enlace   \n",
       "3            3  PONFERRADA      MADRID     MD-AVE  40.60  Turista con enlace   \n",
       "4            4  PONFERRADA      MADRID      ALVIA  27.90             Turista   \n",
       "...        ...         ...         ...        ...    ...                 ...   \n",
       "215904  215904      MADRID     SEVILLA        AVE  47.30             Turista   \n",
       "215905  215905      MADRID     SEVILLA        AVE  47.30             Turista   \n",
       "215906  215906      MADRID     SEVILLA        AVE  47.30             Turista   \n",
       "215907  215907      MADRID     SEVILLA        AVE  47.30             Turista   \n",
       "215908  215908      MADRID     SEVILLA    AV City  52.20        Turista Plus   \n",
       "\n",
       "            fare  travel_time_in_hrs  \n",
       "0       Flexible            4.700000  \n",
       "1        Promo +            5.800000  \n",
       "2        Promo +            5.916667  \n",
       "3        Promo +            4.983333  \n",
       "4          Promo            4.133333  \n",
       "...          ...                 ...  \n",
       "215904     Promo            2.633333  \n",
       "215905     Promo            2.533333  \n",
       "215906     Promo            2.633333  \n",
       "215907     Promo            2.666667  \n",
       "215908     Promo            2.750000  \n",
       "\n",
       "[215909 rows x 8 columns]"
      ]
     },
     "execution_count": 41,
     "metadata": {},
     "output_type": "execute_result"
    }
   ],
   "source": [
    "#write code here\n",
    "df1=df.drop(['insert_date', 'start_date', 'end_date'], axis=1)\n",
    "df1"
   ]
  },
  {
   "cell_type": "markdown",
   "metadata": {},
   "source": [
    "We now need to find out the pricing from 'MADRID' to other destinations. We also need to find out time which each train requires for travelling. "
   ]
  },
  {
   "cell_type": "markdown",
   "metadata": {},
   "source": [
    "## **Travelling from MADRID to SEVILLA**"
   ]
  },
  {
   "cell_type": "markdown",
   "metadata": {},
   "source": [
    "#### Task 21: Findout people travelling from MADRID to SEVILLA"
   ]
  },
  {
   "cell_type": "code",
   "execution_count": 42,
   "metadata": {},
   "outputs": [
    {
     "data": {
      "text/plain": [
       "array(['PONFERRADA', 'MADRID', 'SEVILLA', 'VALENCIA', 'BARCELONA'],\n",
       "      dtype=object)"
      ]
     },
     "execution_count": 42,
     "metadata": {},
     "output_type": "execute_result"
    }
   ],
   "source": [
    "df1['origin'].unique()"
   ]
  },
  {
   "cell_type": "code",
   "execution_count": 43,
   "metadata": {},
   "outputs": [
    {
     "data": {
      "text/plain": [
       "array(['MADRID', 'VALENCIA', 'BARCELONA', 'PONFERRADA', 'SEVILLA'],\n",
       "      dtype=object)"
      ]
     },
     "execution_count": 43,
     "metadata": {},
     "output_type": "execute_result"
    }
   ],
   "source": [
    "df1['destination'].unique()"
   ]
  },
  {
   "cell_type": "code",
   "execution_count": 44,
   "metadata": {},
   "outputs": [
    {
     "data": {
      "text/html": [
       "<div>\n",
       "<style scoped>\n",
       "    .dataframe tbody tr th:only-of-type {\n",
       "        vertical-align: middle;\n",
       "    }\n",
       "\n",
       "    .dataframe tbody tr th {\n",
       "        vertical-align: top;\n",
       "    }\n",
       "\n",
       "    .dataframe thead th {\n",
       "        text-align: right;\n",
       "    }\n",
       "</style>\n",
       "<table border=\"1\" class=\"dataframe\">\n",
       "  <thead>\n",
       "    <tr style=\"text-align: right;\">\n",
       "      <th></th>\n",
       "      <th>index</th>\n",
       "      <th>origin</th>\n",
       "      <th>destination</th>\n",
       "      <th>train_type</th>\n",
       "      <th>price</th>\n",
       "      <th>train_class</th>\n",
       "      <th>fare</th>\n",
       "      <th>travel_time_in_hrs</th>\n",
       "      <th>TravelCat</th>\n",
       "    </tr>\n",
       "  </thead>\n",
       "  <tbody>\n",
       "    <tr>\n",
       "      <th>0</th>\n",
       "      <td>0</td>\n",
       "      <td>PONFERRADA</td>\n",
       "      <td>MADRID</td>\n",
       "      <td>MD-AVE</td>\n",
       "      <td>59.50</td>\n",
       "      <td>Turista con enlace</td>\n",
       "      <td>Flexible</td>\n",
       "      <td>4.700000</td>\n",
       "      <td>3-6</td>\n",
       "    </tr>\n",
       "    <tr>\n",
       "      <th>1</th>\n",
       "      <td>1</td>\n",
       "      <td>PONFERRADA</td>\n",
       "      <td>MADRID</td>\n",
       "      <td>MD-AVE</td>\n",
       "      <td>34.65</td>\n",
       "      <td>Turista con enlace</td>\n",
       "      <td>Promo +</td>\n",
       "      <td>5.800000</td>\n",
       "      <td>3-6</td>\n",
       "    </tr>\n",
       "    <tr>\n",
       "      <th>2</th>\n",
       "      <td>2</td>\n",
       "      <td>PONFERRADA</td>\n",
       "      <td>MADRID</td>\n",
       "      <td>MD-LD</td>\n",
       "      <td>39.95</td>\n",
       "      <td>Turista con enlace</td>\n",
       "      <td>Promo +</td>\n",
       "      <td>5.916667</td>\n",
       "      <td>3-6</td>\n",
       "    </tr>\n",
       "    <tr>\n",
       "      <th>3</th>\n",
       "      <td>3</td>\n",
       "      <td>PONFERRADA</td>\n",
       "      <td>MADRID</td>\n",
       "      <td>MD-AVE</td>\n",
       "      <td>40.60</td>\n",
       "      <td>Turista con enlace</td>\n",
       "      <td>Promo +</td>\n",
       "      <td>4.983333</td>\n",
       "      <td>3-6</td>\n",
       "    </tr>\n",
       "    <tr>\n",
       "      <th>4</th>\n",
       "      <td>4</td>\n",
       "      <td>PONFERRADA</td>\n",
       "      <td>MADRID</td>\n",
       "      <td>ALVIA</td>\n",
       "      <td>27.90</td>\n",
       "      <td>Turista</td>\n",
       "      <td>Promo</td>\n",
       "      <td>4.133333</td>\n",
       "      <td>3-6</td>\n",
       "    </tr>\n",
       "    <tr>\n",
       "      <th>...</th>\n",
       "      <td>...</td>\n",
       "      <td>...</td>\n",
       "      <td>...</td>\n",
       "      <td>...</td>\n",
       "      <td>...</td>\n",
       "      <td>...</td>\n",
       "      <td>...</td>\n",
       "      <td>...</td>\n",
       "      <td>...</td>\n",
       "    </tr>\n",
       "    <tr>\n",
       "      <th>215904</th>\n",
       "      <td>215904</td>\n",
       "      <td>MADRID</td>\n",
       "      <td>SEVILLA</td>\n",
       "      <td>AVE</td>\n",
       "      <td>47.30</td>\n",
       "      <td>Turista</td>\n",
       "      <td>Promo</td>\n",
       "      <td>2.633333</td>\n",
       "      <td>0-3</td>\n",
       "    </tr>\n",
       "    <tr>\n",
       "      <th>215905</th>\n",
       "      <td>215905</td>\n",
       "      <td>MADRID</td>\n",
       "      <td>SEVILLA</td>\n",
       "      <td>AVE</td>\n",
       "      <td>47.30</td>\n",
       "      <td>Turista</td>\n",
       "      <td>Promo</td>\n",
       "      <td>2.533333</td>\n",
       "      <td>0-3</td>\n",
       "    </tr>\n",
       "    <tr>\n",
       "      <th>215906</th>\n",
       "      <td>215906</td>\n",
       "      <td>MADRID</td>\n",
       "      <td>SEVILLA</td>\n",
       "      <td>AVE</td>\n",
       "      <td>47.30</td>\n",
       "      <td>Turista</td>\n",
       "      <td>Promo</td>\n",
       "      <td>2.633333</td>\n",
       "      <td>0-3</td>\n",
       "    </tr>\n",
       "    <tr>\n",
       "      <th>215907</th>\n",
       "      <td>215907</td>\n",
       "      <td>MADRID</td>\n",
       "      <td>SEVILLA</td>\n",
       "      <td>AVE</td>\n",
       "      <td>47.30</td>\n",
       "      <td>Turista</td>\n",
       "      <td>Promo</td>\n",
       "      <td>2.666667</td>\n",
       "      <td>0-3</td>\n",
       "    </tr>\n",
       "    <tr>\n",
       "      <th>215908</th>\n",
       "      <td>215908</td>\n",
       "      <td>MADRID</td>\n",
       "      <td>SEVILLA</td>\n",
       "      <td>AV City</td>\n",
       "      <td>52.20</td>\n",
       "      <td>Turista Plus</td>\n",
       "      <td>Promo</td>\n",
       "      <td>2.750000</td>\n",
       "      <td>0-3</td>\n",
       "    </tr>\n",
       "  </tbody>\n",
       "</table>\n",
       "<p>215909 rows × 9 columns</p>\n",
       "</div>"
      ],
      "text/plain": [
       "         index      origin destination train_type  price         train_class  \\\n",
       "0            0  PONFERRADA      MADRID     MD-AVE  59.50  Turista con enlace   \n",
       "1            1  PONFERRADA      MADRID     MD-AVE  34.65  Turista con enlace   \n",
       "2            2  PONFERRADA      MADRID      MD-LD  39.95  Turista con enlace   \n",
       "3            3  PONFERRADA      MADRID     MD-AVE  40.60  Turista con enlace   \n",
       "4            4  PONFERRADA      MADRID      ALVIA  27.90             Turista   \n",
       "...        ...         ...         ...        ...    ...                 ...   \n",
       "215904  215904      MADRID     SEVILLA        AVE  47.30             Turista   \n",
       "215905  215905      MADRID     SEVILLA        AVE  47.30             Turista   \n",
       "215906  215906      MADRID     SEVILLA        AVE  47.30             Turista   \n",
       "215907  215907      MADRID     SEVILLA        AVE  47.30             Turista   \n",
       "215908  215908      MADRID     SEVILLA    AV City  52.20        Turista Plus   \n",
       "\n",
       "            fare  travel_time_in_hrs TravelCat  \n",
       "0       Flexible            4.700000       3-6  \n",
       "1        Promo +            5.800000       3-6  \n",
       "2        Promo +            5.916667       3-6  \n",
       "3        Promo +            4.983333       3-6  \n",
       "4          Promo            4.133333       3-6  \n",
       "...          ...                 ...       ...  \n",
       "215904     Promo            2.633333       0-3  \n",
       "215905     Promo            2.533333       0-3  \n",
       "215906     Promo            2.633333       0-3  \n",
       "215907     Promo            2.666667       0-3  \n",
       "215908     Promo            2.750000       0-3  \n",
       "\n",
       "[215909 rows x 9 columns]"
      ]
     },
     "execution_count": 44,
     "metadata": {},
     "output_type": "execute_result"
    }
   ],
   "source": [
    "df1['TravelCat']=''\n",
    "df1.loc[df1['travel_time_in_hrs'] <= 3, 'TravelCat'] = '0-3'\n",
    "df1.loc[(df1['travel_time_in_hrs'] > 3) & (df1['travel_time_in_hrs'] <= 6), 'TravelCat'] = '3-6'\n",
    "df1.loc[(df1['travel_time_in_hrs'] > 6) & (df1['travel_time_in_hrs'] <= 9), 'TravelCat'] = '6-9'\n",
    "df1.loc[(df1['travel_time_in_hrs'] > 9) & (df1['travel_time_in_hrs'] <= 12), 'TravelCat'] = '9-12'\n",
    "df1.loc[df1['travel_time_in_hrs'] > 12, 'TravelCat']= '12+'\n",
    "df1"
   ]
  },
  {
   "cell_type": "code",
   "execution_count": 45,
   "metadata": {},
   "outputs": [
    {
     "data": {
      "text/html": [
       "<div>\n",
       "<style scoped>\n",
       "    .dataframe tbody tr th:only-of-type {\n",
       "        vertical-align: middle;\n",
       "    }\n",
       "\n",
       "    .dataframe tbody tr th {\n",
       "        vertical-align: top;\n",
       "    }\n",
       "\n",
       "    .dataframe thead th {\n",
       "        text-align: right;\n",
       "    }\n",
       "</style>\n",
       "<table border=\"1\" class=\"dataframe\">\n",
       "  <thead>\n",
       "    <tr style=\"text-align: right;\">\n",
       "      <th></th>\n",
       "      <th>index</th>\n",
       "      <th>origin</th>\n",
       "      <th>destination</th>\n",
       "      <th>train_type</th>\n",
       "      <th>price</th>\n",
       "      <th>train_class</th>\n",
       "      <th>fare</th>\n",
       "      <th>travel_time_in_hrs</th>\n",
       "      <th>TravelCat</th>\n",
       "    </tr>\n",
       "  </thead>\n",
       "  <tbody>\n",
       "    <tr>\n",
       "      <th>364</th>\n",
       "      <td>364</td>\n",
       "      <td>MADRID</td>\n",
       "      <td>SEVILLA</td>\n",
       "      <td>AV City</td>\n",
       "      <td>49.150000</td>\n",
       "      <td>Turista</td>\n",
       "      <td>Promo</td>\n",
       "      <td>2.916667</td>\n",
       "      <td>0-3</td>\n",
       "    </tr>\n",
       "    <tr>\n",
       "      <th>365</th>\n",
       "      <td>365</td>\n",
       "      <td>MADRID</td>\n",
       "      <td>SEVILLA</td>\n",
       "      <td>ALVIA</td>\n",
       "      <td>56.723877</td>\n",
       "      <td>Preferente</td>\n",
       "      <td>Promo</td>\n",
       "      <td>2.733333</td>\n",
       "      <td>0-3</td>\n",
       "    </tr>\n",
       "    <tr>\n",
       "      <th>366</th>\n",
       "      <td>366</td>\n",
       "      <td>MADRID</td>\n",
       "      <td>SEVILLA</td>\n",
       "      <td>AVE</td>\n",
       "      <td>69.400000</td>\n",
       "      <td>Preferente</td>\n",
       "      <td>Promo</td>\n",
       "      <td>2.633333</td>\n",
       "      <td>0-3</td>\n",
       "    </tr>\n",
       "    <tr>\n",
       "      <th>367</th>\n",
       "      <td>367</td>\n",
       "      <td>MADRID</td>\n",
       "      <td>SEVILLA</td>\n",
       "      <td>AVE</td>\n",
       "      <td>76.300000</td>\n",
       "      <td>Turista</td>\n",
       "      <td>Flexible</td>\n",
       "      <td>2.533333</td>\n",
       "      <td>0-3</td>\n",
       "    </tr>\n",
       "    <tr>\n",
       "      <th>368</th>\n",
       "      <td>368</td>\n",
       "      <td>MADRID</td>\n",
       "      <td>SEVILLA</td>\n",
       "      <td>ALVIA</td>\n",
       "      <td>56.723877</td>\n",
       "      <td>Preferente</td>\n",
       "      <td>Promo</td>\n",
       "      <td>2.600000</td>\n",
       "      <td>0-3</td>\n",
       "    </tr>\n",
       "    <tr>\n",
       "      <th>...</th>\n",
       "      <td>...</td>\n",
       "      <td>...</td>\n",
       "      <td>...</td>\n",
       "      <td>...</td>\n",
       "      <td>...</td>\n",
       "      <td>...</td>\n",
       "      <td>...</td>\n",
       "      <td>...</td>\n",
       "      <td>...</td>\n",
       "    </tr>\n",
       "    <tr>\n",
       "      <th>215904</th>\n",
       "      <td>215904</td>\n",
       "      <td>MADRID</td>\n",
       "      <td>SEVILLA</td>\n",
       "      <td>AVE</td>\n",
       "      <td>47.300000</td>\n",
       "      <td>Turista</td>\n",
       "      <td>Promo</td>\n",
       "      <td>2.633333</td>\n",
       "      <td>0-3</td>\n",
       "    </tr>\n",
       "    <tr>\n",
       "      <th>215905</th>\n",
       "      <td>215905</td>\n",
       "      <td>MADRID</td>\n",
       "      <td>SEVILLA</td>\n",
       "      <td>AVE</td>\n",
       "      <td>47.300000</td>\n",
       "      <td>Turista</td>\n",
       "      <td>Promo</td>\n",
       "      <td>2.533333</td>\n",
       "      <td>0-3</td>\n",
       "    </tr>\n",
       "    <tr>\n",
       "      <th>215906</th>\n",
       "      <td>215906</td>\n",
       "      <td>MADRID</td>\n",
       "      <td>SEVILLA</td>\n",
       "      <td>AVE</td>\n",
       "      <td>47.300000</td>\n",
       "      <td>Turista</td>\n",
       "      <td>Promo</td>\n",
       "      <td>2.633333</td>\n",
       "      <td>0-3</td>\n",
       "    </tr>\n",
       "    <tr>\n",
       "      <th>215907</th>\n",
       "      <td>215907</td>\n",
       "      <td>MADRID</td>\n",
       "      <td>SEVILLA</td>\n",
       "      <td>AVE</td>\n",
       "      <td>47.300000</td>\n",
       "      <td>Turista</td>\n",
       "      <td>Promo</td>\n",
       "      <td>2.666667</td>\n",
       "      <td>0-3</td>\n",
       "    </tr>\n",
       "    <tr>\n",
       "      <th>215908</th>\n",
       "      <td>215908</td>\n",
       "      <td>MADRID</td>\n",
       "      <td>SEVILLA</td>\n",
       "      <td>AV City</td>\n",
       "      <td>52.200000</td>\n",
       "      <td>Turista Plus</td>\n",
       "      <td>Promo</td>\n",
       "      <td>2.750000</td>\n",
       "      <td>0-3</td>\n",
       "    </tr>\n",
       "  </tbody>\n",
       "</table>\n",
       "<p>26999 rows × 9 columns</p>\n",
       "</div>"
      ],
      "text/plain": [
       "         index  origin destination train_type      price   train_class  \\\n",
       "364        364  MADRID     SEVILLA    AV City  49.150000       Turista   \n",
       "365        365  MADRID     SEVILLA      ALVIA  56.723877    Preferente   \n",
       "366        366  MADRID     SEVILLA        AVE  69.400000    Preferente   \n",
       "367        367  MADRID     SEVILLA        AVE  76.300000       Turista   \n",
       "368        368  MADRID     SEVILLA      ALVIA  56.723877    Preferente   \n",
       "...        ...     ...         ...        ...        ...           ...   \n",
       "215904  215904  MADRID     SEVILLA        AVE  47.300000       Turista   \n",
       "215905  215905  MADRID     SEVILLA        AVE  47.300000       Turista   \n",
       "215906  215906  MADRID     SEVILLA        AVE  47.300000       Turista   \n",
       "215907  215907  MADRID     SEVILLA        AVE  47.300000       Turista   \n",
       "215908  215908  MADRID     SEVILLA    AV City  52.200000  Turista Plus   \n",
       "\n",
       "            fare  travel_time_in_hrs TravelCat  \n",
       "364        Promo            2.916667       0-3  \n",
       "365        Promo            2.733333       0-3  \n",
       "366        Promo            2.633333       0-3  \n",
       "367     Flexible            2.533333       0-3  \n",
       "368        Promo            2.600000       0-3  \n",
       "...          ...                 ...       ...  \n",
       "215904     Promo            2.633333       0-3  \n",
       "215905     Promo            2.533333       0-3  \n",
       "215906     Promo            2.633333       0-3  \n",
       "215907     Promo            2.666667       0-3  \n",
       "215908     Promo            2.750000       0-3  \n",
       "\n",
       "[26999 rows x 9 columns]"
      ]
     },
     "execution_count": 45,
     "metadata": {},
     "output_type": "execute_result"
    }
   ],
   "source": [
    "dfS = df1[(df1['origin']==\"MADRID\") & (df1['destination']==\"SEVILLA\")]\n",
    "dfS"
   ]
  },
  {
   "cell_type": "markdown",
   "metadata": {},
   "source": [
    "#### Task 22: Make a plot for finding out travelling hours for each train type"
   ]
  },
  {
   "cell_type": "code",
   "execution_count": 46,
   "metadata": {
    "scrolled": true
   },
   "outputs": [
    {
     "data": {
      "text/html": [
       "<div>\n",
       "<style scoped>\n",
       "    .dataframe tbody tr th:only-of-type {\n",
       "        vertical-align: middle;\n",
       "    }\n",
       "\n",
       "    .dataframe tbody tr th {\n",
       "        vertical-align: top;\n",
       "    }\n",
       "\n",
       "    .dataframe thead th {\n",
       "        text-align: right;\n",
       "    }\n",
       "</style>\n",
       "<table border=\"1\" class=\"dataframe\">\n",
       "  <thead>\n",
       "    <tr style=\"text-align: right;\">\n",
       "      <th></th>\n",
       "      <th>index</th>\n",
       "      <th>origin</th>\n",
       "      <th>destination</th>\n",
       "      <th>train_type</th>\n",
       "      <th>price</th>\n",
       "      <th>train_class</th>\n",
       "      <th>fare</th>\n",
       "      <th>travel_time_in_hrs</th>\n",
       "      <th>TravelCat</th>\n",
       "    </tr>\n",
       "  </thead>\n",
       "  <tbody>\n",
       "    <tr>\n",
       "      <th>count</th>\n",
       "      <td>26999.000000</td>\n",
       "      <td>26999</td>\n",
       "      <td>26999</td>\n",
       "      <td>26999</td>\n",
       "      <td>26999.000000</td>\n",
       "      <td>26961</td>\n",
       "      <td>26961</td>\n",
       "      <td>26999.000000</td>\n",
       "      <td>26999</td>\n",
       "    </tr>\n",
       "    <tr>\n",
       "      <th>unique</th>\n",
       "      <td>NaN</td>\n",
       "      <td>1</td>\n",
       "      <td>1</td>\n",
       "      <td>6</td>\n",
       "      <td>NaN</td>\n",
       "      <td>4</td>\n",
       "      <td>3</td>\n",
       "      <td>NaN</td>\n",
       "      <td>3</td>\n",
       "    </tr>\n",
       "    <tr>\n",
       "      <th>top</th>\n",
       "      <td>NaN</td>\n",
       "      <td>MADRID</td>\n",
       "      <td>SEVILLA</td>\n",
       "      <td>AVE</td>\n",
       "      <td>NaN</td>\n",
       "      <td>Turista</td>\n",
       "      <td>Promo</td>\n",
       "      <td>NaN</td>\n",
       "      <td>0-3</td>\n",
       "    </tr>\n",
       "    <tr>\n",
       "      <th>freq</th>\n",
       "      <td>NaN</td>\n",
       "      <td>26999</td>\n",
       "      <td>26999</td>\n",
       "      <td>19594</td>\n",
       "      <td>NaN</td>\n",
       "      <td>14925</td>\n",
       "      <td>22956</td>\n",
       "      <td>NaN</td>\n",
       "      <td>26315</td>\n",
       "    </tr>\n",
       "    <tr>\n",
       "      <th>mean</th>\n",
       "      <td>119131.796770</td>\n",
       "      <td>NaN</td>\n",
       "      <td>NaN</td>\n",
       "      <td>NaN</td>\n",
       "      <td>57.098508</td>\n",
       "      <td>NaN</td>\n",
       "      <td>NaN</td>\n",
       "      <td>2.712340</td>\n",
       "      <td>NaN</td>\n",
       "    </tr>\n",
       "    <tr>\n",
       "      <th>std</th>\n",
       "      <td>61988.738992</td>\n",
       "      <td>NaN</td>\n",
       "      <td>NaN</td>\n",
       "      <td>NaN</td>\n",
       "      <td>11.918101</td>\n",
       "      <td>NaN</td>\n",
       "      <td>NaN</td>\n",
       "      <td>0.808008</td>\n",
       "      <td>NaN</td>\n",
       "    </tr>\n",
       "    <tr>\n",
       "      <th>min</th>\n",
       "      <td>364.000000</td>\n",
       "      <td>NaN</td>\n",
       "      <td>NaN</td>\n",
       "      <td>NaN</td>\n",
       "      <td>22.900000</td>\n",
       "      <td>NaN</td>\n",
       "      <td>NaN</td>\n",
       "      <td>2.350000</td>\n",
       "      <td>NaN</td>\n",
       "    </tr>\n",
       "    <tr>\n",
       "      <th>25%</th>\n",
       "      <td>64680.500000</td>\n",
       "      <td>NaN</td>\n",
       "      <td>NaN</td>\n",
       "      <td>NaN</td>\n",
       "      <td>49.150000</td>\n",
       "      <td>NaN</td>\n",
       "      <td>NaN</td>\n",
       "      <td>2.533333</td>\n",
       "      <td>NaN</td>\n",
       "    </tr>\n",
       "    <tr>\n",
       "      <th>50%</th>\n",
       "      <td>136848.000000</td>\n",
       "      <td>NaN</td>\n",
       "      <td>NaN</td>\n",
       "      <td>NaN</td>\n",
       "      <td>56.723877</td>\n",
       "      <td>NaN</td>\n",
       "      <td>NaN</td>\n",
       "      <td>2.583333</td>\n",
       "      <td>NaN</td>\n",
       "    </tr>\n",
       "    <tr>\n",
       "      <th>75%</th>\n",
       "      <td>170854.500000</td>\n",
       "      <td>NaN</td>\n",
       "      <td>NaN</td>\n",
       "      <td>NaN</td>\n",
       "      <td>69.375000</td>\n",
       "      <td>NaN</td>\n",
       "      <td>NaN</td>\n",
       "      <td>2.666667</td>\n",
       "      <td>NaN</td>\n",
       "    </tr>\n",
       "    <tr>\n",
       "      <th>max</th>\n",
       "      <td>215908.000000</td>\n",
       "      <td>NaN</td>\n",
       "      <td>NaN</td>\n",
       "      <td>NaN</td>\n",
       "      <td>87.400000</td>\n",
       "      <td>NaN</td>\n",
       "      <td>NaN</td>\n",
       "      <td>7.683333</td>\n",
       "      <td>NaN</td>\n",
       "    </tr>\n",
       "  </tbody>\n",
       "</table>\n",
       "</div>"
      ],
      "text/plain": [
       "                index  origin destination train_type         price  \\\n",
       "count    26999.000000   26999       26999      26999  26999.000000   \n",
       "unique            NaN       1           1          6           NaN   \n",
       "top               NaN  MADRID     SEVILLA        AVE           NaN   \n",
       "freq              NaN   26999       26999      19594           NaN   \n",
       "mean    119131.796770     NaN         NaN        NaN     57.098508   \n",
       "std      61988.738992     NaN         NaN        NaN     11.918101   \n",
       "min        364.000000     NaN         NaN        NaN     22.900000   \n",
       "25%      64680.500000     NaN         NaN        NaN     49.150000   \n",
       "50%     136848.000000     NaN         NaN        NaN     56.723877   \n",
       "75%     170854.500000     NaN         NaN        NaN     69.375000   \n",
       "max     215908.000000     NaN         NaN        NaN     87.400000   \n",
       "\n",
       "       train_class   fare  travel_time_in_hrs TravelCat  \n",
       "count        26961  26961        26999.000000     26999  \n",
       "unique           4      3                 NaN         3  \n",
       "top        Turista  Promo                 NaN       0-3  \n",
       "freq         14925  22956                 NaN     26315  \n",
       "mean           NaN    NaN            2.712340       NaN  \n",
       "std            NaN    NaN            0.808008       NaN  \n",
       "min            NaN    NaN            2.350000       NaN  \n",
       "25%            NaN    NaN            2.533333       NaN  \n",
       "50%            NaN    NaN            2.583333       NaN  \n",
       "75%            NaN    NaN            2.666667       NaN  \n",
       "max            NaN    NaN            7.683333       NaN  "
      ]
     },
     "execution_count": 46,
     "metadata": {},
     "output_type": "execute_result"
    }
   ],
   "source": [
    "#write code here\n",
    "dfS.describe(include='all')"
   ]
  },
  {
   "cell_type": "code",
   "execution_count": 47,
   "metadata": {},
   "outputs": [
    {
     "data": {
      "text/plain": [
       "<Axes: xlabel='train_type', ylabel='count'>"
      ]
     },
     "execution_count": 47,
     "metadata": {},
     "output_type": "execute_result"
    },
    {
     "data": {
      "image/png": "[encoded data removed]",
      "text/plain": [
       "<Figure size 640x480 with 1 Axes>"
      ]
     },
     "metadata": {},
     "output_type": "display_data"
    }
   ],
   "source": [
    "sns.countplot(x='train_type', hue='TravelCat', data=dfS)"
   ]
  },
  {
   "cell_type": "markdown",
   "metadata": {},
   "source": [
    "#### **Task 23: Show train_type vs price through boxplot**\n"
   ]
  },
  {
   "cell_type": "code",
   "execution_count": 48,
   "metadata": {},
   "outputs": [
    {
     "data": {
      "image/png": "[encoded data removed]",
      "text/plain": [
       "<Figure size 1000x600 with 1 Axes>"
      ]
     },
     "metadata": {},
     "output_type": "display_data"
    }
   ],
   "source": [
    "#write code here\n",
    "plt.figure(figsize=(10,6))\n",
    "sns.boxplot(x='train_type', y='price', data=dfS)\n",
    "plt.xticks(fontsize=10, rotation=90, ha='right')\n",
    "plt.show()"
   ]
  },
  {
   "cell_type": "markdown",
   "metadata": {},
   "source": [
    "## **Travelling from MADRID to BARCELONA**\n"
   ]
  },
  {
   "cell_type": "markdown",
   "metadata": {},
   "source": [
    "#### Task 24: Findout people travelling from MADRID to BARCELONA"
   ]
  },
  {
   "cell_type": "code",
   "execution_count": 49,
   "metadata": {},
   "outputs": [
    {
     "data": {
      "text/html": [
       "<div>\n",
       "<style scoped>\n",
       "    .dataframe tbody tr th:only-of-type {\n",
       "        vertical-align: middle;\n",
       "    }\n",
       "\n",
       "    .dataframe tbody tr th {\n",
       "        vertical-align: top;\n",
       "    }\n",
       "\n",
       "    .dataframe thead th {\n",
       "        text-align: right;\n",
       "    }\n",
       "</style>\n",
       "<table border=\"1\" class=\"dataframe\">\n",
       "  <thead>\n",
       "    <tr style=\"text-align: right;\">\n",
       "      <th></th>\n",
       "      <th>index</th>\n",
       "      <th>origin</th>\n",
       "      <th>destination</th>\n",
       "      <th>train_type</th>\n",
       "      <th>price</th>\n",
       "      <th>train_class</th>\n",
       "      <th>fare</th>\n",
       "      <th>travel_time_in_hrs</th>\n",
       "      <th>TravelCat</th>\n",
       "    </tr>\n",
       "  </thead>\n",
       "  <tbody>\n",
       "    <tr>\n",
       "      <th>79</th>\n",
       "      <td>79</td>\n",
       "      <td>MADRID</td>\n",
       "      <td>BARCELONA</td>\n",
       "      <td>R. EXPRES</td>\n",
       "      <td>43.25</td>\n",
       "      <td>Turista</td>\n",
       "      <td>Adulto ida</td>\n",
       "      <td>9.366667</td>\n",
       "      <td>9-12</td>\n",
       "    </tr>\n",
       "    <tr>\n",
       "      <th>80</th>\n",
       "      <td>80</td>\n",
       "      <td>MADRID</td>\n",
       "      <td>BARCELONA</td>\n",
       "      <td>R. EXPRES</td>\n",
       "      <td>43.25</td>\n",
       "      <td>Turista</td>\n",
       "      <td>Adulto ida</td>\n",
       "      <td>9.366667</td>\n",
       "      <td>9-12</td>\n",
       "    </tr>\n",
       "    <tr>\n",
       "      <th>81</th>\n",
       "      <td>81</td>\n",
       "      <td>MADRID</td>\n",
       "      <td>BARCELONA</td>\n",
       "      <td>R. EXPRES</td>\n",
       "      <td>43.25</td>\n",
       "      <td>Turista</td>\n",
       "      <td>Adulto ida</td>\n",
       "      <td>9.366667</td>\n",
       "      <td>9-12</td>\n",
       "    </tr>\n",
       "    <tr>\n",
       "      <th>82</th>\n",
       "      <td>82</td>\n",
       "      <td>MADRID</td>\n",
       "      <td>BARCELONA</td>\n",
       "      <td>R. EXPRES</td>\n",
       "      <td>43.25</td>\n",
       "      <td>Turista</td>\n",
       "      <td>Adulto ida</td>\n",
       "      <td>9.366667</td>\n",
       "      <td>9-12</td>\n",
       "    </tr>\n",
       "    <tr>\n",
       "      <th>83</th>\n",
       "      <td>83</td>\n",
       "      <td>MADRID</td>\n",
       "      <td>BARCELONA</td>\n",
       "      <td>AVE</td>\n",
       "      <td>66.75</td>\n",
       "      <td>Turista</td>\n",
       "      <td>Promo</td>\n",
       "      <td>3.150000</td>\n",
       "      <td>3-6</td>\n",
       "    </tr>\n",
       "    <tr>\n",
       "      <th>...</th>\n",
       "      <td>...</td>\n",
       "      <td>...</td>\n",
       "      <td>...</td>\n",
       "      <td>...</td>\n",
       "      <td>...</td>\n",
       "      <td>...</td>\n",
       "      <td>...</td>\n",
       "      <td>...</td>\n",
       "      <td>...</td>\n",
       "    </tr>\n",
       "    <tr>\n",
       "      <th>215728</th>\n",
       "      <td>215728</td>\n",
       "      <td>MADRID</td>\n",
       "      <td>BARCELONA</td>\n",
       "      <td>AVE</td>\n",
       "      <td>80.15</td>\n",
       "      <td>Turista Plus</td>\n",
       "      <td>Promo</td>\n",
       "      <td>2.750000</td>\n",
       "      <td>0-3</td>\n",
       "    </tr>\n",
       "    <tr>\n",
       "      <th>215729</th>\n",
       "      <td>215729</td>\n",
       "      <td>MADRID</td>\n",
       "      <td>BARCELONA</td>\n",
       "      <td>AVE</td>\n",
       "      <td>98.00</td>\n",
       "      <td>Preferente</td>\n",
       "      <td>Promo</td>\n",
       "      <td>3.166667</td>\n",
       "      <td>3-6</td>\n",
       "    </tr>\n",
       "    <tr>\n",
       "      <th>215730</th>\n",
       "      <td>215730</td>\n",
       "      <td>MADRID</td>\n",
       "      <td>BARCELONA</td>\n",
       "      <td>AVE</td>\n",
       "      <td>69.80</td>\n",
       "      <td>Turista Plus</td>\n",
       "      <td>Promo</td>\n",
       "      <td>2.833333</td>\n",
       "      <td>0-3</td>\n",
       "    </tr>\n",
       "    <tr>\n",
       "      <th>215731</th>\n",
       "      <td>215731</td>\n",
       "      <td>MADRID</td>\n",
       "      <td>BARCELONA</td>\n",
       "      <td>AVE</td>\n",
       "      <td>58.15</td>\n",
       "      <td>Turista</td>\n",
       "      <td>Promo</td>\n",
       "      <td>3.166667</td>\n",
       "      <td>3-6</td>\n",
       "    </tr>\n",
       "    <tr>\n",
       "      <th>215732</th>\n",
       "      <td>215732</td>\n",
       "      <td>MADRID</td>\n",
       "      <td>BARCELONA</td>\n",
       "      <td>AVE</td>\n",
       "      <td>66.75</td>\n",
       "      <td>Turista</td>\n",
       "      <td>Promo</td>\n",
       "      <td>3.166667</td>\n",
       "      <td>3-6</td>\n",
       "    </tr>\n",
       "  </tbody>\n",
       "</table>\n",
       "<p>41146 rows × 9 columns</p>\n",
       "</div>"
      ],
      "text/plain": [
       "         index  origin destination train_type  price   train_class  \\\n",
       "79          79  MADRID   BARCELONA  R. EXPRES  43.25       Turista   \n",
       "80          80  MADRID   BARCELONA  R. EXPRES  43.25       Turista   \n",
       "81          81  MADRID   BARCELONA  R. EXPRES  43.25       Turista   \n",
       "82          82  MADRID   BARCELONA  R. EXPRES  43.25       Turista   \n",
       "83          83  MADRID   BARCELONA        AVE  66.75       Turista   \n",
       "...        ...     ...         ...        ...    ...           ...   \n",
       "215728  215728  MADRID   BARCELONA        AVE  80.15  Turista Plus   \n",
       "215729  215729  MADRID   BARCELONA        AVE  98.00    Preferente   \n",
       "215730  215730  MADRID   BARCELONA        AVE  69.80  Turista Plus   \n",
       "215731  215731  MADRID   BARCELONA        AVE  58.15       Turista   \n",
       "215732  215732  MADRID   BARCELONA        AVE  66.75       Turista   \n",
       "\n",
       "              fare  travel_time_in_hrs TravelCat  \n",
       "79      Adulto ida            9.366667      9-12  \n",
       "80      Adulto ida            9.366667      9-12  \n",
       "81      Adulto ida            9.366667      9-12  \n",
       "82      Adulto ida            9.366667      9-12  \n",
       "83           Promo            3.150000       3-6  \n",
       "...            ...                 ...       ...  \n",
       "215728       Promo            2.750000       0-3  \n",
       "215729       Promo            3.166667       3-6  \n",
       "215730       Promo            2.833333       0-3  \n",
       "215731       Promo            3.166667       3-6  \n",
       "215732       Promo            3.166667       3-6  \n",
       "\n",
       "[41146 rows x 9 columns]"
      ]
     },
     "execution_count": 49,
     "metadata": {},
     "output_type": "execute_result"
    }
   ],
   "source": [
    "#write code here\n",
    "df2 = df1[(df1['origin']==\"MADRID\") & (df1['destination']==\"BARCELONA\")]\n",
    "df2"
   ]
  },
  {
   "cell_type": "markdown",
   "metadata": {},
   "source": [
    "#### Task 25: Make a plot for finding out travelling hours for each train type"
   ]
  },
  {
   "cell_type": "code",
   "execution_count": 50,
   "metadata": {},
   "outputs": [
    {
     "data": {
      "text/plain": [
       "<Axes: xlabel='train_type', ylabel='count'>"
      ]
     },
     "execution_count": 50,
     "metadata": {},
     "output_type": "execute_result"
    },
    {
     "data": {
      "image/png": "[encoded data removed]",
      "text/plain": [
       "<Figure size 640x480 with 1 Axes>"
      ]
     },
     "metadata": {},
     "output_type": "display_data"
    }
   ],
   "source": [
    "#write code here\n",
    "sns.countplot(x='train_type', hue='TravelCat', data=df2)"
   ]
  },
  {
   "cell_type": "markdown",
   "metadata": {},
   "source": [
    "#### **Task 26: Show train_type vs price through boxplot**"
   ]
  },
  {
   "cell_type": "code",
   "execution_count": 51,
   "metadata": {
    "scrolled": true
   },
   "outputs": [
    {
     "data": {
      "image/png": "[encoded data removed]",
      "text/plain": [
       "<Figure size 1000x600 with 1 Axes>"
      ]
     },
     "metadata": {},
     "output_type": "display_data"
    }
   ],
   "source": [
    "#write code here\n",
    "plt.figure(figsize=(10,6))\n",
    "sns.boxplot(x='train_type', y='price', data=df2)\n",
    "plt.xticks(fontsize=10, rotation=45, ha='right')\n",
    "plt.show()"
   ]
  },
  {
   "cell_type": "markdown",
   "metadata": {},
   "source": [
    "## **Travelling from MADRID to VALENCIA**"
   ]
  },
  {
   "cell_type": "markdown",
   "metadata": {},
   "source": [
    "#### Task 27: Findout people travelling from MADRID to VALENCIA"
   ]
  },
  {
   "cell_type": "code",
   "execution_count": 52,
   "metadata": {},
   "outputs": [
    {
     "data": {
      "text/html": [
       "<div>\n",
       "<style scoped>\n",
       "    .dataframe tbody tr th:only-of-type {\n",
       "        vertical-align: middle;\n",
       "    }\n",
       "\n",
       "    .dataframe tbody tr th {\n",
       "        vertical-align: top;\n",
       "    }\n",
       "\n",
       "    .dataframe thead th {\n",
       "        text-align: right;\n",
       "    }\n",
       "</style>\n",
       "<table border=\"1\" class=\"dataframe\">\n",
       "  <thead>\n",
       "    <tr style=\"text-align: right;\">\n",
       "      <th></th>\n",
       "      <th>index</th>\n",
       "      <th>origin</th>\n",
       "      <th>destination</th>\n",
       "      <th>train_type</th>\n",
       "      <th>price</th>\n",
       "      <th>train_class</th>\n",
       "      <th>fare</th>\n",
       "      <th>travel_time_in_hrs</th>\n",
       "      <th>TravelCat</th>\n",
       "    </tr>\n",
       "  </thead>\n",
       "  <tbody>\n",
       "    <tr>\n",
       "      <th>5</th>\n",
       "      <td>5</td>\n",
       "      <td>MADRID</td>\n",
       "      <td>VALENCIA</td>\n",
       "      <td>REGIONAL</td>\n",
       "      <td>28.35</td>\n",
       "      <td>Turista</td>\n",
       "      <td>Adulto ida</td>\n",
       "      <td>6.783333</td>\n",
       "      <td>6-9</td>\n",
       "    </tr>\n",
       "    <tr>\n",
       "      <th>6</th>\n",
       "      <td>6</td>\n",
       "      <td>MADRID</td>\n",
       "      <td>VALENCIA</td>\n",
       "      <td>REGIONAL</td>\n",
       "      <td>28.35</td>\n",
       "      <td>Turista</td>\n",
       "      <td>Adulto ida</td>\n",
       "      <td>6.716667</td>\n",
       "      <td>6-9</td>\n",
       "    </tr>\n",
       "    <tr>\n",
       "      <th>7</th>\n",
       "      <td>7</td>\n",
       "      <td>MADRID</td>\n",
       "      <td>VALENCIA</td>\n",
       "      <td>REGIONAL</td>\n",
       "      <td>28.35</td>\n",
       "      <td>Turista</td>\n",
       "      <td>Adulto ida</td>\n",
       "      <td>6.700000</td>\n",
       "      <td>6-9</td>\n",
       "    </tr>\n",
       "    <tr>\n",
       "      <th>8</th>\n",
       "      <td>8</td>\n",
       "      <td>MADRID</td>\n",
       "      <td>VALENCIA</td>\n",
       "      <td>REGIONAL</td>\n",
       "      <td>28.35</td>\n",
       "      <td>Turista</td>\n",
       "      <td>Adulto ida</td>\n",
       "      <td>6.583333</td>\n",
       "      <td>6-9</td>\n",
       "    </tr>\n",
       "    <tr>\n",
       "      <th>9</th>\n",
       "      <td>9</td>\n",
       "      <td>MADRID</td>\n",
       "      <td>VALENCIA</td>\n",
       "      <td>REGIONAL</td>\n",
       "      <td>28.35</td>\n",
       "      <td>Turista</td>\n",
       "      <td>Adulto ida</td>\n",
       "      <td>6.366667</td>\n",
       "      <td>6-9</td>\n",
       "    </tr>\n",
       "    <tr>\n",
       "      <th>...</th>\n",
       "      <td>...</td>\n",
       "      <td>...</td>\n",
       "      <td>...</td>\n",
       "      <td>...</td>\n",
       "      <td>...</td>\n",
       "      <td>...</td>\n",
       "      <td>...</td>\n",
       "      <td>...</td>\n",
       "      <td>...</td>\n",
       "    </tr>\n",
       "    <tr>\n",
       "      <th>215473</th>\n",
       "      <td>215473</td>\n",
       "      <td>MADRID</td>\n",
       "      <td>VALENCIA</td>\n",
       "      <td>AVE</td>\n",
       "      <td>33.65</td>\n",
       "      <td>Turista</td>\n",
       "      <td>Promo</td>\n",
       "      <td>1.700000</td>\n",
       "      <td>0-3</td>\n",
       "    </tr>\n",
       "    <tr>\n",
       "      <th>215474</th>\n",
       "      <td>215474</td>\n",
       "      <td>MADRID</td>\n",
       "      <td>VALENCIA</td>\n",
       "      <td>REGIONAL</td>\n",
       "      <td>28.35</td>\n",
       "      <td>Turista</td>\n",
       "      <td>Adulto ida</td>\n",
       "      <td>6.283333</td>\n",
       "      <td>6-9</td>\n",
       "    </tr>\n",
       "    <tr>\n",
       "      <th>215475</th>\n",
       "      <td>215475</td>\n",
       "      <td>MADRID</td>\n",
       "      <td>VALENCIA</td>\n",
       "      <td>AVE</td>\n",
       "      <td>39.45</td>\n",
       "      <td>Turista</td>\n",
       "      <td>Promo</td>\n",
       "      <td>1.666667</td>\n",
       "      <td>0-3</td>\n",
       "    </tr>\n",
       "    <tr>\n",
       "      <th>215476</th>\n",
       "      <td>215476</td>\n",
       "      <td>MADRID</td>\n",
       "      <td>VALENCIA</td>\n",
       "      <td>AVE</td>\n",
       "      <td>45.30</td>\n",
       "      <td>Turista</td>\n",
       "      <td>Promo</td>\n",
       "      <td>1.816667</td>\n",
       "      <td>0-3</td>\n",
       "    </tr>\n",
       "    <tr>\n",
       "      <th>215477</th>\n",
       "      <td>215477</td>\n",
       "      <td>MADRID</td>\n",
       "      <td>VALENCIA</td>\n",
       "      <td>AVE</td>\n",
       "      <td>33.65</td>\n",
       "      <td>Turista</td>\n",
       "      <td>Promo</td>\n",
       "      <td>1.883333</td>\n",
       "      <td>0-3</td>\n",
       "    </tr>\n",
       "  </tbody>\n",
       "</table>\n",
       "<p>39447 rows × 9 columns</p>\n",
       "</div>"
      ],
      "text/plain": [
       "         index  origin destination train_type  price train_class        fare  \\\n",
       "5            5  MADRID    VALENCIA   REGIONAL  28.35     Turista  Adulto ida   \n",
       "6            6  MADRID    VALENCIA   REGIONAL  28.35     Turista  Adulto ida   \n",
       "7            7  MADRID    VALENCIA   REGIONAL  28.35     Turista  Adulto ida   \n",
       "8            8  MADRID    VALENCIA   REGIONAL  28.35     Turista  Adulto ida   \n",
       "9            9  MADRID    VALENCIA   REGIONAL  28.35     Turista  Adulto ida   \n",
       "...        ...     ...         ...        ...    ...         ...         ...   \n",
       "215473  215473  MADRID    VALENCIA        AVE  33.65     Turista       Promo   \n",
       "215474  215474  MADRID    VALENCIA   REGIONAL  28.35     Turista  Adulto ida   \n",
       "215475  215475  MADRID    VALENCIA        AVE  39.45     Turista       Promo   \n",
       "215476  215476  MADRID    VALENCIA        AVE  45.30     Turista       Promo   \n",
       "215477  215477  MADRID    VALENCIA        AVE  33.65     Turista       Promo   \n",
       "\n",
       "        travel_time_in_hrs TravelCat  \n",
       "5                 6.783333       6-9  \n",
       "6                 6.716667       6-9  \n",
       "7                 6.700000       6-9  \n",
       "8                 6.583333       6-9  \n",
       "9                 6.366667       6-9  \n",
       "...                    ...       ...  \n",
       "215473            1.700000       0-3  \n",
       "215474            6.283333       6-9  \n",
       "215475            1.666667       0-3  \n",
       "215476            1.816667       0-3  \n",
       "215477            1.883333       0-3  \n",
       "\n",
       "[39447 rows x 9 columns]"
      ]
     },
     "execution_count": 52,
     "metadata": {},
     "output_type": "execute_result"
    }
   ],
   "source": [
    "#write code here\n",
    "df3 = df1[(df1['origin'] == 'MADRID') & (df1['destination'] == 'VALENCIA')]\n",
    "df3"
   ]
  },
  {
   "cell_type": "markdown",
   "metadata": {},
   "source": [
    "#### Task 28: Make a plot for finding out travelling hours for each train type"
   ]
  },
  {
   "cell_type": "code",
   "execution_count": 53,
   "metadata": {
    "scrolled": true
   },
   "outputs": [
    {
     "data": {
      "text/plain": [
       "<Axes: xlabel='train_type', ylabel='count'>"
      ]
     },
     "execution_count": 53,
     "metadata": {},
     "output_type": "execute_result"
    },
    {
     "data": {
      "image/png": "[encoded data removed]",
      "text/plain": [
       "<Figure size 640x480 with 1 Axes>"
      ]
     },
     "metadata": {},
     "output_type": "display_data"
    }
   ],
   "source": [
    "#write code here\n",
    "sns.countplot(x='train_type', hue='TravelCat', data=df3)"
   ]
  },
  {
   "cell_type": "markdown",
   "metadata": {},
   "source": [
    "#### **Task 29: Show train_type vs price through boxplot**"
   ]
  },
  {
   "cell_type": "code",
   "execution_count": 54,
   "metadata": {
    "scrolled": true
   },
   "outputs": [
    {
     "data": {
      "image/png": "[encoded data removed]",
      "text/plain": [
       "<Figure size 1000x600 with 1 Axes>"
      ]
     },
     "metadata": {},
     "output_type": "display_data"
    }
   ],
   "source": [
    "#write code here\n",
    "plt.figure(figsize=(10,6))\n",
    "sns.boxplot(x='train_type', y='price', data=df3)\n",
    "plt.xticks(fontsize=10, rotation=45, ha='right')\n",
    "plt.show()"
   ]
  },
  {
   "cell_type": "markdown",
   "metadata": {},
   "source": [
    "## **Travelling from MADRID to PONFERRADA**"
   ]
  },
  {
   "cell_type": "markdown",
   "metadata": {},
   "source": [
    "#### Task 30: Findout people travelling from MADRID to PONFERRADA"
   ]
  },
  {
   "cell_type": "code",
   "execution_count": 55,
   "metadata": {},
   "outputs": [
    {
     "data": {
      "text/html": [
       "<div>\n",
       "<style scoped>\n",
       "    .dataframe tbody tr th:only-of-type {\n",
       "        vertical-align: middle;\n",
       "    }\n",
       "\n",
       "    .dataframe tbody tr th {\n",
       "        vertical-align: top;\n",
       "    }\n",
       "\n",
       "    .dataframe thead th {\n",
       "        text-align: right;\n",
       "    }\n",
       "</style>\n",
       "<table border=\"1\" class=\"dataframe\">\n",
       "  <thead>\n",
       "    <tr style=\"text-align: right;\">\n",
       "      <th></th>\n",
       "      <th>index</th>\n",
       "      <th>origin</th>\n",
       "      <th>destination</th>\n",
       "      <th>train_type</th>\n",
       "      <th>price</th>\n",
       "      <th>train_class</th>\n",
       "      <th>fare</th>\n",
       "      <th>travel_time_in_hrs</th>\n",
       "      <th>TravelCat</th>\n",
       "    </tr>\n",
       "  </thead>\n",
       "  <tbody>\n",
       "    <tr>\n",
       "      <th>233</th>\n",
       "      <td>233</td>\n",
       "      <td>MADRID</td>\n",
       "      <td>PONFERRADA</td>\n",
       "      <td>AVE-MD</td>\n",
       "      <td>35.750000</td>\n",
       "      <td>Turista con enlace</td>\n",
       "      <td>Promo</td>\n",
       "      <td>3.883333</td>\n",
       "      <td>3-6</td>\n",
       "    </tr>\n",
       "    <tr>\n",
       "      <th>234</th>\n",
       "      <td>234</td>\n",
       "      <td>MADRID</td>\n",
       "      <td>PONFERRADA</td>\n",
       "      <td>AVE-LD</td>\n",
       "      <td>31.200000</td>\n",
       "      <td>Turista con enlace</td>\n",
       "      <td>Promo</td>\n",
       "      <td>4.200000</td>\n",
       "      <td>3-6</td>\n",
       "    </tr>\n",
       "    <tr>\n",
       "      <th>235</th>\n",
       "      <td>235</td>\n",
       "      <td>MADRID</td>\n",
       "      <td>PONFERRADA</td>\n",
       "      <td>ALVIA</td>\n",
       "      <td>33.500000</td>\n",
       "      <td>Turista</td>\n",
       "      <td>Promo</td>\n",
       "      <td>4.050000</td>\n",
       "      <td>3-6</td>\n",
       "    </tr>\n",
       "    <tr>\n",
       "      <th>236</th>\n",
       "      <td>236</td>\n",
       "      <td>MADRID</td>\n",
       "      <td>PONFERRADA</td>\n",
       "      <td>LD-MD</td>\n",
       "      <td>56.723877</td>\n",
       "      <td>Turista con enlace</td>\n",
       "      <td>Promo +</td>\n",
       "      <td>6.533333</td>\n",
       "      <td>6-9</td>\n",
       "    </tr>\n",
       "    <tr>\n",
       "      <th>237</th>\n",
       "      <td>237</td>\n",
       "      <td>MADRID</td>\n",
       "      <td>PONFERRADA</td>\n",
       "      <td>LD</td>\n",
       "      <td>42.750000</td>\n",
       "      <td>Turista con enlace</td>\n",
       "      <td>Promo +</td>\n",
       "      <td>4.200000</td>\n",
       "      <td>3-6</td>\n",
       "    </tr>\n",
       "    <tr>\n",
       "      <th>...</th>\n",
       "      <td>...</td>\n",
       "      <td>...</td>\n",
       "      <td>...</td>\n",
       "      <td>...</td>\n",
       "      <td>...</td>\n",
       "      <td>...</td>\n",
       "      <td>...</td>\n",
       "      <td>...</td>\n",
       "      <td>...</td>\n",
       "    </tr>\n",
       "    <tr>\n",
       "      <th>215709</th>\n",
       "      <td>215709</td>\n",
       "      <td>MADRID</td>\n",
       "      <td>PONFERRADA</td>\n",
       "      <td>AVE-LD</td>\n",
       "      <td>31.200000</td>\n",
       "      <td>Turista con enlace</td>\n",
       "      <td>Promo</td>\n",
       "      <td>4.200000</td>\n",
       "      <td>3-6</td>\n",
       "    </tr>\n",
       "    <tr>\n",
       "      <th>215710</th>\n",
       "      <td>215710</td>\n",
       "      <td>MADRID</td>\n",
       "      <td>PONFERRADA</td>\n",
       "      <td>ALVIA</td>\n",
       "      <td>33.500000</td>\n",
       "      <td>Turista</td>\n",
       "      <td>Promo</td>\n",
       "      <td>4.050000</td>\n",
       "      <td>3-6</td>\n",
       "    </tr>\n",
       "    <tr>\n",
       "      <th>215711</th>\n",
       "      <td>215711</td>\n",
       "      <td>MADRID</td>\n",
       "      <td>PONFERRADA</td>\n",
       "      <td>LD-MD</td>\n",
       "      <td>56.723877</td>\n",
       "      <td>Turista con enlace</td>\n",
       "      <td>Promo +</td>\n",
       "      <td>6.533333</td>\n",
       "      <td>6-9</td>\n",
       "    </tr>\n",
       "    <tr>\n",
       "      <th>215712</th>\n",
       "      <td>215712</td>\n",
       "      <td>MADRID</td>\n",
       "      <td>PONFERRADA</td>\n",
       "      <td>LD</td>\n",
       "      <td>42.750000</td>\n",
       "      <td>Turista con enlace</td>\n",
       "      <td>Promo +</td>\n",
       "      <td>4.200000</td>\n",
       "      <td>3-6</td>\n",
       "    </tr>\n",
       "    <tr>\n",
       "      <th>215713</th>\n",
       "      <td>215713</td>\n",
       "      <td>MADRID</td>\n",
       "      <td>PONFERRADA</td>\n",
       "      <td>LD-MD</td>\n",
       "      <td>54.100000</td>\n",
       "      <td>Turista con enlace</td>\n",
       "      <td>Flexible</td>\n",
       "      <td>3.883333</td>\n",
       "      <td>3-6</td>\n",
       "    </tr>\n",
       "  </tbody>\n",
       "</table>\n",
       "<p>2848 rows × 9 columns</p>\n",
       "</div>"
      ],
      "text/plain": [
       "         index  origin destination train_type      price         train_class  \\\n",
       "233        233  MADRID  PONFERRADA     AVE-MD  35.750000  Turista con enlace   \n",
       "234        234  MADRID  PONFERRADA     AVE-LD  31.200000  Turista con enlace   \n",
       "235        235  MADRID  PONFERRADA      ALVIA  33.500000             Turista   \n",
       "236        236  MADRID  PONFERRADA      LD-MD  56.723877  Turista con enlace   \n",
       "237        237  MADRID  PONFERRADA         LD  42.750000  Turista con enlace   \n",
       "...        ...     ...         ...        ...        ...                 ...   \n",
       "215709  215709  MADRID  PONFERRADA     AVE-LD  31.200000  Turista con enlace   \n",
       "215710  215710  MADRID  PONFERRADA      ALVIA  33.500000             Turista   \n",
       "215711  215711  MADRID  PONFERRADA      LD-MD  56.723877  Turista con enlace   \n",
       "215712  215712  MADRID  PONFERRADA         LD  42.750000  Turista con enlace   \n",
       "215713  215713  MADRID  PONFERRADA      LD-MD  54.100000  Turista con enlace   \n",
       "\n",
       "            fare  travel_time_in_hrs TravelCat  \n",
       "233        Promo            3.883333       3-6  \n",
       "234        Promo            4.200000       3-6  \n",
       "235        Promo            4.050000       3-6  \n",
       "236      Promo +            6.533333       6-9  \n",
       "237      Promo +            4.200000       3-6  \n",
       "...          ...                 ...       ...  \n",
       "215709     Promo            4.200000       3-6  \n",
       "215710     Promo            4.050000       3-6  \n",
       "215711   Promo +            6.533333       6-9  \n",
       "215712   Promo +            4.200000       3-6  \n",
       "215713  Flexible            3.883333       3-6  \n",
       "\n",
       "[2848 rows x 9 columns]"
      ]
     },
     "execution_count": 55,
     "metadata": {},
     "output_type": "execute_result"
    }
   ],
   "source": [
    "#write code here\n",
    "df4 = df1[(df1['origin']=='MADRID') & (df1['destination']=='PONFERRADA')]\n",
    "df4"
   ]
  },
  {
   "cell_type": "markdown",
   "metadata": {},
   "source": [
    "#### Task 31: Make a plot for finding out travelling hours for each train type"
   ]
  },
  {
   "cell_type": "code",
   "execution_count": 56,
   "metadata": {
    "scrolled": true
   },
   "outputs": [
    {
     "data": {
      "text/plain": [
       "<Axes: xlabel='train_type', ylabel='count'>"
      ]
     },
     "execution_count": 56,
     "metadata": {},
     "output_type": "execute_result"
    },
    {
     "data": {
      "image/png": "[encoded data removed]",
      "text/plain": [
       "<Figure size 640x480 with 1 Axes>"
      ]
     },
     "metadata": {},
     "output_type": "display_data"
    }
   ],
   "source": [
    "#write code here\n",
    "sns.countplot(x='train_type', hue='TravelCat', data=df4)"
   ]
  },
  {
   "cell_type": "markdown",
   "metadata": {},
   "source": [
    "#### **Task 32: Show train_type vs price through boxplot**"
   ]
  },
  {
   "cell_type": "code",
   "execution_count": 57,
   "metadata": {
    "scrolled": true
   },
   "outputs": [
    {
     "data": {
      "image/png": "[encoded data removed]",
      "text/plain": [
       "<Figure size 1000x600 with 1 Axes>"
      ]
     },
     "metadata": {},
     "output_type": "display_data"
    }
   ],
   "source": [
    "#write code here\n",
    "plt.figure(figsize=(10,6))\n",
    "sns.boxplot(x='train_type', y='price', data=df4)\n",
    "plt.xticks(fontsize=10, rotation=45, ha='right')\n",
    "plt.show()"
   ]
  },
  {
   "cell_type": "markdown",
   "metadata": {},
   "source": [
    "# Applying Linear  Regression"
   ]
  },
  {
   "cell_type": "markdown",
   "metadata": {},
   "source": [
    "#### Task 33: Import LabelEncoder library from sklearn "
   ]
  },
  {
   "cell_type": "code",
   "execution_count": 58,
   "metadata": {},
   "outputs": [],
   "source": [
    "#write code here\n",
    "import sklearn.preprocessing"
   ]
  },
  {
   "cell_type": "code",
   "execution_count": 59,
   "metadata": {},
   "outputs": [],
   "source": [
    "from sklearn.preprocessing import LabelEncoder"
   ]
  },
  {
   "cell_type": "markdown",
   "metadata": {},
   "source": [
    "**Data Encoding**"
   ]
  },
  {
   "cell_type": "code",
   "execution_count": 60,
   "metadata": {},
   "outputs": [],
   "source": [
    "lab_en = LabelEncoder()\n",
    "df.iloc[:,1] = lab_en.fit_transform(df.iloc[:,1])\n",
    "df.iloc[:,2] = lab_en.fit_transform(df.iloc[:,2])\n",
    "df.iloc[:,3] = lab_en.fit_transform(df.iloc[:,3])\n",
    "df.iloc[:,5] = lab_en.fit_transform(df.iloc[:,5])\n",
    "df.iloc[:,6] = lab_en.fit_transform(df.iloc[:,6])\n",
    "df.iloc[:,4] = lab_en.fit_transform(df.iloc[:,4])\n",
    "df.iloc[:,8] = lab_en.fit_transform(df.iloc[:,8])\n",
    "df.iloc[:,9] = lab_en.fit_transform(df.iloc[:,9])"
   ]
  },
  {
   "cell_type": "code",
   "execution_count": 61,
   "metadata": {},
   "outputs": [
    {
     "data": {
      "text/html": [
       "<div>\n",
       "<style scoped>\n",
       "    .dataframe tbody tr th:only-of-type {\n",
       "        vertical-align: middle;\n",
       "    }\n",
       "\n",
       "    .dataframe tbody tr th {\n",
       "        vertical-align: top;\n",
       "    }\n",
       "\n",
       "    .dataframe thead th {\n",
       "        text-align: right;\n",
       "    }\n",
       "</style>\n",
       "<table border=\"1\" class=\"dataframe\">\n",
       "  <thead>\n",
       "    <tr style=\"text-align: right;\">\n",
       "      <th></th>\n",
       "      <th>index</th>\n",
       "      <th>insert_date</th>\n",
       "      <th>origin</th>\n",
       "      <th>destination</th>\n",
       "      <th>start_date</th>\n",
       "      <th>end_date</th>\n",
       "      <th>train_type</th>\n",
       "      <th>price</th>\n",
       "      <th>train_class</th>\n",
       "      <th>fare</th>\n",
       "      <th>travel_time_in_hrs</th>\n",
       "    </tr>\n",
       "  </thead>\n",
       "  <tbody>\n",
       "    <tr>\n",
       "      <th>0</th>\n",
       "      <td>0</td>\n",
       "      <td>6355</td>\n",
       "      <td>2</td>\n",
       "      <td>1</td>\n",
       "      <td>131</td>\n",
       "      <td>179</td>\n",
       "      <td>11</td>\n",
       "      <td>59.50</td>\n",
       "      <td>4</td>\n",
       "      <td>1</td>\n",
       "      <td>4.700000</td>\n",
       "    </tr>\n",
       "    <tr>\n",
       "      <th>1</th>\n",
       "      <td>1</td>\n",
       "      <td>6355</td>\n",
       "      <td>2</td>\n",
       "      <td>1</td>\n",
       "      <td>147</td>\n",
       "      <td>222</td>\n",
       "      <td>11</td>\n",
       "      <td>34.65</td>\n",
       "      <td>4</td>\n",
       "      <td>4</td>\n",
       "      <td>5.800000</td>\n",
       "    </tr>\n",
       "    <tr>\n",
       "      <th>2</th>\n",
       "      <td>2</td>\n",
       "      <td>6355</td>\n",
       "      <td>2</td>\n",
       "      <td>1</td>\n",
       "      <td>147</td>\n",
       "      <td>223</td>\n",
       "      <td>12</td>\n",
       "      <td>39.95</td>\n",
       "      <td>4</td>\n",
       "      <td>4</td>\n",
       "      <td>5.916667</td>\n",
       "    </tr>\n",
       "    <tr>\n",
       "      <th>3</th>\n",
       "      <td>3</td>\n",
       "      <td>6355</td>\n",
       "      <td>2</td>\n",
       "      <td>1</td>\n",
       "      <td>147</td>\n",
       "      <td>212</td>\n",
       "      <td>11</td>\n",
       "      <td>40.60</td>\n",
       "      <td>4</td>\n",
       "      <td>4</td>\n",
       "      <td>4.983333</td>\n",
       "    </tr>\n",
       "    <tr>\n",
       "      <th>4</th>\n",
       "      <td>4</td>\n",
       "      <td>6355</td>\n",
       "      <td>2</td>\n",
       "      <td>1</td>\n",
       "      <td>159</td>\n",
       "      <td>222</td>\n",
       "      <td>0</td>\n",
       "      <td>27.90</td>\n",
       "      <td>2</td>\n",
       "      <td>3</td>\n",
       "      <td>4.133333</td>\n",
       "    </tr>\n",
       "  </tbody>\n",
       "</table>\n",
       "</div>"
      ],
      "text/plain": [
       "   index insert_date origin destination start_date end_date train_type  price  \\\n",
       "0      0        6355      2           1        131      179         11  59.50   \n",
       "1      1        6355      2           1        147      222         11  34.65   \n",
       "2      2        6355      2           1        147      223         12  39.95   \n",
       "3      3        6355      2           1        147      212         11  40.60   \n",
       "4      4        6355      2           1        159      222          0  27.90   \n",
       "\n",
       "  train_class fare  travel_time_in_hrs  \n",
       "0           4    1            4.700000  \n",
       "1           4    4            5.800000  \n",
       "2           4    4            5.916667  \n",
       "3           4    4            4.983333  \n",
       "4           2    3            4.133333  "
      ]
     },
     "execution_count": 61,
     "metadata": {},
     "output_type": "execute_result"
    }
   ],
   "source": [
    "df.head()"
   ]
  },
  {
   "cell_type": "code",
   "execution_count": 62,
   "metadata": {},
   "outputs": [
    {
     "data": {
      "text/html": [
       "<div>\n",
       "<style scoped>\n",
       "    .dataframe tbody tr th:only-of-type {\n",
       "        vertical-align: middle;\n",
       "    }\n",
       "\n",
       "    .dataframe tbody tr th {\n",
       "        vertical-align: top;\n",
       "    }\n",
       "\n",
       "    .dataframe thead th {\n",
       "        text-align: right;\n",
       "    }\n",
       "</style>\n",
       "<table border=\"1\" class=\"dataframe\">\n",
       "  <thead>\n",
       "    <tr style=\"text-align: right;\">\n",
       "      <th></th>\n",
       "      <th>index</th>\n",
       "      <th>price</th>\n",
       "      <th>travel_time_in_hrs</th>\n",
       "    </tr>\n",
       "  </thead>\n",
       "  <tbody>\n",
       "    <tr>\n",
       "      <th>count</th>\n",
       "      <td>215909.000000</td>\n",
       "      <td>215909.000000</td>\n",
       "      <td>215909.000000</td>\n",
       "    </tr>\n",
       "    <tr>\n",
       "      <th>mean</th>\n",
       "      <td>107954.000000</td>\n",
       "      <td>56.723877</td>\n",
       "      <td>4.074284</td>\n",
       "    </tr>\n",
       "    <tr>\n",
       "      <th>std</th>\n",
       "      <td>62327.703973</td>\n",
       "      <td>24.715321</td>\n",
       "      <td>2.233665</td>\n",
       "    </tr>\n",
       "    <tr>\n",
       "      <th>min</th>\n",
       "      <td>0.000000</td>\n",
       "      <td>16.600000</td>\n",
       "      <td>1.633333</td>\n",
       "    </tr>\n",
       "    <tr>\n",
       "      <th>25%</th>\n",
       "      <td>53977.000000</td>\n",
       "      <td>28.350000</td>\n",
       "      <td>2.533333</td>\n",
       "    </tr>\n",
       "    <tr>\n",
       "      <th>50%</th>\n",
       "      <td>107954.000000</td>\n",
       "      <td>56.723877</td>\n",
       "      <td>2.866667</td>\n",
       "    </tr>\n",
       "    <tr>\n",
       "      <th>75%</th>\n",
       "      <td>161931.000000</td>\n",
       "      <td>76.300000</td>\n",
       "      <td>6.700000</td>\n",
       "    </tr>\n",
       "    <tr>\n",
       "      <th>max</th>\n",
       "      <td>215908.000000</td>\n",
       "      <td>206.800000</td>\n",
       "      <td>12.416667</td>\n",
       "    </tr>\n",
       "  </tbody>\n",
       "</table>\n",
       "</div>"
      ],
      "text/plain": [
       "               index          price  travel_time_in_hrs\n",
       "count  215909.000000  215909.000000       215909.000000\n",
       "mean   107954.000000      56.723877            4.074284\n",
       "std     62327.703973      24.715321            2.233665\n",
       "min         0.000000      16.600000            1.633333\n",
       "25%     53977.000000      28.350000            2.533333\n",
       "50%    107954.000000      56.723877            2.866667\n",
       "75%    161931.000000      76.300000            6.700000\n",
       "max    215908.000000     206.800000           12.416667"
      ]
     },
     "execution_count": 62,
     "metadata": {},
     "output_type": "execute_result"
    }
   ],
   "source": [
    "df.describe()"
   ]
  },
  {
   "cell_type": "code",
   "execution_count": 63,
   "metadata": {},
   "outputs": [
    {
     "data": {
      "text/plain": [
       "index                   int64\n",
       "insert_date            object\n",
       "origin                 object\n",
       "destination            object\n",
       "start_date             object\n",
       "end_date               object\n",
       "train_type             object\n",
       "price                 float64\n",
       "train_class            object\n",
       "fare                   object\n",
       "travel_time_in_hrs    float64\n",
       "dtype: object"
      ]
     },
     "execution_count": 63,
     "metadata": {},
     "output_type": "execute_result"
    }
   ],
   "source": [
    "df.dtypes"
   ]
  },
  {
   "cell_type": "markdown",
   "metadata": {},
   "source": [
    "#### Task 34: Separate the dependant and independant variables"
   ]
  },
  {
   "cell_type": "code",
   "execution_count": 64,
   "metadata": {},
   "outputs": [
    {
     "name": "stdout",
     "output_type": "stream",
     "text": [
      "(215909, 10)\n",
      "(215909, 1)\n"
     ]
    }
   ],
   "source": [
    "#write code here\n",
    "X = df.drop(['price'], axis=1)\n",
    "Y = df[['price']]\n",
    "print(X.shape)\n",
    "print(Y.shape)"
   ]
  },
  {
   "cell_type": "markdown",
   "metadata": {},
   "source": [
    "#### Task 35: Import test_train_split from sklearn"
   ]
  },
  {
   "cell_type": "code",
   "execution_count": 65,
   "metadata": {},
   "outputs": [],
   "source": [
    "#write code here\n",
    "from sklearn.model_selection import train_test_split"
   ]
  },
  {
   "cell_type": "markdown",
   "metadata": {},
   "source": [
    "#### Task 36:**Split the data into training and test set**"
   ]
  },
  {
   "cell_type": "code",
   "execution_count": 66,
   "metadata": {},
   "outputs": [
    {
     "name": "stdout",
     "output_type": "stream",
     "text": [
      "(161931, 10) (161931, 1)\n",
      "(53978, 10) (53978, 1)\n"
     ]
    }
   ],
   "source": [
    "#write code here\n",
    "xtrain ,xtest, ytrain, ytest = train_test_split(X, Y, test_size=0.25, random_state=25,shuffle=True)\n",
    "print(xtrain.shape, ytrain.shape)\n",
    "print(xtest.shape, ytest.shape)"
   ]
  },
  {
   "cell_type": "markdown",
   "metadata": {},
   "source": [
    "#### Task 37: Import LinearRegression library from sklearn"
   ]
  },
  {
   "cell_type": "code",
   "execution_count": 67,
   "metadata": {},
   "outputs": [],
   "source": [
    "#write code here\n",
    "from sklearn.linear_model import LinearRegression\n",
    "model = LinearRegression()"
   ]
  },
  {
   "cell_type": "markdown",
   "metadata": {},
   "source": [
    "#### Task 38: Make an object of LinearRegression( ) and train it using the training data set"
   ]
  },
  {
   "cell_type": "code",
   "execution_count": 68,
   "metadata": {},
   "outputs": [
    {
     "data": {
      "text/html": [
       "<style>#sk-container-id-1 {color: black;background-color: white;}#sk-container-id-1 pre{padding: 0;}#sk-container-id-1 div.sk-toggleable {background-color: white;}#sk-container-id-1 label.sk-toggleable__label {cursor: pointer;display: block;width: 100%;margin-bottom: 0;padding: 0.3em;box-sizing: border-box;text-align: center;}#sk-container-id-1 label.sk-toggleable__label-arrow:before {content: \"▸\";float: left;margin-right: 0.25em;color: #696969;}#sk-container-id-1 label.sk-toggleable__label-arrow:hover:before {color: black;}#sk-container-id-1 div.sk-estimator:hover label.sk-toggleable__label-arrow:before {color: black;}#sk-container-id-1 div.sk-toggleable__content {max-height: 0;max-width: 0;overflow: hidden;text-align: left;background-color: #f0f8ff;}#sk-container-id-1 div.sk-toggleable__content pre {margin: 0.2em;color: black;border-radius: 0.25em;background-color: #f0f8ff;}#sk-container-id-1 input.sk-toggleable__control:checked~div.sk-toggleable__content {max-height: 200px;max-width: 100%;overflow: auto;}#sk-container-id-1 input.sk-toggleable__control:checked~label.sk-toggleable__label-arrow:before {content: \"▾\";}#sk-container-id-1 div.sk-estimator input.sk-toggleable__control:checked~label.sk-toggleable__label {background-color: #d4ebff;}#sk-container-id-1 div.sk-label input.sk-toggleable__control:checked~label.sk-toggleable__label {background-color: #d4ebff;}#sk-container-id-1 input.sk-hidden--visually {border: 0;clip: rect(1px 1px 1px 1px);clip: rect(1px, 1px, 1px, 1px);height: 1px;margin: -1px;overflow: hidden;padding: 0;position: absolute;width: 1px;}#sk-container-id-1 div.sk-estimator {font-family: monospace;background-color: #f0f8ff;border: 1px dotted black;border-radius: 0.25em;box-sizing: border-box;margin-bottom: 0.5em;}#sk-container-id-1 div.sk-estimator:hover {background-color: #d4ebff;}#sk-container-id-1 div.sk-parallel-item::after {content: \"\";width: 100%;border-bottom: 1px solid gray;flex-grow: 1;}#sk-container-id-1 div.sk-label:hover label.sk-toggleable__label {background-color: #d4ebff;}#sk-container-id-1 div.sk-serial::before {content: \"\";position: absolute;border-left: 1px solid gray;box-sizing: border-box;top: 0;bottom: 0;left: 50%;z-index: 0;}#sk-container-id-1 div.sk-serial {display: flex;flex-direction: column;align-items: center;background-color: white;padding-right: 0.2em;padding-left: 0.2em;position: relative;}#sk-container-id-1 div.sk-item {position: relative;z-index: 1;}#sk-container-id-1 div.sk-parallel {display: flex;align-items: stretch;justify-content: center;background-color: white;position: relative;}#sk-container-id-1 div.sk-item::before, #sk-container-id-1 div.sk-parallel-item::before {content: \"\";position: absolute;border-left: 1px solid gray;box-sizing: border-box;top: 0;bottom: 0;left: 50%;z-index: -1;}#sk-container-id-1 div.sk-parallel-item {display: flex;flex-direction: column;z-index: 1;position: relative;background-color: white;}#sk-container-id-1 div.sk-parallel-item:first-child::after {align-self: flex-end;width: 50%;}#sk-container-id-1 div.sk-parallel-item:last-child::after {align-self: flex-start;width: 50%;}#sk-container-id-1 div.sk-parallel-item:only-child::after {width: 0;}#sk-container-id-1 div.sk-dashed-wrapped {border: 1px dashed gray;margin: 0 0.4em 0.5em 0.4em;box-sizing: border-box;padding-bottom: 0.4em;background-color: white;}#sk-container-id-1 div.sk-label label {font-family: monospace;font-weight: bold;display: inline-block;line-height: 1.2em;}#sk-container-id-1 div.sk-label-container {text-align: center;}#sk-container-id-1 div.sk-container {/* jupyter's `normalize.less` sets `[hidden] { display: none; }` but bootstrap.min.css set `[hidden] { display: none !important; }` so we also need the `!important` here to be able to override the default hidden behavior on the sphinx rendered scikit-learn.org. See: https://github.com/scikit-learn/scikit-learn/issues/21755 */display: inline-block !important;position: relative;}#sk-container-id-1 div.sk-text-repr-fallback {display: none;}</style><div id=\"sk-container-id-1\" class=\"sk-top-container\"><div class=\"sk-text-repr-fallback\"><pre>LinearRegression()</pre><b>In a Jupyter environment, please rerun this cell to show the HTML representation or trust the notebook. <br />On GitHub, the HTML representation is unable to render, please try loading this page with nbviewer.org.</b></div><div class=\"sk-container\" hidden><div class=\"sk-item\"><div class=\"sk-estimator sk-toggleable\"><input class=\"sk-toggleable__control sk-hidden--visually\" id=\"sk-estimator-id-1\" type=\"checkbox\" checked><label for=\"sk-estimator-id-1\" class=\"sk-toggleable__label sk-toggleable__label-arrow\">LinearRegression</label><div class=\"sk-toggleable__content\"><pre>LinearRegression()</pre></div></div></div></div></div>"
      ],
      "text/plain": [
       "LinearRegression()"
      ]
     },
     "execution_count": 68,
     "metadata": {},
     "output_type": "execute_result"
    }
   ],
   "source": [
    "#write code here\n",
    "model.fit(xtrain, ytrain)"
   ]
  },
  {
   "cell_type": "code",
   "execution_count": 69,
   "metadata": {},
   "outputs": [],
   "source": [
    "#write code here\n",
    "lr = model.predict(xtrain)"
   ]
  },
  {
   "cell_type": "code",
   "execution_count": 70,
   "metadata": {},
   "outputs": [
    {
     "data": {
      "text/html": [
       "<div>\n",
       "<style scoped>\n",
       "    .dataframe tbody tr th:only-of-type {\n",
       "        vertical-align: middle;\n",
       "    }\n",
       "\n",
       "    .dataframe tbody tr th {\n",
       "        vertical-align: top;\n",
       "    }\n",
       "\n",
       "    .dataframe thead th {\n",
       "        text-align: right;\n",
       "    }\n",
       "</style>\n",
       "<table border=\"1\" class=\"dataframe\">\n",
       "  <thead>\n",
       "    <tr style=\"text-align: right;\">\n",
       "      <th></th>\n",
       "      <th>index</th>\n",
       "      <th>insert_date</th>\n",
       "      <th>origin</th>\n",
       "      <th>destination</th>\n",
       "      <th>start_date</th>\n",
       "      <th>end_date</th>\n",
       "      <th>train_type</th>\n",
       "      <th>price</th>\n",
       "      <th>train_class</th>\n",
       "      <th>fare</th>\n",
       "      <th>travel_time_in_hrs</th>\n",
       "    </tr>\n",
       "  </thead>\n",
       "  <tbody>\n",
       "    <tr>\n",
       "      <th>0</th>\n",
       "      <td>0</td>\n",
       "      <td>6355</td>\n",
       "      <td>2</td>\n",
       "      <td>1</td>\n",
       "      <td>131</td>\n",
       "      <td>179</td>\n",
       "      <td>11</td>\n",
       "      <td>59.5</td>\n",
       "      <td>4</td>\n",
       "      <td>1</td>\n",
       "      <td>4.7</td>\n",
       "    </tr>\n",
       "  </tbody>\n",
       "</table>\n",
       "</div>"
      ],
      "text/plain": [
       "   index insert_date origin destination start_date end_date train_type  price  \\\n",
       "0      0        6355      2           1        131      179         11   59.5   \n",
       "\n",
       "  train_class fare  travel_time_in_hrs  \n",
       "0           4    1                 4.7  "
      ]
     },
     "execution_count": 70,
     "metadata": {},
     "output_type": "execute_result"
    }
   ],
   "source": [
    "df.head(1)"
   ]
  },
  {
   "cell_type": "markdown",
   "metadata": {},
   "source": [
    "#### Task 39: Find out the predictions using test data set."
   ]
  },
  {
   "cell_type": "code",
   "execution_count": 71,
   "metadata": {},
   "outputs": [],
   "source": [
    "#write code here\n",
    "lr_predict = model.predict(xtest)"
   ]
  },
  {
   "cell_type": "code",
   "execution_count": 72,
   "metadata": {},
   "outputs": [
    {
     "data": {
      "text/plain": [
       "array([[69.6354348 ],\n",
       "       [62.7110419 ],\n",
       "       [14.76865945],\n",
       "       ...,\n",
       "       [54.76561514],\n",
       "       [29.36954589],\n",
       "       [54.80856789]])"
      ]
     },
     "execution_count": 72,
     "metadata": {},
     "output_type": "execute_result"
    }
   ],
   "source": [
    "lr_predict"
   ]
  },
  {
   "cell_type": "code",
   "execution_count": 73,
   "metadata": {},
   "outputs": [
    {
     "data": {
      "text/plain": [
       "array([[-6.65145408e-06,  2.17141254e-05, -8.66551057e+00,\n",
       "        -9.35070174e+00, -6.66138431e-02,  4.99537914e-02,\n",
       "        -2.04073318e+00, -9.67353278e-01, -7.08571057e+00,\n",
       "        -3.20169845e+00]])"
      ]
     },
     "execution_count": 73,
     "metadata": {},
     "output_type": "execute_result"
    }
   ],
   "source": [
    "model.coef_"
   ]
  },
  {
   "cell_type": "markdown",
   "metadata": {},
   "source": [
    "#### Task 40: Find out the predictions using training data set."
   ]
  },
  {
   "cell_type": "code",
   "execution_count": 74,
   "metadata": {},
   "outputs": [
    {
     "data": {
      "text/plain": [
       "array([[62.27154529],\n",
       "       [49.99291916],\n",
       "       [81.73873359],\n",
       "       ...,\n",
       "       [30.02146079],\n",
       "       [27.08920075],\n",
       "       [80.76998962]])"
      ]
     },
     "execution_count": 74,
     "metadata": {},
     "output_type": "execute_result"
    }
   ],
   "source": [
    "#write code here\n",
    "lr_predict_train = model.predict(xtrain)\n",
    "lr_predict_train"
   ]
  },
  {
   "cell_type": "markdown",
   "metadata": {},
   "source": [
    "#### Task 41: Import r2_score library form sklearn"
   ]
  },
  {
   "cell_type": "code",
   "execution_count": 75,
   "metadata": {},
   "outputs": [],
   "source": [
    "#write code here\n",
    "from sklearn.metrics import r2_score"
   ]
  },
  {
   "cell_type": "markdown",
   "metadata": {},
   "source": [
    "#### Task 42: Find out the R2 Score for test data and print it."
   ]
  },
  {
   "cell_type": "code",
   "execution_count": 76,
   "metadata": {},
   "outputs": [
    {
     "name": "stdout",
     "output_type": "stream",
     "text": [
      "R2 score for testing: 0.7295873257851859\n"
     ]
    }
   ],
   "source": [
    "#write code here\n",
    "test_r2=r2_score(ytest,lr_predict)\n",
    "print('R2 score for testing:',test_r2)"
   ]
  },
  {
   "cell_type": "markdown",
   "metadata": {},
   "source": [
    "#### Task 43: Find out the R2 Score for training data and print it."
   ]
  },
  {
   "cell_type": "code",
   "execution_count": 77,
   "metadata": {},
   "outputs": [
    {
     "name": "stdout",
     "output_type": "stream",
     "text": [
      "R2 score for training: 0.7289396039797562\n"
     ]
    }
   ],
   "source": [
    "lr_r2_train = r2_score(ytrain,lr_predict_train)\n",
    "print('R2 score for training:',lr_r2_train )"
   ]
  },
  {
   "cell_type": "markdown",
   "metadata": {},
   "source": [
    "Comaparing training and testing R2 scores"
   ]
  },
  {
   "cell_type": "code",
   "execution_count": 78,
   "metadata": {},
   "outputs": [
    {
     "name": "stdout",
     "output_type": "stream",
     "text": [
      "R2 score for Linear Regression Training Data is:  0.7289396039797562\n",
      "R2 score for Linear Regression Testing Data is:  0.7295873257851859\n"
     ]
    }
   ],
   "source": [
    "print('R2 score for Linear Regression Training Data is: ', lr_r2_train)\n",
    "print('R2 score for Linear Regression Testing Data is: ', test_r2)"
   ]
  },
  {
   "cell_type": "markdown",
   "metadata": {},
   "source": [
    "# Applying Polynomial Regression"
   ]
  },
  {
   "cell_type": "markdown",
   "metadata": {},
   "source": [
    "#### Task 44: Import PolynomialFeatures from sklearn"
   ]
  },
  {
   "cell_type": "code",
   "execution_count": 79,
   "metadata": {},
   "outputs": [],
   "source": [
    "#write code here\n",
    "from sklearn.preprocessing import PolynomialFeatures"
   ]
  },
  {
   "cell_type": "markdown",
   "metadata": {},
   "source": [
    "#### Task 45: Make and object of default Polynomial Features"
   ]
  },
  {
   "cell_type": "code",
   "execution_count": 80,
   "metadata": {},
   "outputs": [],
   "source": [
    "#write code here\n"
   ]
  },
  {
   "cell_type": "markdown",
   "metadata": {},
   "source": [
    "#### Task 46: Transform the features to higher degree features."
   ]
  },
  {
   "cell_type": "code",
   "execution_count": 82,
   "metadata": {},
   "outputs": [],
   "source": [
    "#write code here\n",
    "#X_train_poly,X_test_poly = None"
   ]
  },
  {
   "cell_type": "markdown",
   "metadata": {},
   "source": [
    "#### Task 47: Fit the transformed features to Linear Regression"
   ]
  },
  {
   "cell_type": "code",
   "execution_count": null,
   "metadata": {},
   "outputs": [],
   "source": [
    "#write code here\n",
    "poly_model = None"
   ]
  },
  {
   "cell_type": "markdown",
   "metadata": {},
   "source": [
    "#### Task 48: Find the predictions on the data set"
   ]
  },
  {
   "cell_type": "code",
   "execution_count": null,
   "metadata": {},
   "outputs": [],
   "source": [
    "#write code here\n",
    "y_train_predicted,y_test_predict = None"
   ]
  },
  {
   "cell_type": "markdown",
   "metadata": {},
   "source": [
    "#### Task 49: Evaluate R2 score for training data set"
   ]
  },
  {
   "cell_type": "code",
   "execution_count": null,
   "metadata": {},
   "outputs": [],
   "source": [
    "#evaluating the model on training dataset\n",
    "#write code here\n",
    "r2_train = None"
   ]
  },
  {
   "cell_type": "markdown",
   "metadata": {},
   "source": [
    "#### Task 50: Evaluate R2 score for test data set"
   ]
  },
  {
   "cell_type": "code",
   "execution_count": null,
   "metadata": {},
   "outputs": [],
   "source": [
    "# evaluating the model on test dataset\n",
    "#write code here\n",
    "r2_test = None"
   ]
  },
  {
   "cell_type": "markdown",
   "metadata": {},
   "source": [
    "Comaparing training and testing R2 scores"
   ]
  },
  {
   "cell_type": "code",
   "execution_count": null,
   "metadata": {
    "scrolled": true
   },
   "outputs": [],
   "source": [
    "#write code here\n",
    "print ('The r2 score for training set is: ',r2_train)\n",
    "print ('The r2 score for testing set is: ',r2_test)"
   ]
  },
  {
   "cell_type": "markdown",
   "metadata": {},
   "source": [
    "#### Task 51: Select the best model"
   ]
  },
  {
   "cell_type": "markdown",
   "metadata": {},
   "source": [
    "**Question: Which model gives the best result for price prediction? Find out the complexity using R2 score and give your answer.**<br>\n",
    "*Hint: Use for loop for finding the best degree and model complexity for polynomial regression model*"
   ]
  },
  {
   "cell_type": "code",
   "execution_count": null,
   "metadata": {},
   "outputs": [],
   "source": [
    "#write code here\n",
    "r2_train=[]\n",
    "r2_test=[]\n",
    "for i in range(1,6):\n",
    "    poly_reg = None\n",
    "    \n",
    "    X_tr_poly,X_tst_poly = None\n",
    "    poly = None\n",
    "    poly.fit(X_tr_poly, Y_train)\n",
    "   \n",
    "    y_tr_predicted,y_tst_predict = None\n",
    "    r2_train.append(r2_score(Y_train, y_tr_predicted))\n",
    "    r2_test.append(r2_score(Y_test, y_tst_predict))\n",
    "    \n",
    "print ('R2 Train', r2_train)\n",
    "print ('R2 Test', r2_test)"
   ]
  },
  {
   "cell_type": "markdown",
   "metadata": {},
   "source": [
    "#### Plotting the model"
   ]
  },
  {
   "cell_type": "code",
   "execution_count": null,
   "metadata": {},
   "outputs": [],
   "source": [
    "plt.figure(figsize=(18,5))\n",
    "sns.set_context('poster')\n",
    "plt.subplot(1,2,1)\n",
    "sns.lineplot(x=list(range(1,6)), y=r2_train, label='Training');\n",
    "plt.subplot(1,2,2)\n",
    "sns.lineplot(x=list(range(1,6)), y=r2_test, label='Testing');"
   ]
  },
  {
   "cell_type": "markdown",
   "metadata": {},
   "source": [
    "**Answer**"
   ]
  },
  {
   "cell_type": "code",
   "execution_count": null,
   "metadata": {},
   "outputs": [],
   "source": []
  }
 ],
 "metadata": {
  "kernelspec": {
   "display_name": "Python 3 (ipykernel)",
   "language": "python",
   "name": "python3"
  },
  "language_info": {
   "codemirror_mode": {
    "name": "ipython",
    "version": 3
   },
   "file_extension": ".py",
   "mimetype": "text/x-python",
   "name": "python",
   "nbconvert_exporter": "python",
   "pygments_lexer": "ipython3",
   "version": "3.11.7"
  }
 },
 "nbformat": 4,
 "nbformat_minor": 4
}
